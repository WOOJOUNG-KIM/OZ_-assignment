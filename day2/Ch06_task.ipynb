{
  "cells": [
    {
      "cell_type": "markdown",
      "metadata": {
        "id": "yPCr54ABcNv6"
      },
      "source": [
        "<span style=\"font-size:100%\">\n",
        "\n",
        "수업은 모두 열심히 들으셨나요?\n",
        "\n",
        "간혹 강의에서 언급되지 않은 내용이 문제로 나올 수 있습니다.<br>\n",
        "그럴땐 강의 내용 외 문제는 구글링을 통해 해결해주세요<br></span>\n",
        "<span style=\"font-size:80%\">\n",
        "(구글링 또한 개발자가 갖쳐야할 역량 중에 하나랍니다 😊)\n",
        "</span>\n",
        "\n",
        "---"
      ]
    },
    {
      "cell_type": "markdown",
      "metadata": {
        "id": "tsVsN9SHcNv7"
      },
      "source": [
        "<span style=\"font-size:80%\">[문제1]<br><br></span>\n",
        "```실수를 정수로 만드는 식으로 올바른 것을 고르세요```\n",
        "\n",
        "1. str(3.5)\n",
        "2. int(3.5)\n",
        "3. float(3.5)"
      ]
    },
    {
      "cell_type": "markdown",
      "metadata": {
        "id": "MHn9yzkgcNv7"
      },
      "source": [
        "<span style=\"color:red\">답변</span>"
      ]
    },
    {
      "cell_type": "markdown",
      "metadata": {
        "id": "QP0BvwoacNv7"
      },
      "source": [
        "2번"
      ]
    },
    {
      "cell_type": "markdown",
      "metadata": {
        "id": "BpHri9A6cNv7"
      },
      "source": [
        "----"
      ]
    },
    {
      "cell_type": "markdown",
      "metadata": {
        "id": "lDzsceW8cNv8"
      },
      "source": [
        "<span style=\"font-size:80%\">[문제2]<br><br></span>\n",
        "```실수 3.5의 type과 동일한 것을 고르세요```\n",
        "\n",
        "1. float(17//3)\n",
        "2. int(10)-9\n",
        "3. float11/2\n",
        "4. float(10)-2"
      ]
    },
    {
      "cell_type": "markdown",
      "metadata": {
        "id": "-pXMOX-ncNv8"
      },
      "source": [
        "<span style=\"color:red\">답변</span>"
      ]
    },
    {
      "cell_type": "markdown",
      "metadata": {
        "id": "mCWP03lqcNv8"
      },
      "source": [
        "1번 3번 4번"
      ]
    },
    {
      "cell_type": "markdown",
      "metadata": {
        "id": "hz8Z-RzycNv8"
      },
      "source": [
        "----"
      ]
    },
    {
      "cell_type": "markdown",
      "metadata": {
        "id": "Bn8yPoWpcNv8"
      },
      "source": [
        "<span style=\"font-size:80%\">[문제3]<br><br></span>\n",
        "```type(3.0 + 7.0)의 결과로 올바른 것을 고르세요```\n",
        "\n",
        "1. 10\n",
        "2. 10.0\n",
        "3. int\n",
        "4. float"
      ]
    },
    {
      "cell_type": "markdown",
      "metadata": {
        "id": "hkoenWc-cNv8"
      },
      "source": [
        "<span style=\"color:red\">답변</span>"
      ]
    },
    {
      "cell_type": "markdown",
      "metadata": {
        "id": "ofWoiwmacNv8"
      },
      "source": [
        "4번"
      ]
    },
    {
      "cell_type": "markdown",
      "metadata": {
        "id": "ETNwn-qNcNv8"
      },
      "source": [
        "----"
      ]
    },
    {
      "cell_type": "markdown",
      "metadata": {
        "id": "q0d9YED3cNv8"
      },
      "source": [
        "<span style=\"font-size:80%\">[문제4]<br><br></span>\n",
        "```float(5)의 결과로 올바른 것을 고르세요```\n",
        "\n",
        "1. 5\n",
        "2. `<class float>`\n",
        "3. 5.0\n",
        "4. type error"
      ]
    },
    {
      "cell_type": "markdown",
      "metadata": {
        "id": "yqUHqJdJcNv8"
      },
      "source": [
        "<span style=\"color:red\">답변</span>"
      ]
    },
    {
      "cell_type": "markdown",
      "metadata": {
        "id": "wGOARLBgcNv8"
      },
      "source": [
        "3번"
      ]
    },
    {
      "cell_type": "markdown",
      "metadata": {
        "id": "w926IoQmcNv8"
      },
      "source": [
        "----"
      ]
    },
    {
      "cell_type": "markdown",
      "metadata": {
        "id": "7NdM16z_cNv8"
      },
      "source": [
        "<span style=\"font-size:80%\">[문제5]<br><br></span>\n",
        "```int(13 / 2)의 결과로 올바른 것을 고르세요```\n",
        "\n",
        "1. 6.5\n",
        "2. 1\n",
        "3. 6\n",
        "4. 6.0"
      ]
    },
    {
      "cell_type": "markdown",
      "metadata": {
        "id": "fQpZ9WqWcNv8"
      },
      "source": [
        "<span style=\"color:red\">답변</span>"
      ]
    },
    {
      "cell_type": "markdown",
      "metadata": {
        "id": "mUTA82S0cNv8"
      },
      "source": [
        "3번"
      ]
    }
  ],
  "metadata": {
    "language_info": {
      "name": "python"
    },
    "colab": {
      "provenance": []
    },
    "kernelspec": {
      "name": "python3",
      "display_name": "Python 3"
    }
  },
  "nbformat": 4,
  "nbformat_minor": 0
}