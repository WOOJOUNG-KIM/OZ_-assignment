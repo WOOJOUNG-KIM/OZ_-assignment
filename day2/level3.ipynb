{
  "cells": [
    {
      "cell_type": "markdown",
      "metadata": {
        "id": "WXEwMsfUct7U"
      },
      "source": [
        "안녕하세요.<br><br>\n",
        "수강생 여러분~!\n",
        "\n",
        "\"Challenge : Chapter05 ~ 08 문제풀기\"는 잘 풀어보셨나요?\n",
        "\n",
        "\n",
        "너~~무 어려웠어요! 하는 분들을 위해 만들어봤습니다!\n",
        "\n",
        "문제 도장깨기 !!!!!\n",
        "\n",
        "차근차근 풀어나가면 파이썬 정복 가능입니다!\n",
        "\n",
        "화이팅 !\n",
        "\n",
        "\n",
        "Chapter05~08의 수업 내용을 바탕으로 아래 문제를 풀어주시면 됩니다.\n",
        "\n",
        "<br>\n",
        "\n",
        "[**답변 입력 방법**]\n",
        "\n",
        "문제 아래에 있는 코드 입력창에 정답코드를 작성하신 후  __▷ 버튼을 클릭해 코드를 실행__ 해보세요<br>\n",
        "<br>"
      ]
    },
    {
      "cell_type": "markdown",
      "metadata": {
        "id": "qoyC9wF-3hvs"
      },
      "source": [
        "-----"
      ]
    },
    {
      "cell_type": "markdown",
      "metadata": {
        "id": "OEJbOljrWd6Y"
      },
      "source": [
        "<br>\n",
        "\n",
        "__[문제1]__\n",
        "\n",
        "미션 부수기 챌린지\n",
        "\n",
        "다음 미션을 차례대로 부숴주세요.\n",
        "\n",
        "<br>\n",
        "\n",
        "__미션__\n",
        "- x에 5를 할당하고, y에는 10을 할당\n",
        "- x의 값을 제곱하고, 그 값을 z에 할당\n",
        "- y의 값을 2로 나눈 후, 그 값을 a에 할당\n",
        "- a와 z를 더한 값을 b에 할당\n",
        "- b의 값이 x와 같은지 출력\n",
        "-  b와 a를 문자열로 변환하여 합친 결과를 출력\n",
        "\n",
        "\n",
        "<br>"
      ]
    },
    {
      "cell_type": "code",
      "execution_count": 5,
      "metadata": {
        "colab": {
          "base_uri": "https://localhost:8080/"
        },
        "id": "IdeEV0gvWd6Z",
        "outputId": "d6b5fccf-8a37-4f70-db52-8cd19715b026"
      },
      "outputs": [
        {
          "output_type": "stream",
          "name": "stdout",
          "text": [
            "False\n",
            "30.05.0\n"
          ]
        }
      ],
      "source": [
        "#x에 5를 할당하고, y에는 10을 할당\n",
        "x = 5\n",
        "y = 10\n",
        "\n",
        "#x의 갑을 저곱하고, 그 값을 z에 할당\n",
        "z = x ** 2\n",
        "\n",
        "#y의 값을 2로 나눈 후, 그 값을 a에 할당\n",
        "a = y / 2\n",
        "\n",
        "# a와 z를 더한 값을 b에 할당\n",
        "b = a + z\n",
        "\n",
        "#b의 값이 x와 같은지 출력\n",
        "result = b == x\n",
        "\n",
        "print(result)\n",
        "\n",
        "#b와 a를 str() 문자열로 변환하여 합친 결과를 출력\n",
        "result_str = str(b) + str(a)\n",
        "\n",
        "print(result_str)"
      ]
    },
    {
      "cell_type": "markdown",
      "metadata": {
        "id": "ZZ4gz7afWd6Z"
      },
      "source": [
        "<br>\n",
        "\n",
        "__[문제2]__\n",
        "\n",
        "변수 num에 \"45.67\" 이라는 문자열을 할당하고,\n",
        "\n",
        "파이썬 나라에서 돌다리를 건너려고 합니다.\n",
        "\n",
        "이 돌다리는 반드시 두드려 보고 건너야 합니다.\n",
        "\n",
        "미션을 해결하면 자동으로 단단한 돌다리인지 확인 됩니다!\n",
        "\n",
        "아래의 미션을 확인하고 돌다리를 건너주세요!\n",
        "\n",
        "<br>\n",
        "\n",
        "__미션__\n",
        "- 문자열 할당 (num)\n",
        "- 소수점 포함 숫자로 출력\n",
        "- 정수만 출력\n",
        "\n",
        "<br>"
      ]
    },
    {
      "cell_type": "code",
      "source": [
        "#문자열 할당\n",
        "unm = 45.67\n",
        "\n",
        "# float 를이용해 소수점 포함 숫자로 출력\n",
        "result = float(unm)\n",
        "\n",
        "# int 를 이용해정수만 출력\n",
        "result_int = int(unm)\n",
        "\n",
        "print(result_int)\n",
        "\n",
        "#그냥 두드리고 확인 해서 건너고 싶다.."
      ],
      "metadata": {
        "colab": {
          "base_uri": "https://localhost:8080/"
        },
        "id": "A1VRHVU3YvLC",
        "outputId": "dd5a5286-9269-4573-8cfc-63f214379068"
      },
      "execution_count": 12,
      "outputs": [
        {
          "output_type": "stream",
          "name": "stdout",
          "text": [
            "45\n"
          ]
        }
      ]
    },
    {
      "cell_type": "markdown",
      "metadata": {
        "id": "rAD_O3Gmc_43"
      },
      "source": [
        "<br>\n",
        "\n",
        "__[문제3]__\n",
        "\n",
        "첫 번째 공백을 기준으로 앞부분만 추출해주세요!\n",
        "\n",
        "<br>\n",
        "\n",
        "__text = \"Hello World Python\"__\n"
      ]
    },
    {
      "cell_type": "code",
      "execution_count": 20,
      "metadata": {
        "id": "74wtVQFFc_h1",
        "colab": {
          "base_uri": "https://localhost:8080/"
        },
        "outputId": "64c51cdc-739d-47b4-bd14-964b9177b172"
      },
      "outputs": [
        {
          "output_type": "stream",
          "name": "stdout",
          "text": [
            "Hello\n"
          ]
        }
      ],
      "source": [
        "#변수 가저오기\n",
        "text = \"Hello World Python\"\n",
        "\n",
        "# 공백 을 기준으로 나누기\n",
        "text2 = text.split(\" \")\n",
        "\n",
        "#나눠서 공백기준 Hello 만 가져오기?\n",
        "text3 = text2[0]\n",
        "\n",
        "#결과\n",
        "print(text3)"
      ]
    },
    {
      "cell_type": "markdown",
      "metadata": {
        "id": "3uK_auXYdgk2"
      },
      "source": [
        "<br>__[문제4]__\n",
        "\n",
        "문자열 \"PythonProgramming\" 이 주어졌을 때, 다음 미션을 해결해주세요!\n",
        "\n",
        "<br>\n",
        "\n",
        "__미션__\n",
        "- \"Python\"을 출력\n",
        "- \"Programming\" 출력\n",
        "- \"Pyg\" 출력\n",
        "- \"in\" 출력"
      ]
    },
    {
      "cell_type": "code",
      "execution_count": 85,
      "metadata": {
        "id": "9kvBxa6PdhgA",
        "colab": {
          "base_uri": "https://localhost:8080/"
        },
        "outputId": "3a7eb794-92d6-4db1-dbc1-8c5c34c39a7a"
      },
      "outputs": [
        {
          "output_type": "stream",
          "name": "stdout",
          "text": [
            "Python\n",
            "Programming\n",
            "Pyg\n",
            "in\n"
          ]
        }
      ],
      "source": [
        "#문자열 나열\n",
        "text = \"PythonProgramming\"\n",
        "\n",
        "\n",
        "# Python 만 출력\n",
        "text1 = text.replace(\"Programming\", \"\")\n",
        "\n",
        "print(text1)\n",
        "\n",
        "# Programming 만 출력\n",
        "text2 = text.replace(\"Python\", \"\")\n",
        "\n",
        "print(text2)\n",
        "\n",
        "# Pyg 만 출력\n",
        "text3 = text.replace(\"thonProgrammin\", \"\")\n",
        "\n",
        "print(text3)\n",
        "\n",
        "# in만 출력\n",
        "text4 = text[14:16]\n",
        "\n",
        "print(text4)"
      ]
    },
    {
      "cell_type": "markdown",
      "metadata": {
        "id": "2Jte2VLKdiPm"
      },
      "source": [
        "__[문제5]__\n",
        "\n",
        "해외로 편지를 보냅니다.\n",
        "\n",
        "영어를 알파벳만 알기 때문에 아는 것만 적어 보내려고 합니다.\n",
        "\n",
        "근데 중간에 오타가 발생해버렸네요! 문자열의 일부를 바꿔 올바르게 고쳐 주세요. (소문자)\n",
        "\n",
        "<br>\n",
        "\n",
        "__word = \"abcXYZgh\"__\n"
      ]
    },
    {
      "cell_type": "code",
      "execution_count": 87,
      "metadata": {
        "colab": {
          "base_uri": "https://localhost:8080/"
        },
        "id": "5spRs2FIWd6b",
        "outputId": "cc05ffa7-033c-466a-e3a9-df26a6adcdc6"
      },
      "outputs": [
        {
          "output_type": "stream",
          "name": "stdout",
          "text": [
            "abcxyzgh\n"
          ]
        }
      ],
      "source": [
        "#변수 문자 출력\n",
        "word = \"abcXYZgh\"\n",
        "\n",
        "# 아는영어 중 대문자 오타가 있어 소문자로 수정해주기\n",
        "result = word.replace(\"XYZ\", \"xyz\")\n",
        "\n",
        "# 결과\n",
        "print(result)"
      ]
    }
  ],
  "metadata": {
    "colab": {
      "provenance": []
    },
    "kernelspec": {
      "display_name": "Python 3",
      "name": "python3"
    },
    "language_info": {
      "codemirror_mode": {
        "name": "ipython",
        "version": 3
      },
      "file_extension": ".py",
      "mimetype": "text/x-python",
      "name": "python",
      "nbconvert_exporter": "python",
      "pygments_lexer": "ipython3",
      "version": "3.12.3"
    }
  },
  "nbformat": 4,
  "nbformat_minor": 0
}