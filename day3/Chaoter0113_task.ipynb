{
  "cells": [
    {
      "cell_type": "markdown",
      "metadata": {
        "id": "fD4Qab2qYgOm"
      },
      "source": [
        "안녕하세요. 수강생 여러분~!\n",
        "\n",
        "Chapter01 ~ 13의 수업 내용을 바탕으로 아래 문제를 풀어주시면 됩니다 !\n",
        "\n",
        "지금까지 잘 해오셨으니까, 총 복습한다고 생각하시고 한번 도전해보세요 !!!\n",
        "\n",
        "\n",
        "<br>\n",
        "\n",
        "\n",
        "[**답변 입력 방법**]\n",
        "\n",
        "문제 아래에 있는 코드 입력창에 정답코드를 작성하신 후  __▷ 버튼을 클릭해 코드를 실행__ 해보세요<br>"
      ]
    },
    {
      "cell_type": "markdown",
      "metadata": {
        "id": "sTBMEmh1vSy7"
      },
      "source": [
        "---"
      ]
    },
    {
      "cell_type": "markdown",
      "metadata": {
        "id": "h7fYAB6cvSy7"
      },
      "source": [
        "### 프로젝트: 간단한 ATM 관리 시스템\n",
        "<br>\n",
        "\n",
        "__[문제 1: 잔액 확인]__\n",
        "\n",
        "현재 잔액은 1000원입니다. 현재 잔액을 출력하세요.\n",
        "\n",
        "(변수명 예시 : 잔액 - balance)"
      ]
    },
    {
      "cell_type": "code",
      "execution_count": null,
      "metadata": {
        "id": "Jl6W38LuvSy8"
      },
      "outputs": [],
      "source": [
        "balance = 1000\n",
        "print(f\"현재 잔액은 {balance}원 입니다.\")"
      ]
    },
    {
      "cell_type": "markdown",
      "metadata": {
        "id": "4oW3H6g7vSy8"
      },
      "source": [
        "__[문제 2: 입금]__\n",
        "\n",
        "가지고 있는 돈을 입금합니다.\n",
        "\n",
        "입금 금액을 입력받고, 잔액을 갱신한 후 새로운 잔액을 출력하세요. 입금 거래를 영수증 리스트에 기록하세요.\n",
        "\n",
        "- 입금 금액은 input()을 이용해 받습니다.\n",
        "- 영수증은 list()로 선언합니다.\n",
        "- 영수증에 들어가는 정보는 튜플 형태입니다.\n",
        "- 튜플에 담기는 정보는 (입금 or 출금, 입금 or 출금 금액, 현재 잔액)순 입니다.\n",
        "\n",
        "(변수명 예시: 영수증 리스트 - receipts, 입금 금액 - deposit_amount)\n"
      ]
    },
    {
      "cell_type": "code",
      "execution_count": null,
      "metadata": {
        "id": "RYSWY2sCvSy8"
      },
      "outputs": [],
      "source": []
    },
    {
      "cell_type": "markdown",
      "metadata": {
        "id": "4tVqrvtHvSy8"
      },
      "source": [
        "__[문제 3: 출금]__\n",
        "\n",
        "사용자가 돈을 출금합니다. 출금 금액을 입력받고, 잔액을 갱신한 후 새로운 잔액을 출력하세요. 출금 거래를 영수증 리스트에 기록하세요.\n",
        "\n",
        "- 출금 금액은 input()을 이용해 받습니다.\n",
        "- 현재 잔액보다 출금 요청 금액이 많을 경우 현재 잔액 만큼만 출금되도록 합니다.\n",
        "- 영수증에 들어가는 정보는 튜플 형태입니다.\n",
        "- 튜플에 담기는 정보는 (입금 or 출금, 입금 or 출금 금액, 현재 잔액)순 입니다.\n",
        "\n",
        "(변수명 예시: 출금금액 - withdraw_amount)"
      ]
    },
    {
      "cell_type": "code",
      "execution_count": 1,
      "metadata": {
        "id": "8B-Mbid1vSy8",
        "outputId": "484133dc-0a1c-4a52-9dee-0ca3cd7717fc",
        "colab": {
          "base_uri": "https://localhost:8080/",
          "height": 482
        }
      },
      "outputs": [
        {
          "output_type": "stream",
          "name": "stdout",
          "text": [
            "==================================\n",
            "     OZ_academy     은행ATM\n",
            "==================================\n",
            "1. 입금\n",
            "2. 출금\n",
            "3. 영수증출력\n",
            "4. 잔고조회\n",
            "5. 종료\n",
            "==================================\n",
            "메뉴를 선택하세요: 5\n",
            "은행을 이용해주셔서 감사합니다.\n"
          ]
        },
        {
          "output_type": "execute_result",
          "data": {
            "text/plain": [
              "'\\n많은 블로그를 보고 검색하고 찾아보고 참고 하며 만들었습니다\\n\\n\\nreceipts = []  # 영수증 기록 리스트\\nmyMoney = 0    # 초기 잔고 설정\\nBank_neme = \"OZ_academy\"\\n\\n예시대로 리스트를 receipts = [] 영수증 기록을 저장 하기 위한 변수로 만들었습니다\\nmyMonet 변수는 가지고인는 초기 금액을 지정했습니다\\n은행 ATM 이름은 Bank_neme 변수로 지정했습니다\\n\\n\\n# 무한 반복문을 이용\\nwhile True:\\n    print(\"==================================\")\\n    print(f\"     {Bank_neme}     은행ATM\")\\n    print(\"==================================\")\\n    print(\"1. 입금\")\\n    print(\"2. 출금\")\\n    print(\"3. 영수증출력\")\\n    print(\"4. 잔고조회\")\\n    print(\"5. 종료\")\\n    print(\"==================================\")\\n    menu = input(\"메뉴를 선택하세요: \")\\n\\nwhile True: 무한 반복문으로 사용 하여 메뉴 판을 계속 보여주게 만들었습니다\\n5번을 입력 하기 전까지 프로 메뉴판은 종료 되지 안습니다.\\n\\n하지만 여기서 왜 print 를 많이 사용 했냐면 일반 변수로 했을시 한눈에 메뉴 구성이 잘 보이지 않아\\n코드를 한눈에 보기 힘들수고 있어 여러 print 출력 으로 메뉴를 구성해\\nmenu 변수에 입력할수 있게 input() 를 적용 했습니다\\n\\n\\n# 메뉴 1번을 입력 하여 원하는 금액을 입금 한다\\n\\n    if menu == \"1\":\\n        deposit_amount = int(input(\"입금할 금액을 입력하세요: \"))\\n        myMoney += deposit_amount\\n\\n\\n결과 창에 보면 번호 입력 하는창에 나오는데\\n1 을 입력 하여 입금 창에 들어가 원하는 금액을 입력합니다\\n\\ndeposit_amount 변수에 정수로 바꿔주는 int() 안에 input() 사용 하여 입력한 금액을 변수에 저장 합니다\\nmyMonet 에 += 더하고 대립 한다는 연산자 를 이용해 deposit_amount 잔액을 갱신 합니다\\n\\n\\n# 금액과 입금이 완료되었다는 것을 알려준다\\n        receipts.append((deposit_amount, myMoney))\\n        print(f\"{deposit_amount}원이 입금되었습니다.\")\\n\\n튜플 (deposit_amount, myMoeny) 는 각 입출금의 금액과 현재 잔액을 한 번에 저장하기 좋기에 사용 했습니다\\n또한 튜플을 사용하면 , 데이터를 명확히 구분 할수 있어서 코드를 이해하기 쉽습니다\\n\\n허나 처음에 블로그에 왜? (()) 두개를 쓰지? 하고 여러 블로그를 차자 다니며\\n이유를 알았습니다 저희가 receipts = [] 빈리스트를 만들었고 이것을 [] 안에 값을 넣기 위해\\nreceipts.append()안에 (deposit_amount, myMoney) 튜플을 한번더 넣었습니다\\n그래야 오류가 안나더라구요\\n\\n그렇게 하여 receipts.append()리스트에 (deposit_amount, myMoney) 입금한 금액과 내 잔고를\\n데이터 추가를 했습니다\\n\\nf-sting 포매팅 문자열을 사용하여 깔끔하게 출력을 할수 있다는것을 알아 결과에 사용하였습니다\\n\\n# 메뉴 2번을 눌러 출금\\n\\n    elif menu == \"2\":\\n        withdraw_amount = int(input(\"출금할 금액을 입력하세요: \"))\\n        if withdraw_amount <= myMoney:\\n            myMoney -= withdraw_amount\\n            receipts.append((-withdraw_amount, myMoney))\\n            print(f\"{withdraw_amount}원이 출금되었습니다.\")\\n        else:\\n            print(\"잔액이 부족합니다.\")\\n\\n2번을 입력하여 출금으로 갈수있게\\nif 밑에 elif의 또 다른 조건을 확인 하는 elid 를 사용하여\\n메뉴 1번과 같이 2번을 입력하여\\nwithdraw_amount 를 인출금액이라는 변수의 수를 적용하여 인출금액을 입력할수 있게 하였고\\n그밑에 조건문 if를 하나 더하여 가지도 있는 돈보다 더 크면 실행 못하게 만들었습니다\\nwithdraw_amount <= myMony 1변수 보다 2변수의 수가 클시에는 else를 이용하여 \"잔액이 부족합니다\"\\n로 출금 못하게 적용 해봤고\\n\\nmyMonet -= withdraw_amount 출금 을 하게 된다면 1변수 소지하고 있는 돈에서\\nwithdraw_amount 입력 된 수를 빼게 설정을 하였습니다\\n출금시 receipts.append()리스트 데이터를 추가 하기위해 (-wihdeaw_anount, myMoney)를 넣어\\n데이터를 또 추가를 해줍니다\\n\\n\\n\\n# 메뉴 3번을 눌러 영수증 출력 Y 또는 N을 눌러 확인과 돌아가기를 선택\\n\\n    elif menu == \"3\":\\n        Question = input(\"영수증을 출력하시겠습니까? (Y/N): \")\\n        if any(Question.lower() == y for y in [\"yes\", \\'y\\']):\\n            print(\"========== 영수증 ==========\")\\n            for receipt in receipts:\\n                if receipt[0] > 0:                 # 입금 내역\\n                print(f\"입금: {receipt[0]}원\")\\n            else:\\n                    print(f\"출금: {-receipt[0]}원\")  # 출금 내역\\n                print(f\"현재 잔액: {myMoney}원\")\\n            print(\"===========================\")\\n        elif any(Question.lower() == n for n in [\"no\", \"n\"]):\\n            print(\"영수증 출력을 취소하셨습니다.\")\\n\\n여기서도 2번 처럼 elif 또다른 조건문을 사용하여\\n메뉴 3번을 입력하게 만들어 영수증을 출력 할수있게 만들었습니다\\n근데... 여기서 영수증을 어떻게 출력하게 할까? 생각하고 고민을 했습니다... 진짜..\\n일단은 여러방법으로 시도하여 입금 과 출금 내역 잔액 receipts 리스트를 출력해야 겠다 생각을 했고\\n\\n그냥 print(receipts) 하자! 하여 실행했으나 이쁘고 깔끔 하지가 않아 엄청 해매인거 같습니다\\n그리하여 질문을 하였고 for 을 이용 해보는거 어떠냐 하여 어? for이 있었지? 생각 하여\\n여러 방식으로 조합을 하다보니 계속 오류가나 솔찍히 지인 찬스를 통해 알게 됬습니다\\n\\nfor은 반복문인데 만약에 오빠가 receipts = [] 내역을 a로 in 을 사용해 넣고 (in은 알지? 라는 무시받으며)\\n오빠가 사용한 receipts = [] 변수 안에있는 것을 a 에 넣었으니 > 0: 이용해서\\n0보다 큰지 확인을 해서 if 한테 만약 a[0] 가 > 0: 보다 크면\\nprint()에 a[0] 을 넣으면 답이나와\\n출금은 그건 반대로 생각해서 음수 를 양수 로바꾼다고 생각해봐 하여 입금 내역 출금내역을 정하게 되었고\\n솔찍히 블로그 보면서 어느정도 따라 한거라 욕먹을 각오로\\n그럼 any() 이것만 알려주고 욕해! 라고 부탁을 했고\\n\\n실행 하면 입풋에 오빠가 input 이용해 (Y/N) 입력하라 설명 했고 그 밑에\\nif 한테 부탁해서 입력 할수 있는 단어를 만들어줘야 하는데\\nany() 는 질문에 해당하는 것이 == 조건은 같게해서 a for a in [\"apple\", \\'a\\']을 이용해서\\nany() 는 조건이 같다면 실행 하게된다? 라는 식으로 이해 하면 될거야\\n그리고 .lower() 을 질문에 붙여서 하면 대문자 소문자 둘다 적용 하는거니깐 일단 토대로 해봐\\n\\n해서 진행한 결과가 이렇게 만들어 졌습니다\\n\\n\\n    # 메뉴 4번을 눌러 잔고조회 하여 잔액 출력\\n    elif menu == \"4\":\\n        print(f\"현재 잔액은 {myMoney}원입니다.\")\\n\\n메뉴 4번은 잔고 조회 이기 때문에\\n4번을 입력 하면 myMoney 답이 나오게 했습니다\\n\\n    # 메뉴 5번 을 입력해 종료를 한다\\n    elif menu == \"5\":\\n        print(\"은행을 이용해주셔서 감사합니다.\")\\n        break\\n\\n메뉴 5번은 이제 while True 무한 반복문이 가동하고 있으니\\n5번을 입력 하여 \"은행을 이용해 주셔서 감사합니다 메시지를 나오게 하고\\n마지막 break 을 이용 하여 반복문을 멈추게 했습니다\\n\\n1월 7일 파머님의 강의로 알았는데 형변환 없이 그냥 5를 하면 무한루트를 타지만\\n'"
            ],
            "application/vnd.google.colaboratory.intrinsic+json": {
              "type": "string"
            }
          },
          "metadata": {},
          "execution_count": 1
        }
      ],
      "source": [
        "receipts = []  # 영수증 기록 리스트\n",
        "myMoney = 0    # 초기 잔고 설정\n",
        "\n",
        "Bank_neme = \"OZ_academy\"\n",
        "\n",
        "# 무한 반복문을 이용\n",
        "while True:\n",
        "    print(\"==================================\")\n",
        "    print(f\"     {Bank_neme}     은행ATM\")\n",
        "    print(\"==================================\")\n",
        "    print(\"1. 입금\")\n",
        "    print(\"2. 출금\")\n",
        "    print(\"3. 영수증출력\")\n",
        "    print(\"4. 잔고조회\")\n",
        "    print(\"5. 종료\")\n",
        "    print(\"==================================\")\n",
        "    menu = input(\"메뉴를 선택하세요: \")\n",
        "\n",
        "# 메뉴 1번을 입력 하여 원하는 금액을 입금 한다\n",
        "\n",
        "    if menu == \"1\":\n",
        "        deposit_amount = int(input(\"입금할 금액을 입력하세요: \"))\n",
        "        myMoney += deposit_amount\n",
        "\n",
        "# 금액과 입금이 완료되었다는 것을 알려준다\n",
        "        receipts.append((deposit_amount, myMoney))\n",
        "        print(f\"{deposit_amount}원이 입금되었습니다.\")\n",
        "\n",
        "# 메뉴 2번을 입력하여 원하는 금액 출금\n",
        "\n",
        "    elif menu == \"2\":\n",
        "        withdraw_amount = int(input(\"출금할 금액을 입력하세요: \"))\n",
        "        if withdraw_amount <= myMoney:\n",
        "            myMoney -= withdraw_amount\n",
        "            receipts.append((-withdraw_amount, myMoney))\n",
        "            print(f\"{withdraw_amount}원이 출금되었습니다.\")\n",
        "        else:\n",
        "            print(\"잔액이 부족합니다.\")\n",
        "\n",
        "# 메뉴 3번을 눌러 영수증 출력 Y 또는 N을 눌러 확인과 돌아가기를 선택\n",
        "\n",
        "    elif menu == \"3\":\n",
        "        Question = input(\"영수증을 출력하시겠습니까? (Y/N): \")\n",
        "        if any(Question.lower() == y for y in [\"yes\", 'y']):\n",
        "            print(\"========== 영수증 ==========\")\n",
        "            for receipt in receipts:\n",
        "                if receipt[0] > 0:\n",
        "                    print(f\"입금: {receipt[0]}원\")           #입금 내역\n",
        "                else:\n",
        "                    print(f\"출금: {-receipt[0]}원\")          #출금 내역\n",
        "                print(f\"현재 잔액: {myMoney}원\")\n",
        "            print(\"===========================\")\n",
        "        elif any(Question.lower() == n for n in [\"no\", \"n\"]):\n",
        "            print(\"영수증 출력을 취소하셨습니다.\")\n",
        "\n",
        "\n",
        "    # 메뉴 4번을 눌러 잔고조회 하여 잔액 출력\n",
        "    elif menu == \"4\":\n",
        "        print(f\"현재 잔액은 {myMoney}원입니다.\")\n",
        "\n",
        "    # 메뉴 5번 을 입력해 종료를 한다\n",
        "    elif menu == \"5\":\n",
        "        print(\"은행을 이용해주셔서 감사합니다.\")\n",
        "        break\n",
        "\n",
        "'''\n",
        "많은 블로그를 보고 검색하고 찾아보고 참고 하며 만들었습니다\n",
        "\n",
        "\n",
        "receipts = []  # 영수증 기록 리스트\n",
        "myMoney = 0    # 초기 잔고 설정\n",
        "Bank_neme = \"OZ_academy\"\n",
        "\n",
        "예시대로 리스트를 receipts = [] 영수증 기록을 저장 하기 위한 변수로 만들었습니다\n",
        "myMonet 변수는 가지고인는 초기 금액을 지정했습니다\n",
        "은행 ATM 이름은 Bank_neme 변수로 지정했습니다\n",
        "\n",
        "\n",
        "# 무한 반복문을 이용\n",
        "while True:\n",
        "    print(\"==================================\")\n",
        "    print(f\"     {Bank_neme}     은행ATM\")\n",
        "    print(\"==================================\")\n",
        "    print(\"1. 입금\")\n",
        "    print(\"2. 출금\")\n",
        "    print(\"3. 영수증출력\")\n",
        "    print(\"4. 잔고조회\")\n",
        "    print(\"5. 종료\")\n",
        "    print(\"==================================\")\n",
        "    menu = input(\"메뉴를 선택하세요: \")\n",
        "\n",
        "while True: 무한 반복문으로 사용 하여 메뉴 판을 계속 보여주게 만들었습니다\n",
        "5번을 입력 하기 전까지 프로 메뉴판은 종료 되지 안습니다.\n",
        "\n",
        "하지만 여기서 왜 print 를 많이 사용 했냐면 일반 변수로 했을시 한눈에 메뉴 구성이 잘 보이지 않아\n",
        "코드를 한눈에 보기 힘들수고 있어 여러 print 출력 으로 메뉴를 구성해\n",
        "menu 변수에 입력할수 있게 input() 를 적용 했습니다\n",
        "\n",
        "\n",
        "# 메뉴 1번을 입력 하여 원하는 금액을 입금 한다\n",
        "\n",
        "    if menu == \"1\":\n",
        "        deposit_amount = int(input(\"입금할 금액을 입력하세요: \"))\n",
        "        myMoney += deposit_amount\n",
        "\n",
        "\n",
        "결과 창에 보면 번호 입력 하는창에 나오는데\n",
        "1 을 입력 하여 입금 창에 들어가 원하는 금액을 입력합니다\n",
        "\n",
        "deposit_amount 변수에 정수로 바꿔주는 int() 안에 input() 사용 하여 입력한 금액을 변수에 저장 합니다\n",
        "myMonet 에 += 더하고 대립 한다는 연산자 를 이용해 deposit_amount 잔액을 갱신 합니다\n",
        "\n",
        "\n",
        "# 금액과 입금이 완료되었다는 것을 알려준다\n",
        "        receipts.append((deposit_amount, myMoney))\n",
        "        print(f\"{deposit_amount}원이 입금되었습니다.\")\n",
        "\n",
        "튜플 (deposit_amount, myMoeny) 는 각 입출금의 금액과 현재 잔액을 한 번에 저장하기 좋기에 사용 했습니다\n",
        "또한 튜플을 사용하면 , 데이터를 명확히 구분 할수 있어서 코드를 이해하기 쉽습니다\n",
        "\n",
        "허나 처음에 블로그에 왜? (()) 두개를 쓰지? 하고 여러 블로그를 차자 다니며\n",
        "이유를 알았습니다 저희가 receipts = [] 빈리스트를 만들었고 이것을 [] 안에 값을 넣기 위해\n",
        "receipts.append()안에 (deposit_amount, myMoney) 튜플을 한번더 넣었습니다\n",
        "그래야 오류가 안나더라구요\n",
        "\n",
        "그렇게 하여 receipts.append()리스트에 (deposit_amount, myMoney) 입금한 금액과 내 잔고를\n",
        "데이터 추가를 했습니다\n",
        "\n",
        "f-sting 포매팅 문자열을 사용하여 깔끔하게 출력을 할수 있다는것을 알아 결과에 사용하였습니다\n",
        "\n",
        "# 메뉴 2번을 눌러 출금\n",
        "\n",
        "    elif menu == \"2\":\n",
        "        withdraw_amount = int(input(\"출금할 금액을 입력하세요: \"))\n",
        "        if withdraw_amount <= myMoney:\n",
        "            myMoney -= withdraw_amount\n",
        "            receipts.append((-withdraw_amount, myMoney))\n",
        "            print(f\"{withdraw_amount}원이 출금되었습니다.\")\n",
        "        else:\n",
        "            print(\"잔액이 부족합니다.\")\n",
        "\n",
        "2번을 입력하여 출금으로 갈수있게\n",
        "if 밑에 elif의 또 다른 조건을 확인 하는 elid 를 사용하여\n",
        "메뉴 1번과 같이 2번을 입력하여\n",
        "withdraw_amount 를 인출금액이라는 변수의 수를 적용하여 인출금액을 입력할수 있게 하였고\n",
        "그밑에 조건문 if를 하나 더하여 가지도 있는 돈보다 더 크면 실행 못하게 만들었습니다\n",
        "withdraw_amount <= myMony 1변수 보다 2변수의 수가 클시에는 else를 이용하여 \"잔액이 부족합니다\"\n",
        "로 출금 못하게 적용 해봤고\n",
        "\n",
        "myMonet -= withdraw_amount 출금 을 하게 된다면 1변수 소지하고 있는 돈에서\n",
        "withdraw_amount 입력 된 수를 빼게 설정을 하였습니다\n",
        "출금시 receipts.append()리스트 데이터를 추가 하기위해 (-wihdeaw_anount, myMoney)를 넣어\n",
        "데이터를 또 추가를 해줍니다\n",
        "\n",
        "\n",
        "\n",
        "# 메뉴 3번을 눌러 영수증 출력 Y 또는 N을 눌러 확인과 돌아가기를 선택\n",
        "\n",
        "    elif menu == \"3\":\n",
        "        Question = input(\"영수증을 출력하시겠습니까? (Y/N): \")\n",
        "        if any(Question.lower() == y for y in [\"yes\", 'y']):\n",
        "            print(\"========== 영수증 ==========\")\n",
        "            for receipt in receipts:\n",
        "                if receipt[0] > 0:                 # 입금 내역\n",
        "                print(f\"입금: {receipt[0]}원\")\n",
        "            else:\n",
        "                    print(f\"출금: {-receipt[0]}원\")  # 출금 내역\n",
        "                print(f\"현재 잔액: {myMoney}원\")\n",
        "            print(\"===========================\")\n",
        "        elif any(Question.lower() == n for n in [\"no\", \"n\"]):\n",
        "            print(\"영수증 출력을 취소하셨습니다.\")\n",
        "\n",
        "여기서도 2번 처럼 elif 또다른 조건문을 사용하여\n",
        "메뉴 3번을 입력하게 만들어 영수증을 출력 할수있게 만들었습니다\n",
        "근데... 여기서 영수증을 어떻게 출력하게 할까? 생각하고 고민을 했습니다... 진짜..\n",
        "일단은 여러방법으로 시도하여 입금 과 출금 내역 잔액 receipts 리스트를 출력해야 겠다 생각을 했고\n",
        "\n",
        "그냥 print(receipts) 하자! 하여 실행했으나 이쁘고 깔끔 하지가 않아 엄청 해매인거 같습니다\n",
        "그리하여 질문을 하였고 for 을 이용 해보는거 어떠냐 하여 어? for이 있었지? 생각 하여\n",
        "여러 방식으로 조합을 하다보니 계속 오류가나 솔찍히 지인 찬스를 통해 알게 됬습니다\n",
        "\n",
        "for은 반복문인데 (하나씩 대입하는) 만약에 오빠가 receipts = [] 내역을 a로 in 을 사용해 넣고 (in은 알지? 라는 무시받으며)\n",
        "오빠가 사용한 receipts = [] 변수 안에있는 것을 a 에 넣었으니 > 0: 이용해서\n",
        "0보다 큰지 확인을 해서 if 한테 만약 a[0] 가 > 0: 보다 크면\n",
        "print()에 a[0] 을 넣으면 답이나와\n",
        "출금은 그건 반대로 생각해서 음수 를 양수 로바꾼다고 생각해봐 하여 입금 내역 출금내역을 정하게 되었고\n",
        "솔찍히 블로그 보면서 어느정도 따라 한거라 욕먹을 각오로\n",
        "그럼 any() 이것만 알려주고 욕해! 라고 부탁을 했고\n",
        "\n",
        "실행 하면 입풋에 오빠가 input 이용해 (Y/N) 입력하라 설명 했고 그 밑에\n",
        "if 한테 부탁해서 입력 할수 있는 단어를 만들어줘야 하는데\n",
        "any() 는 질문에 해당하는 것이 == 조건은 같게해서 a for a in [\"apple\", 'a']을 이용해서\n",
        "any() 는 조건이 같다면 실행 하게된다? 라는 식으로 이해 하면 될거야\n",
        "그리고 .lower() 을 질문에 붙여서 하면 대문자 소문자 둘다 적용 하는거니깐 일단 토대로 해봐\n",
        "\n",
        "해서 진행한 결과가 이렇게 만들어 졌습니다\n",
        "\n",
        "\n",
        "    # 메뉴 4번을 눌러 잔고조회 하여 잔액 출력\n",
        "    elif menu == \"4\":\n",
        "        print(f\"현재 잔액은 {myMoney}원입니다.\")\n",
        "\n",
        "메뉴 4번은 잔고 조회 이기 때문에\n",
        "4번을 입력 하면 myMoney 답이 나오게 했습니다\n",
        "\n",
        "    # 메뉴 5번 을 입력해 종료를 한다\n",
        "    elif menu == \"5\":\n",
        "        print(\"은행을 이용해주셔서 감사합니다.\")\n",
        "        break\n",
        "\n",
        "메뉴 5번은 이제 while True 무한 반복문이 가동하고 있으니\n",
        "5번을 입력 하여 \"은행을 이용해 주셔서 감사합니다 메시지를 나오게 하고\n",
        "마지막 break 을 이용 하여 반복문을 멈추게 했습니다\n",
        "\n",
        "1월 7일 파머님의 강의로 알았는데 형변환 없이 그냥 5를 하면 무한루트를 타지만\n",
        "현변환 \"\" 넣어 형 변환을 해야 완전 종료가 된다는걸 알았습니다\n",
        "'''"
      ]
    },
    {
      "cell_type": "markdown",
      "metadata": {
        "id": "vB-Sp6QZvSy9"
      },
      "source": [
        "__[문제 4: 모든 거래 내역 확인]__\n",
        "\n",
        "모든 거래 내역(영수증)을 요청받았을 때 출력하세요.\n",
        "- 지금까지 영수증에 추가된 정보를 출력합니다.\n",
        "- 출력 형태는 자유입니다."
      ]
    },
    {
      "cell_type": "code",
      "execution_count": null,
      "metadata": {
        "id": "PqUPTygFvSy9"
      },
      "outputs": [],
      "source": []
    }
  ],
  "metadata": {
    "colab": {
      "provenance": []
    },
    "kernelspec": {
      "display_name": "Python 3",
      "name": "python3"
    },
    "language_info": {
      "name": "python"
    }
  },
  "nbformat": 4,
  "nbformat_minor": 0
}
