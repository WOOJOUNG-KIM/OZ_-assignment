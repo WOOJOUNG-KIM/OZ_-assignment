{
  "cells": [
    {
      "cell_type": "markdown",
      "metadata": {
        "id": "fD4Qab2qYgOm"
      },
      "source": [
        "안녕하세요. 수강생 여러분~!\n",
        "\n",
        "Chapter01 ~ 13의 수업 내용을 바탕으로 아래 문제를 풀어주시면 됩니다 !\n",
        "\n",
        "지금까지 잘 해오셨으니까, 총 복습한다고 생각하시고 한번 도전해보세요 !!!\n",
        "\n",
        "\n",
        "<br>\n",
        "\n",
        "\n",
        "[**답변 입력 방법**]\n",
        "\n",
        "문제 아래에 있는 코드 입력창에 정답코드를 작성하신 후  __▷ 버튼을 클릭해 코드를 실행__ 해보세요<br>"
      ]
    },
    {
      "cell_type": "markdown",
      "metadata": {
        "id": "sTBMEmh1vSy7"
      },
      "source": [
        "---"
      ]
    },
    {
      "cell_type": "markdown",
      "metadata": {
        "id": "h7fYAB6cvSy7"
      },
      "source": [
        "### 프로젝트: 간단한 ATM 관리 시스템\n",
        "<br>\n",
        "\n",
        "__[문제 1: 잔액 확인]__\n",
        "\n",
        "현재 잔액은 1000원입니다. 현재 잔액을 출력하세요.\n",
        "\n",
        "(변수명 예시 : 잔액 - balance)"
      ]
    },
    {
      "cell_type": "code",
      "execution_count": null,
      "metadata": {
        "id": "Jl6W38LuvSy8"
      },
      "outputs": [],
      "source": [
        "balance = 1000\n",
        "print(f\"현재 잔액은 {balance}원 입니다.\")"
      ]
    },
    {
      "cell_type": "markdown",
      "metadata": {
        "id": "4oW3H6g7vSy8"
      },
      "source": [
        "__[문제 2: 입금]__\n",
        "\n",
        "가지고 있는 돈을 입금합니다.\n",
        "\n",
        "입금 금액을 입력받고, 잔액을 갱신한 후 새로운 잔액을 출력하세요. 입금 거래를 영수증 리스트에 기록하세요.\n",
        "\n",
        "- 입금 금액은 input()을 이용해 받습니다.\n",
        "- 영수증은 list()로 선언합니다.\n",
        "- 영수증에 들어가는 정보는 튜플 형태입니다.\n",
        "- 튜플에 담기는 정보는 (입금 or 출금, 입금 or 출금 금액, 현재 잔액)순 입니다.\n",
        "\n",
        "(변수명 예시: 영수증 리스트 - receipts, 입금 금액 - deposit_amount)\n"
      ]
    },
    {
      "cell_type": "code",
      "execution_count": null,
      "metadata": {
        "id": "RYSWY2sCvSy8"
      },
      "outputs": [],
      "source": []
    },
    {
      "cell_type": "markdown",
      "metadata": {
        "id": "4tVqrvtHvSy8"
      },
      "source": [
        "__[문제 3: 출금]__\n",
        "\n",
        "사용자가 돈을 출금합니다. 출금 금액을 입력받고, 잔액을 갱신한 후 새로운 잔액을 출력하세요. 출금 거래를 영수증 리스트에 기록하세요.\n",
        "\n",
        "- 출금 금액은 input()을 이용해 받습니다.\n",
        "- 현재 잔액보다 출금 요청 금액이 많을 경우 현재 잔액 만큼만 출금되도록 합니다.\n",
        "- 영수증에 들어가는 정보는 튜플 형태입니다.\n",
        "- 튜플에 담기는 정보는 (입금 or 출금, 입금 or 출금 금액, 현재 잔액)순 입니다.\n",
        "\n",
        "(변수명 예시: 출금금액 - withdraw_amount)"
      ]
    },
    {
      "cell_type": "code",
      "execution_count": null,
      "metadata": {
        "id": "8B-Mbid1vSy8"
      },
      "outputs": [],
      "source": [
        "receipts = []  # 영수증 기록 리스트\n",
        "myMoney = 0    # 초기 잔고 설정\n",
        "\n",
        "Bank_neme = \"OZ_academy\"\n",
        "\n",
        "# 무한 반복문을 이용\n",
        "while True:\n",
        "    print(\"==================================\")\n",
        "    print(f\"     {Bank_neme}     은행ATM\")\n",
        "    print(\"==================================\")\n",
        "    print(\"1. 입금\")\n",
        "    print(\"2. 출금\")\n",
        "    print(\"3. 영수증출력\")\n",
        "    print(\"4. 잔고조회\")\n",
        "    print(\"5. 종료\")\n",
        "    print(\"==================================\")\n",
        "    menu = input(\"메뉴를 선택하세요: \")\n",
        "\n",
        "# 메뉴 1번을 입력 하여 원하는 금액을 입금 한다\n",
        "\n",
        "    if menu == \"1\":\n",
        "        deposit_amount = int(input(\"입금할 금액을 입력하세요: \"))\n",
        "        myMoney += deposit_amount\n",
        "\n",
        "# 금액과 입금이 완료되었다는 것을 알려준다\n",
        "        receipts.append((deposit_amount, myMoney))\n",
        "        print(f\"{deposit_amount}원이 입금되었습니다.\")\n",
        "\n",
        "# 메뉴 2번을 입력하여 원하는 금액 출금\n",
        "\n",
        "    elif menu == \"2\":\n",
        "        withdraw_amount = int(input(\"출금할 금액을 입력하세요: \"))\n",
        "        if withdraw_amount <= myMoney:\n",
        "            myMoney -= withdraw_amount\n",
        "            receipts.append((-withdraw_amount, myMoney))\n",
        "            print(f\"{withdraw_amount}원이 출금되었습니다.\")\n",
        "        else:\n",
        "            print(\"잔액이 부족합니다.\")\n",
        "\n",
        "# 메뉴 3번을 눌러 영수증 출력 Y 또는 N을 눌러 확인과 돌아가기를 선택\n",
        "\n",
        "    elif menu == \"3\":\n",
        "        Question = input(\"영수증을 출력하시겠습니까? (Y/N): \")\n",
        "        if any(Question.lower() == y for y in [\"yes\", 'y']):\n",
        "            print(\"========== 영수증 ==========\")\n",
        "            for receipt in receipts:\n",
        "                if receipt[0] > 0:\n",
        "                    print(f\"입금: {receipt[0]}원\")           #입금 내역\n",
        "                else:\n",
        "                    print(f\"출금: {-receipt[0]}원\")          #출금 내역\n",
        "                print(f\"현재 잔액: {myMoney}원\")\n",
        "            print(\"===========================\")\n",
        "        elif any(Question.lower() == n for n in [\"no\", \"n\"]):\n",
        "            print(\"영수증 출력을 취소하셨습니다.\")\n",
        "\n",
        "\n",
        "    # 메뉴 4번을 눌러 잔고조회 하여 잔액 출력\n",
        "    elif menu == \"4\":\n",
        "        print(f\"현재 잔액은 {myMoney}원입니다.\")\n",
        "\n",
        "    # 메뉴 5번 을 입력해 종료를 한다\n",
        "    elif menu == \"5\":\n",
        "        print(\"은행을 이용해주셔서 감사합니다.\")\n",
        "        break\n",
        "\n",
        "'''\n",
        "receipts = []  # 영수증 기록 리스트\n",
        "myMoney = 0    # 초기 잔고 설정\n",
        "Bank_neme = \"OZ_academy\"\n",
        "\n",
        "예시대로 리스트를 receipts = [] 영수증 기록을 저장 하기 위한 변수로 만들었습니다\n",
        "myMonet 변수는 가지고인는 초기 금액을 지정했습니다\n",
        "은행 ATM 이름은 Bank_neme 변수로 지정했습니다\n",
        "\n",
        "\n",
        "# 무한 반복문을 이용\n",
        "while True:\n",
        "    print(\"==================================\")\n",
        "    print(f\"     {Bank_neme}     은행ATM\")\n",
        "    print(\"==================================\")\n",
        "    print(\"1. 입금\")\n",
        "    print(\"2. 출금\")\n",
        "    print(\"3. 영수증출력\")\n",
        "    print(\"4. 잔고조회\")\n",
        "    print(\"5. 종료\")\n",
        "    print(\"==================================\")\n",
        "    menu = input(\"메뉴를 선택하세요: \")\n",
        "\n",
        "while True: 무한 반복문으로 사용 하여 메뉴 판을 계속 보여주게 만들었습니다\n",
        "5번을 입력 하기 전까지 프로 메뉴판은 종료 되지 안습니다.\n",
        "\n",
        "하지만 여기서 왜 print 를 사용 했냐면 일반 변수로 했을시 한눈에 메뉴 구성이 잘 보이지 않아\n",
        "코드를 한눈에 보기 힘들수고 있어 print 출력 으로 메뉴를 구성해 menu 변수에 입력할수 있게 input() 를 적용 했습니다\n",
        "\n",
        "\n",
        "\n",
        "# 메뉴 1번을 입력 하여 원하는 금액을 입금 한다\n",
        "\n",
        "    if menu == \"1\":\n",
        "        deposit_amount = int(input(\"입금할 금액을 입력하세요: \"))\n",
        "        myMoney += deposit_amount\n",
        "\n",
        "\n",
        "결과 창에 보면 번호 입력 하는창에 나오는데\n",
        "1 을 입력 하여 입금 창에 들어가 원하는 금액을 입력합니다\n",
        "\n",
        "deposit_amount 변수에 정수로 바꿔주는 int() 안에 input() 사용 하여 입력한 금액을 변수에 저장 합니다\n",
        "myMonet 에 += 더하고 대립 한다는 연산자 를 이용해 deposit_amount 잔액을 갱신 합니다\n",
        "\n",
        "\n",
        "\n",
        "# 금액과 입금이 완료되었다는 것을 알려준다\n",
        "        receipts.append((deposit_amount, myMoney))\n",
        "        print(f\"{deposit_amount}원이 입금되었습니다.\")\n",
        "\n",
        "튜플 (deposit_amount, myMoeny) 는 각 입출금의 금액과 현재 잔액을 한 번에 저장하기 좋기에 사용 했습니다\n",
        "또한 튜플을 사용하면 , 데이터를 명확히 구분 할수 있습니다.\n",
        "\n",
        "\n",
        "# 메뉴 2번을 눌러 출금\n",
        "\n",
        "    elif menu == \"2\":\n",
        "        withdraw_amount = int(input(\"출금할 금액을 입력하세요: \"))\n",
        "        if withdraw_amount <= myMoney:\n",
        "            myMoney -= withdraw_amount\n",
        "            receipts.append((-withdraw_amount, myMoney))\n",
        "            print(f\"{withdraw_amount}원이 출금되었습니다.\")\n",
        "        else:\n",
        "            print(\"잔액이 부족합니다.\")\n",
        "\n",
        "# 메뉴 3번을 눌러 영수증 출력 Y 또는 N을 눌러 확인과 돌아가기를 선택\n",
        "\n",
        "    elif menu == \"3\":\n",
        "        Question = input(\"영수증을 출력하시겠습니까? (Y/N): \")\n",
        "        if any(Question.lower() == y for y in [\"yes\", 'y']):\n",
        "            print(\"========== 영수증 ==========\")\n",
        "    for receipt in receipts:\n",
        "        if receipt[0] > 0:  # 입금 내역\n",
        "            print(f\"입금: {receipt[0]}원\")\n",
        "        else:  # 출금 내역\n",
        "                    print(f\"출금: {-receipt[0]}원\")\n",
        "            print(f\"현재 잔액: {myMoney}원\")\n",
        "            print(\"===========================\")\n",
        "        elif any(Question.lower() == n for n in [\"no\", \"n\"]):\n",
        "            print(\"영수증 출력을 취소하셨습니다.\")\n",
        "\n",
        "\n",
        "    # 메뉴 4번을 눌러 잔고조회 하여 잔액 출력\n",
        "    elif menu == \"4\":\n",
        "        print(f\"현재 잔액은 {myMoney}원입니다.\")\n",
        "\n",
        "    # 메뉴 5번 을 입력해 종료를 한다\n",
        "    elif menu == \"5\":\n",
        "        print(\"은행을 이용해주셔서 감사합니다.\")\n",
        "        break\n",
        "\n",
        "\n",
        "\n",
        "'''"
      ]
    },
    {
      "cell_type": "markdown",
      "metadata": {
        "id": "vB-Sp6QZvSy9"
      },
      "source": [
        "__[문제 4: 모든 거래 내역 확인]__\n",
        "\n",
        "모든 거래 내역(영수증)을 요청받았을 때 출력하세요.\n",
        "- 지금까지 영수증에 추가된 정보를 출력합니다.\n",
        "- 출력 형태는 자유입니다."
      ]
    },
    {
      "cell_type": "code",
      "execution_count": null,
      "metadata": {
        "id": "PqUPTygFvSy9"
      },
      "outputs": [],
      "source": []
    }
  ],
  "metadata": {
    "colab": {
      "provenance": []
    },
    "kernelspec": {
      "display_name": "Python 3",
      "name": "python3"
    },
    "language_info": {
      "name": "python"
    }
  },
  "nbformat": 4,
  "nbformat_minor": 0
}