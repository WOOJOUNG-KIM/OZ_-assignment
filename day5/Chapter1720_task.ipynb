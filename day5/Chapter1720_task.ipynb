{
 "cells": [
  {
   "cell_type": "markdown",
   "metadata": {
    "id": "aLkxKxnFLowa"
   },
   "source": [
    "안녕하세요. 수강생 여러분~! Chapter17 ~ 20 수업은 잘 들으셨나요?\n",
    "\n",
    "Chapter17 ~ 20의 수업 내용을 바탕으로 아래 문제를 풀어주시면 됩니다.\n",
    "\n",
    "\n",
    "<br>\n",
    "\n",
    "\n",
    "[**답변 입력 방법**]\n",
    "\n",
    "문제 아래에 있는 코드 입력창에 정답코드를 작성하신 후  __▷ 버튼을 클릭해 코드를 실행__ 해보세요<br>"
   ]
  },
  {
   "cell_type": "markdown",
   "metadata": {
    "id": "pYJ1dSggLwcG"
   },
   "source": [
    "__[문제1]__\n",
    "\n",
    "print_even 리스트 내에 있는 값 중 짝수만 화면에 출력되도록 print_score 함수를 생성 후 결과값을 출력해주세요\n",
    "\n",
    "print_even ([1, 3, 2, 10, 12, 11, 15])"
   ]
  },
  {
   "cell_type": "code",
   "execution_count": null,
   "metadata": {
    "colab": {
     "base_uri": "https://localhost:8080/"
    },
    "executionInfo": {
     "elapsed": 262,
     "status": "ok",
     "timestamp": 1736317811216,
     "user": {
      "displayName": "김우중",
      "userId": "07630645939964596740"
     },
     "user_tz": -540
    },
    "id": "PTqEeebbLmCA",
    "outputId": "132d2434-2690-499e-bf63-052983126106"
   },
   "outputs": [
    {
     "name": "stdout",
     "output_type": "stream",
     "text": [
      "2\n",
      "10\n",
      "12\n"
     ]
    }
   ],
   "source": [
    "def print_score(num):\n",
    "    for i in num:\n",
    "        if i % 2 == 0:\n",
    "            print(i)\n",
    "\n",
    "num = [1, 3, 2, 10, 12, 11, 15]\n",
    "\n",
    "print_score(num)"
   ]
  },
  {
   "cell_type": "markdown",
   "metadata": {
    "id": "sgg2ysEMhh2D"
   },
   "source": [
    "---"
   ]
  },
  {
   "cell_type": "markdown",
   "metadata": {
    "id": "ZkGserEsQS0L"
   },
   "source": [
    "__[문제2]__\n",
    "\n",
    "비어있는 오즈 (oz) 클래스를 \"정의\" 해보세요."
   ]
  },
  {
   "cell_type": "code",
   "execution_count": null,
   "metadata": {
    "colab": {
     "base_uri": "https://localhost:8080/"
    },
    "executionInfo": {
     "elapsed": 263,
     "status": "ok",
     "timestamp": 1736318017162,
     "user": {
      "displayName": "김우중",
      "userId": "07630645939964596740"
     },
     "user_tz": -540
    },
    "id": "dJbcWWlwL0iK",
    "outputId": "6e3d91d7-4a7c-4aac-9ae2-64c4efd00a89"
   },
   "outputs": [
    {
     "name": "stdout",
     "output_type": "stream",
     "text": [
      "<class '__main__.oz'>\n"
     ]
    }
   ],
   "source": [
    "class oz:\n",
    "    pass\n",
    "\n",
    "\n",
    "print(oz)"
   ]
  },
  {
   "cell_type": "markdown",
   "metadata": {
    "id": "XU0d_YlEhh2E"
   },
   "source": [
    "---"
   ]
  },
  {
   "cell_type": "markdown",
   "metadata": {
    "id": "Ofy86rZfL1Mg"
   },
   "source": [
    "__[문제3]__\n",
    "\n",
    "오즈(oz) 클래스의 인스턴스를 \"생성\" 하고 이를 coding 변수로 할당해보세요."
   ]
  },
  {
   "cell_type": "code",
   "execution_count": null,
   "metadata": {
    "colab": {
     "base_uri": "https://localhost:8080/"
    },
    "executionInfo": {
     "elapsed": 282,
     "status": "ok",
     "timestamp": 1736318049390,
     "user": {
      "displayName": "김우중",
      "userId": "07630645939964596740"
     },
     "user_tz": -540
    },
    "id": "5NhWiuULL2Xa",
    "outputId": "583390f5-7579-4d30-c03e-a4c24b7cf306"
   },
   "outputs": [
    {
     "name": "stdout",
     "output_type": "stream",
     "text": [
      "<__main__.oz object at 0x794880d3f370>\n"
     ]
    }
   ],
   "source": [
    "class oz:\n",
    "    pass\n",
    "\n",
    "coding = oz()\n",
    "\n",
    "print(coding)"
   ]
  },
  {
   "cell_type": "markdown",
   "metadata": {
    "id": "RO_M-D4vhh2E"
   },
   "source": [
    "---"
   ]
  },
  {
   "cell_type": "markdown",
   "metadata": {
    "id": "5T6EMx8EL26b"
   },
   "source": [
    "[문제4]\n",
    "\n",
    "오즈(oz) 클래스에 \"클래스 정복\"을 출력하는 기본 생성자를 추가해주세요"
   ]
  },
  {
   "cell_type": "code",
   "execution_count": null,
   "metadata": {
    "colab": {
     "base_uri": "https://localhost:8080/"
    },
    "executionInfo": {
     "elapsed": 296,
     "status": "ok",
     "timestamp": 1736318108127,
     "user": {
      "displayName": "김우중",
      "userId": "07630645939964596740"
     },
     "user_tz": -540
    },
    "id": "Zq35PXA0L3-m",
    "outputId": "a15e001c-40b9-4f50-fe4d-d8188a9d8750"
   },
   "outputs": [
    {
     "name": "stdout",
     "output_type": "stream",
     "text": [
      "클래스 정복\n",
      "<__main__.oz object at 0x794880d3fe20>\n"
     ]
    }
   ],
   "source": [
    "class oz:\n",
    "    def __init__(self):\n",
    "        print(\"클래스 정복\")\n",
    "\n",
    "coding = oz()\n",
    "\n",
    "print(coding)"
   ]
  },
  {
   "cell_type": "markdown",
   "metadata": {
    "id": "GtlayJ2Dhh2F"
   },
   "source": [
    "---"
   ]
  },
  {
   "cell_type": "markdown",
   "metadata": {
    "id": "htuycQWSL4l-"
   },
   "source": [
    "__[문제5]__\n",
    "\n",
    "오즈 (oz) 클래스에 (이름, 나이, 코딩레벨)을 받는 생성자를 추가해주세요\n",
    "\n",
    "coding = oz(\"김코\", 30, \"A\")\n"
   ]
  },
  {
   "cell_type": "code",
   "execution_count": null,
   "metadata": {
    "colab": {
     "base_uri": "https://localhost:8080/"
    },
    "executionInfo": {
     "elapsed": 295,
     "status": "ok",
     "timestamp": 1736318219170,
     "user": {
      "displayName": "김우중",
      "userId": "07630645939964596740"
     },
     "user_tz": -540
    },
    "id": "A7h3I8CWL5ox",
    "outputId": "cd74ff3e-c920-4338-cfde-290cbb8b82d9"
   },
   "outputs": [
    {
     "name": "stdout",
     "output_type": "stream",
     "text": [
      "<__main__.oz object at 0x7948811de260>\n"
     ]
    }
   ],
   "source": [
    "class oz:\n",
    "    def __init__(self, name, age, coding_level):\n",
    "        self.name = name\n",
    "        self.age = age\n",
    "        self.coding_level = coding_level\n",
    "\n",
    "coding = oz(\"김코\", 30, \"A\")\n",
    "\n",
    "print(coding)"
   ]
  },
  {
   "cell_type": "markdown",
   "metadata": {
    "id": "a4Q4PNQxhh2F"
   },
   "source": [
    "---"
   ]
  },
  {
   "cell_type": "markdown",
   "metadata": {
    "id": "ZGDLHI5xL6Bd"
   },
   "source": [
    "__[문제6]__\n",
    "\n",
    "5번 문제에서 생성한 인스턴스의 이름, 나이, 성별을 출력해주세요.\n",
    "\n",
    "\n",
    "\n",
    "출력 결과  ) <br>\n",
    "이름 : 김코  \n",
    "나이 : 30  \n",
    "코딩레벨 : A  \n",
    "\n",
    "__Tips__\n",
    "\n",
    "\n",
    "- 인스턴스 변수에 접근하여 값을 출력하면 됩니다  : )"
   ]
  },
  {
   "cell_type": "code",
   "execution_count": null,
   "metadata": {
    "colab": {
     "base_uri": "https://localhost:8080/"
    },
    "executionInfo": {
     "elapsed": 278,
     "status": "ok",
     "timestamp": 1736318258226,
     "user": {
      "displayName": "김우중",
      "userId": "07630645939964596740"
     },
     "user_tz": -540
    },
    "id": "qCrPejI_L8Wr",
    "outputId": "c86b2d18-92b3-4cbf-9b06-c5e526c9d929"
   },
   "outputs": [
    {
     "name": "stdout",
     "output_type": "stream",
     "text": [
      "이름 : 김코\n",
      "나이 : 30\n",
      "코딩레벨 : A\n"
     ]
    }
   ],
   "source": [
    "print(\"이름 :\", coding.name)\n",
    "print(\"나이 :\", coding.age)\n",
    "print(\"코딩레벨 :\", coding.coding_level)"
   ]
  },
  {
   "cell_type": "markdown",
   "metadata": {
    "id": "Rd3jt0JShh2F"
   },
   "source": [
    "---"
   ]
  },
  {
   "cell_type": "markdown",
   "metadata": {
    "id": "RmtPk-A1L8z4"
   },
   "source": [
    "__[문제7]__\n",
    "\n",
    "오즈 (oz) 클래스에서 이름, 나이, 성별을 출력하는 who() 메소드를 추가하고 who()메소드를 이용해 아래 출력 결과를 만들어주세요\n",
    "\n",
    "\n",
    "출력 결과 ) <br>\n",
    "이름: 김코, 나이: 30, 코딩레벨: A"
   ]
  },
  {
   "cell_type": "code",
   "execution_count": 1,
   "metadata": {
    "colab": {
     "base_uri": "https://localhost:8080/",
     "height": 108
    },
    "executionInfo": {
     "elapsed": 460,
     "status": "error",
     "timestamp": 1736331082984,
     "user": {
      "displayName": "김우중",
      "userId": "07630645939964596740"
     },
     "user_tz": -540
    },
    "id": "fvrvm87vL_HZ",
    "outputId": "79fa3673-4885-41c0-eaf4-76ef92e35095"
   },
   "outputs": [
    {
     "ename": "SyntaxError",
     "evalue": "incomplete input (<ipython-input-1-4fc3a51e1056>, line 14)",
     "output_type": "error",
     "traceback": [
      "\u001b[0;36m  File \u001b[0;32m\"<ipython-input-1-4fc3a51e1056>\"\u001b[0;36m, line \u001b[0;32m14\u001b[0m\n\u001b[0;31m    '''\u001b[0m\n\u001b[0m    ^\u001b[0m\n\u001b[0;31mSyntaxError\u001b[0m\u001b[0;31m:\u001b[0m incomplete input\n"
     ]
    }
   ],
   "source": [
    "class oz:\n",
    "    def __init__(self, name, age, coding_level):\n",
    "        self.name = name\n",
    "        self.age = age\n",
    "        self.coding_level = coding_level\n",
    "\n",
    "    def who(self):\n",
    "        return f\"이름: {self.name}, 나이: {self.age}, 코딩레벨: {self.coding_level}\"\n",
    "\n",
    "coding = oz(\"김코\", 30, \"A\")\n",
    "print(coding.who())\n",
    "\n",
    "\n",
    "\n",
    "\n",
    "'''\n",
    "이렇게 하는게 맞을까요? ATM 만들때는 즐겁고 재미 있어서 좋았는대..\n",
    "일일이 설명을 적고 해도 내일이면 까먹어 버리고 블로그 찾아 다시 찾아 오고 공부 방법이 틀린건지\n",
    "강의를 들어도 모르겠어서... 질문지 보면 아... 바본가? 강의 내용에 있다는건데 강의 봐도 왜 모르겠지?\n",
    "계속 블로그 참고 해야 하는건가? 시험때는 어떻게 하나?\n",
    "시험 때는 기억이 날까? 다른 방식이 있을까? 방식을 찾아 보자\n",
    "일단 2달 이면 내가능성을 찾을수 있지 않을까? 최소한 2달 은 해보자\n",
    "답답 해도 딱 2달 만 해보자 맨탈 잡자 할수 있따! 과제에 너무 앞박감을 가지지 말자\n",
    "운동 이 재미 있고 즐거워서 다른사람들이 1시간 하는걸 6시간동안 계속 했던것 처럼\n",
    "공부도 재미 있게 하는방법을 찾아보자 솔찍히 초딩때 부터 운동 부로 수업을 받아 본적이 없어서\n",
    "이런거니깐 큰 자첵감 가지지 말고 오늘은 그냥 편하게 하고 내일 부터 찾아 보자\n",
    "강한 자는 방법을 찾는다 없어도 방법을 만든다 해보자\n",
    "'''"
   ]
  }
 ],
 "metadata": {
  "colab": {
   "provenance": []
  },
  "kernelspec": {
   "display_name": "Python 3",
   "name": "python3"
  },
  "language_info": {
   "codemirror_mode": {
    "name": "ipython",
    "version": 3
   },
   "file_extension": ".py",
   "mimetype": "text/x-python",
   "name": "python",
   "nbconvert_exporter": "python",
   "pygments_lexer": "ipython3",
   "version": "3.11.7"
  }
 },
 "nbformat": 4,
 "nbformat_minor": 0
}
