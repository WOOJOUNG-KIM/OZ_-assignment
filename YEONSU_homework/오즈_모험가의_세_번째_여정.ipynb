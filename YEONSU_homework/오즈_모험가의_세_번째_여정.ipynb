{
  "nbformat": 4,
  "nbformat_minor": 0,
  "metadata": {
    "colab": {
      "provenance": []
    },
    "kernelspec": {
      "name": "python3",
      "display_name": "Python 3"
    },
    "language_info": {
      "name": "python"
    }
  },
  "cells": [
    {
      "cell_type": "markdown",
      "source": [
        "# 고대의 성에서 🏰\n",
        "숲을 지나 고대의 성에 도착한 당신. 성을 정복하기 위해 최종 도전 과제를 해결해야 합니다."
      ],
      "metadata": {
        "id": "nUjnk2EVxw_S"
      }
    },
    {
      "cell_type": "markdown",
      "source": [
        "# [문제 1] **\"마법 진주\"**\n",
        "### 원하는만큼 마법 진주를 만들어 낼 수 있는 항아리가 있습니다. 변수 `n`에 숫자를 저장하고, `1`부터 `n`까지의 합을 출력하세요."
      ],
      "metadata": {
        "id": "nfAYHKPbwvzp"
      }
    },
    {
      "cell_type": "code",
      "source": [
        "import numpy as np\n",
        "\n",
        "number = [1,2,3,4,5]\n",
        "n = np.sum(number)\n",
        "print(n)"
      ],
      "metadata": {
        "id": "hBy_Uy--FV-Z",
        "outputId": "3730021d-3c3e-4af3-d902-5cabe49b86eb",
        "colab": {
          "base_uri": "https://localhost:8080/"
        }
      },
      "execution_count": 3,
      "outputs": [
        {
          "output_type": "stream",
          "name": "stdout",
          "text": [
            "15\n"
          ]
        }
      ]
    },
    {
      "cell_type": "markdown",
      "source": [
        "# [문제 2] **\"왕의 암호\"**\n",
        "### `kingdom` 변수에 여러개의 문자를 입력받아, 각 단어의 첫 글자만 대문자로 출력하세요.\n",
        "### `kingdom`의 문자열에는 `queen`,`password`,`ozcodingschool`이 기본적으로 입력되어야 하며, 콤마(,)로 단어를 구분합니다."
      ],
      "metadata": {
        "id": "pXauCB2dxG1q"
      }
    },
    {
      "cell_type": "code",
      "source": [
        "#kingdom 변수에 주어진 문자열\n",
        "kingdom = 'queen,password,ozcodingschool'\n",
        "\n",
        "#split(,) 를 이용하여 콤마(,) 로 단어를 구분\n",
        "kingdom.split(',')\n",
        "\n",
        "#단어를 구분 한것을 편하게 a 에 하달\n",
        "a = kingdom.split(',')\n",
        "\n",
        "# b , c , d 에 한단어씩 슬라이싱 과 .upper() 을 이용 하여 첫번째 글자만 대문자로 출력\n",
        "b = (a[0][0].upper())\n",
        "c = (a[1][0].upper())\n",
        "d = (a[2][0].upper())\n",
        "\n",
        "#결과\n",
        "print(b)\n",
        "print(c)\n",
        "print(d)"
      ],
      "metadata": {
        "id": "WMTofdnDFXh9",
        "outputId": "9681242d-cb33-4eee-c2aa-dcc0f02bb5a2",
        "colab": {
          "base_uri": "https://localhost:8080/"
        }
      },
      "execution_count": 10,
      "outputs": [
        {
          "output_type": "stream",
          "name": "stdout",
          "text": [
            "Q\n",
            "P\n",
            "O\n"
          ]
        }
      ]
    },
    {
      "cell_type": "markdown",
      "source": [
        "# [문제 3] **\"성의 열쇠\"**\n",
        "### `5x5`크기의 배열로 숫자 1부터 25까지를 출력하세요."
      ],
      "metadata": {
        "id": "SxT6ionLxHDR"
      }
    },
    {
      "cell_type": "code",
      "source": [
        "'''\n",
        "ne.arange() 함수로 주어진 범위에서 지정된 각격으로 숙차적인\n",
        "값들로 이루어진 배열을 생성합니다 1 부터 26미만의 숫자로 배열\n",
        "\n",
        "\n",
        "'''\n",
        "a = np.arange(1,26).reshape(5,5)\n",
        "print(a)"
      ],
      "metadata": {
        "id": "UnJ8MF1AFZYE",
        "outputId": "8adc0c00-7eb1-4b3e-ce90-b4eb95f71609",
        "colab": {
          "base_uri": "https://localhost:8080/"
        }
      },
      "execution_count": 3,
      "outputs": [
        {
          "output_type": "stream",
          "name": "stdout",
          "text": [
            "[[ 1  2  3  4  5]\n",
            " [ 6  7  8  9 10]\n",
            " [11 12 13 14 15]\n",
            " [16 17 18 19 20]\n",
            " [21 22 23 24 25]]\n"
          ]
        }
      ]
    },
    {
      "cell_type": "markdown",
      "source": [
        "# [문제 4] **\"최고의 마법사\"**\n",
        "### 여러 숫자를 입력받아 가장 큰 숫자와 가장 작은 숫자를 출력하세요.\n"
      ],
      "metadata": {
        "id": "9C-nGvLVxHJ4"
      }
    },
    {
      "cell_type": "code",
      "source": [],
      "metadata": {
        "id": "tOBvoQekFZmX"
      },
      "execution_count": null,
      "outputs": []
    },
    {
      "cell_type": "markdown",
      "source": [
        "# [문제 5] **\"숲 속의 빛나는 숫자\"**\n",
        "### 주어진 숫자가 소수인지 판별하세요."
      ],
      "metadata": {
        "id": "OVXnngOExHOT"
      }
    },
    {
      "cell_type": "code",
      "source": [],
      "metadata": {
        "id": "DIk7jwneFZ7u"
      },
      "execution_count": null,
      "outputs": []
    },
    {
      "cell_type": "markdown",
      "source": [
        "# [문제 6] **\"왕의 보물 상자\"**\n",
        "### 리스트 `[10, 20, 15, 25, 30]`에서 20 이상인 숫자만 출력하세요."
      ],
      "metadata": {
        "id": "hHbmuV4dxHSK"
      }
    },
    {
      "cell_type": "code",
      "source": [],
      "metadata": {
        "id": "wqxpS9ISFaOo"
      },
      "execution_count": null,
      "outputs": []
    },
    {
      "cell_type": "markdown",
      "source": [
        "# [문제 7] **\"마법사의 나침반\"**\n",
        "### 좌표를 입력받아 북쪽, 남쪽, 동쪽, 서쪽으로 나누어 출력하세요."
      ],
      "metadata": {
        "id": "gPDy2I47xHVw"
      }
    },
    {
      "cell_type": "code",
      "source": [],
      "metadata": {
        "id": "UqbnBhodFazC"
      },
      "execution_count": null,
      "outputs": []
    },
    {
      "cell_type": "markdown",
      "source": [
        "# [문제 8] **\"숲의 보물 지도\"**\n",
        "### 문자열 `Tresure Hunt`에서 공백을 제거하고 길이를 계산하세요."
      ],
      "metadata": {
        "id": "NQmmwZEhxHZZ"
      }
    },
    {
      "cell_type": "code",
      "source": [],
      "metadata": {
        "id": "ROotOa41FbRQ"
      },
      "execution_count": null,
      "outputs": []
    },
    {
      "cell_type": "markdown",
      "source": [
        "# [문제 9] **\"숲 속의 마법사 대결\"**\n",
        "### 사용자로부터 두 숫자를 입력받아 최대공약수를 계산하세요."
      ],
      "metadata": {
        "id": "a7Nd4fmwxHdU"
      }
    },
    {
      "cell_type": "code",
      "source": [],
      "metadata": {
        "id": "dc8io3iwFbpS"
      },
      "execution_count": null,
      "outputs": []
    },
    {
      "cell_type": "markdown",
      "source": [
        "# [문제 10] **\"성의 마지막 방\"**\n",
        "### 리스트에 있는 숫자들을 모두 더한 값이 100 이상이면 `열림`을 출력하고, 그렇지 않으면 `닫힘`을 출력하세요."
      ],
      "metadata": {
        "id": "G7cl8eL2xHkA"
      }
    },
    {
      "cell_type": "code",
      "source": [],
      "metadata": {
        "id": "f8ZBvR71VHd-"
      },
      "execution_count": null,
      "outputs": []
    }
  ]
}