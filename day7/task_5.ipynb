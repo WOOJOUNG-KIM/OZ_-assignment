{
 "cells": [
  {
   "cell_type": "markdown",
   "metadata": {},
   "source": [
    "datetime 모듈을 사용하여 현재 날짜와 시간을 출력하는 프로그램을 작성하세요. \n",
    "\n",
    "또한, 사용자로부터 태어난 년도를 입력받아 현재 나이를 계산하여 출력하세요."
   ]
  },
  {
   "cell_type": "code",
   "execution_count": 3,
   "metadata": {},
   "outputs": [
    {
     "name": "stdout",
     "output_type": "stream",
     "text": [
      "2025-01-11 19:13:08.232533\n"
     ]
    }
   ],
   "source": [
    "# from 어디서 가져올지 정하는 것을사용하여\n",
    "# datetime 모튤을 가져와서\n",
    "# import 무엇을 가져올지 정하는 것을 가용하고\n",
    "# datetime 클래스라는 대상을 가져온다\n",
    "from datetime import datetime\n",
    "\n",
    "# now 지금 에 datetime 클래스에 .now() 클래스 안에 정의된 함수를 사용해 대입한다\n",
    "# now() 는 현제 날짜 와 시간을 가져올수 있다\n",
    "now = datetime.now()\n",
    "\n",
    "# 결과를 출력 하면 현제 날짜와 시간이 나옵니당~\n",
    "print(now)"
   ]
  }
 ],
 "metadata": {
  "kernelspec": {
   "display_name": "Python 3",
   "language": "python",
   "name": "python3"
  },
  "language_info": {
   "codemirror_mode": {
    "name": "ipython",
    "version": 3
   },
   "file_extension": ".py",
   "mimetype": "text/x-python",
   "name": "python",
   "nbconvert_exporter": "python",
   "pygments_lexer": "ipython3",
   "version": "3.13.1"
  }
 },
 "nbformat": 4,
 "nbformat_minor": 2
}
