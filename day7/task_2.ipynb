{
 "cells": [
  {
   "cell_type": "markdown",
   "metadata": {},
   "source": [
    "파일을 읽어서 내용을 출력하는 프로그램을 작성하세요. \n",
    "\n",
    "- 파일이 존재하지 않을 때 발생하는 FileNotFoundError를 처리\n",
    "- 파일이 존재하지 않을 경우 \"파일을 찾을 수 없습니다.\"라는 메시지를 출력"
   ]
  },
  {
   "cell_type": "code",
   "execution_count": 9,
   "metadata": {},
   "outputs": [
    {
     "name": "stdout",
     "output_type": "stream",
     "text": [
      "파일을 찾을 수 없습니다\n"
     ]
    }
   ],
   "source": [
    "#파일의 리스트를 먼저 정한다!\n",
    "list_file = [\"주식\",\"월급\",\"지출\",\"저축\"]\n",
    "\n",
    "# def 를통해 search 검색 에 함수를 지정한다\n",
    "def search():\n",
    "    # try를 사용해 오류가 있는지 조심히 실행시킨다\n",
    "    try:\n",
    "        # file_ name 에 사용자가 검색할수 있게 input 을 사용한다\n",
    "        file_name = input(\"찾으시는 파일을 입력해주세요: \")\n",
    "        # if 만약에 file_name 안에 검색한 문장이 list_file 내용이 있으면\n",
    "        if file_name in list_file:\n",
    "            #결과로 파일을 찾았습니다 말해주고\n",
    "            print('파일을 찾았습니다')\n",
    "        # else 만약에 아니면\n",
    "        else:\n",
    "            # 예외를 사용해 오류시켜 파일접근 금지를 해줘\n",
    "            raise FileNotFoundError\n",
    "    # except 나는 try 가 실행중 else가 오류가 나면 파일을 찾을 수 없습니다 하고 종료할게\n",
    "    except FileNotFoundError:\n",
    "        print('파일을 찾을 수 없습니다')\n",
    "\n",
    "        #다른 이름으로 찾는다면 오류가 나기에 FileNotFoundError 사용해 오류를 찾는게 없다고? 표현했습니다 \n",
    "\n",
    "search()"
   ]
  },
  {
   "cell_type": "code",
   "execution_count": null,
   "metadata": {},
   "outputs": [],
   "source": []
  }
 ],
 "metadata": {
  "kernelspec": {
   "display_name": "Python 3",
   "language": "python",
   "name": "python3"
  },
  "language_info": {
   "codemirror_mode": {
    "name": "ipython",
    "version": 3
   },
   "file_extension": ".py",
   "mimetype": "text/x-python",
   "name": "python",
   "nbconvert_exporter": "python",
   "pygments_lexer": "ipython3",
   "version": "3.13.1"
  }
 },
 "nbformat": 4,
 "nbformat_minor": 2
}
