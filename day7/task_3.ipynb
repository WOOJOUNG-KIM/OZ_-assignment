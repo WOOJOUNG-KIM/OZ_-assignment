{
 "cells": [
  {
   "cell_type": "markdown",
   "metadata": {},
   "source": [
    "사용자로부터 여러 개의 숫자를 입력받아 리스트에 저장한 후, 사용자가 'done'이라고 입력할 때까지 계속 입력받으세요. \n",
    "\n",
    "- 입력 중 숫자가 아닌 값이 입력되면 ValueError를 처리\n",
    "- 숫자 외 값이 입력된 경우 어떤 값이 잘못 입력되었는지 사용자에게 알려주는 문구 출력<br>\n",
    "  (예: f\"잘못된 값: {변수}. 숫자를 입력해주세요.\")\n",
    "\n"
   ]
  },
  {
   "cell_type": "code",
   "execution_count": null,
   "metadata": {},
   "outputs": [
    {
     "name": "stdout",
     "output_type": "stream",
     "text": [
      "숫자를 저장했습니다\n",
      "숫자를 저장했습니다\n",
      "숫자를 저장했습니다\n",
      "숫자를 저장했습니다\n",
      "사용을 종료합니다\n"
     ]
    }
   ],
   "source": [
    "#밑에 하나더 있어요\n",
    "num_list = []\n",
    "\n",
    "number = '1~n +1'\n",
    "\n",
    "def num_storage():\n",
    "\n",
    "    while True:\n",
    "        try:\n",
    "            nums = input('원하시는 숫자를 저장해 주세요:')\n",
    "        \n",
    "            num_list.append(nums)\n",
    "        \n",
    "            if nums in num_list:\n",
    "                print('숫자를 저장했습니다')\n",
    "            \n",
    "            else:\n",
    "                print('숫자가 없습니다')\n",
    "        except ValueError:\n",
    "            print(f'잘못된 값:{number}.숫자를 입력해주세요')\n",
    "        \n",
    "        user = input('종료한려면 done 입력')\n",
    "        if user.lower() == 'done':\n",
    "            print(\"사용을 종료합니다\")\n",
    "            break\n",
    "            \n",
    "\n",
    "num_storage()"
   ]
  },
  {
   "cell_type": "code",
   "execution_count": 15,
   "metadata": {},
   "outputs": [
    {
     "name": "stdout",
     "output_type": "stream",
     "text": [
      "잘못된 값:원.숫자를 입력해주세요\n",
      "숫자를 저장했습니다: 2\n",
      "숫자를 저장했습니다: 3\n",
      "숫자를 저장했습니다: 9\n",
      "숫자를 저장했습니다: 1\n",
      "숫자를 저장했습니다: 33\n",
      "숫자를 저장했습니다: 1\n",
      "사용을 종료합니다\n"
     ]
    }
   ],
   "source": [
    "# 사용자로부터 여러 개의 숫자를 입력받아 리스트에 저장\n",
    "# 숫자 저장 리스트를 만든다\n",
    "num_list = []\n",
    "# def 를 사용하여 num_storage() 검색을 함수로 지정한다\n",
    "def num_storage():\n",
    "    # 사용자가 'done'이라고 입력할 때까지 계속 입력받으세요\n",
    "    # 위 조건을 할려면 while True를 써야 겠다 생각했고\n",
    "    while True:\n",
    "        # 예외 처리방법 try 를 사용하고\n",
    "        try:\n",
    "           # 사용자로 부터 숫자를 입력 해달라 하고 종료 할려면 done을 입력하게 요구한다\n",
    "           # 그 것은 nums 변수에 적용\n",
    "            nums = input('원하시는 숫자를 입력해 주세요: 종료를 하실려면 done을 입력하세요')\n",
    "           # if 만약 num.lower() 소대문자 동용 하는게 == done 과 같다지정하게 되면              \n",
    "            if nums.lower() == 'done':\n",
    "               # 사용을 종료합니다\n",
    "                print(\"사용을 종료합니다\")\n",
    "                break\n",
    "           # int(nums) 입력 받은 숫자들을 정수로 바꿔 num에 적용합니다\n",
    "            num = int(nums)\n",
    "           # num_list 를 .append 를 이용해 정수 바뀐 nums 수자들을 저장합니다\n",
    "            num_list.append(nums)\n",
    "           # 무슨 숫자를 저장했는지 나타내 줍니다\n",
    "            print(f'숫자를 저장했습니다: {nums}')\n",
    "            \n",
    "           # excpt ValueError 를 이용해 숫자가 아닌 다른것이 입력되면\n",
    "        except ValueError:\n",
    "           # 잘못된 값을 입력했다 말합니다\n",
    "            print(f'잘못된 값:{nums}.숫자를 입력해주세요')\n",
    "        \n",
    "# 제가 위에꺼를 만들고 같은거나 필요 없을걸 지구고 더 깔끔 하게 만들고 설명 적고하느라 시간이 걸리는거 같은데\n",
    "# 잘하고 있음 귀찮아요 말해주시고 아무말없음 안읽은걸로 알겠습니다!ㅋㅋㅋㅋㅋㅋㅋㅋ\n",
    "\n",
    "num_storage()"
   ]
  }
 ],
 "metadata": {
  "kernelspec": {
   "display_name": "Python 3",
   "language": "python",
   "name": "python3"
  },
  "language_info": {
   "codemirror_mode": {
    "name": "ipython",
    "version": 3
   },
   "file_extension": ".py",
   "mimetype": "text/x-python",
   "name": "python",
   "nbconvert_exporter": "python",
   "pygments_lexer": "ipython3",
   "version": "3.13.1"
  }
 },
 "nbformat": 4,
 "nbformat_minor": 2
}
