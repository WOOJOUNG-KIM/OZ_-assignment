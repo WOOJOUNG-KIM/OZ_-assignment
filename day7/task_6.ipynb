{
 "cells": [
  {
   "cell_type": "markdown",
   "metadata": {},
   "source": [
    "requests 모듈을 사용하여, 웹 페이지의 HTML을 가져오는 간단한 웹 스크레이퍼를 작성하세요.\n",
    "\n",
    "'https://kream.co.kr/\n",
    "에서<br> \n",
    "데이터를 가져와서 상태 코드와 HTML의 첫 100자를 출력하세요.<br>\n",
    "(실습 전 requests 모듈을 설치해야 함)"
   ]
  },
  {
   "cell_type": "code",
   "execution_count": 1,
   "metadata": {},
   "outputs": [
    {
     "name": "stdout",
     "output_type": "stream",
     "text": [
      "링크 상태 코드: 500\n",
      "HTML 첫 100자:\n",
      "<!DOCTYPE html>\n",
      "<html lang=\"ko\">\n",
      "<head>\n",
      "<meta name=\"robots\" content=\"noindex, nofollow\" />\n",
      "<meta htt\n"
     ]
    }
   ],
   "source": [
    "# 모듈을 가져오는 import 를 사용해서\n",
    "# requests 모튤을 가져 오기\n",
    "import requests\n",
    "# def 를 사용해서 함수를 정하기\n",
    "# kream 변수를 함수로 정하기\n",
    "def kream():\n",
    "# url 변수에 https://kream.co.kr 주소를 대입하기\n",
    "    url = 'https://kream.co.kr'\n",
    "# 코드를 실행해 문제가 생기면 따로 처리할 try를 사용하기\n",
    "    try:\n",
    "# requests 모듈 에서 .get(url) 요성하는 메서드를 사용해 () 안에 utl 위 링크를 가져와\n",
    "# answer 다 변수에 대입하기\n",
    "        answer = requests.get(url)\n",
    " # print 를 이용하여 상태 코드를 출력\n",
    " # .status_code 는 요청 성공 실패 여부를 확인 할때 스는 거라는대 좀 어럽내요\n",
    "        print('링크 상태 코드:', answer.status_code)\n",
    "\n",
    "# 요청이 성공했는지 확인\n",
    "# if 조건문 만약에 answer.status_code 상태 코드가 == 500 성공 을 확인하는 여부를 물어보는 200을 사용해 확인\n",
    "# 링크 상태 코드를 확인해여 꼭 나오는 값을 넣기\n",
    "        if answer.status_code == 500:\n",
    "# HTML의 첫 100자를 출력하기\n",
    "            print('HTML 첫 100자:')\n",
    "            print(answer.text[:100])\n",
    "# 만약 아닐시 실패 메시지 띄우기\n",
    "        else:\n",
    "            print('페이지를 가져오기 싫패 했습니다')\n",
    "# try 에서 조심히 실행 기켯으니 오류가 날시에 except 로 요류를 표기하고 대비하기\n",
    "# .exceptions .RequestException 묘튤을 이용해 대비 하기\n",
    "    except requests.exceptions.RequestException as e:\n",
    "        print(f'요청 중 오류 발생: {e}')\n",
    "\n",
    "if __name__ == \"__main__\":\n",
    "    kream()\n"
   ]
  },
  {
   "cell_type": "markdown",
   "metadata": {},
   "source": []
  }
 ],
 "metadata": {
  "kernelspec": {
   "display_name": "Python 3",
   "language": "python",
   "name": "python3"
  },
  "language_info": {
   "codemirror_mode": {
    "name": "ipython",
    "version": 3
   },
   "file_extension": ".py",
   "mimetype": "text/x-python",
   "name": "python",
   "nbconvert_exporter": "python",
   "pygments_lexer": "ipython3",
   "version": "3.13.1"
  }
 },
 "nbformat": 4,
 "nbformat_minor": 2
}
