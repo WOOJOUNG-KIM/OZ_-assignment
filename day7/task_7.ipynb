{
 "cells": [
  {
   "cell_type": "markdown",
   "metadata": {},
   "source": [
    "함수 실행 시간을 측정하는 데코레이터 timer_decorator를 작성하세요. \n",
    "\n",
    "임의의 함수가 실행되는 시간을 측정하여 \"함수 실행 시간: x.xx초\" 형태로 출력하세요."
   ]
  },
  {
   "cell_type": "code",
   "execution_count": 2,
   "metadata": {},
   "outputs": [
    {
     "name": "stdout",
     "output_type": "stream",
     "text": [
      "sum 함수의 실행 시간 : 0:00:00.000001초\n"
     ]
    },
    {
     "data": {
      "text/plain": [
       "110"
      ]
     },
     "execution_count": 2,
     "metadata": {},
     "output_type": "execute_result"
    }
   ],
   "source": [
    "from datetime import timedelta\n",
    "import time\n",
    "# 생각 하고 고민 하고 답을 찾으려 해도 이해가 안가서 구글링을 했습니다\n",
    "# 구글링 에서 검색해도 저한테는 설명이 어려워서 피드백 가능할까요?\n",
    "\n",
    "def timer_decorator(func):\n",
    "\n",
    "    def wrapper(*args, **kwargs):\n",
    "\n",
    "        start_time = time.time()\n",
    "        result = func(*args, **kwargs)\n",
    "        end_time = time.time()\n",
    "        \n",
    "        elapsed_time = end_time - start_time\n",
    "        td = timedelta(seconds=elapsed_time)\n",
    "\n",
    "        print(f'{func.__name__} 함수의 실행 시간 : {str(td)}초')\n",
    "   \n",
    "        return result\n",
    "\n",
    "    return wrapper\n",
    "\n",
    "@timer_decorator\n",
    "def sum(x, y):\n",
    "    return x + y\n",
    "\n",
    "sum(10, 100)"
   ]
  },
  {
   "cell_type": "markdown",
   "metadata": {},
   "source": []
  }
 ],
 "metadata": {
  "kernelspec": {
   "display_name": "Python 3",
   "language": "python",
   "name": "python3"
  },
  "language_info": {
   "codemirror_mode": {
    "name": "ipython",
    "version": 3
   },
   "file_extension": ".py",
   "mimetype": "text/x-python",
   "name": "python",
   "nbconvert_exporter": "python",
   "pygments_lexer": "ipython3",
   "version": "3.13.1"
  }
 },
 "nbformat": 4,
 "nbformat_minor": 2
}
