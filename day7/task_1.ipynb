{
 "cells": [
  {
   "cell_type": "markdown",
   "metadata": {},
   "source": [
    "사용자로부터 두 개의 숫자를 입력받아 나눗셈을 수행하는 프로그램을 작성하세요. \n",
    "\n",
    "[예외처리]\n",
    "- 입력 값이 숫자가 아닐 때 발생할 수 있는 ValueError\n",
    "- 나누는 수가 0일 때 발생할 수 있는 ZeroDivisionError\n",
    "- 위 2가지 예외처리 후 사용자에게 이해하기 쉬운 메시지 작성 후 출력되도록 코드를 작성"
   ]
  },
  {
   "cell_type": "code",
   "execution_count": 7,
   "metadata": {},
   "outputs": [
    {
     "name": "stdout",
     "output_type": "stream",
     "text": [
      "0 으로는 나눌수가 없습니다.                     생각이짮다 휴먼?\n"
     ]
    }
   ],
   "source": [
    "#def 를 이용해 numbers() 숫자들 을 함수로 지정하고\n",
    "def division_calculator():\n",
    "    # 이 부분이 어려웠는대\n",
    "    # 제가 이해한 식으로 표현 하겟습니다\n",
    "    # try는 오류가 날수 있는걸 안전하게 실행 할려는건데\n",
    "    # 이게 가능할지는 모느지만 안전하게 실행 해볼게 \n",
    "    try:\n",
    "        # 사용자로부터 두개의 나눌 숫자를 먼저 받아주세요 라는 사항을 적용\n",
    "        a = int(input('숫자를 입력하세요: '))     # 나누어야 하는수\n",
    "        s = int(input('숫자를 입력하세요: '))     # 나눌 수 \n",
    "        # 두수를 나눠 결과에 담기\n",
    "        result = a / s\n",
    "        # 결과\n",
    "        print(result)\n",
    "    # except는 오류로 인해 실패 시 샐행할 코드를 입력 하는것인대\n",
    "    # 그럼 나는 ValueError 부적절한 값으로 오뉴가 날때 신호를줄깨\n",
    "    except ValueError:\n",
    "        print('입력 값이 잘못 입력되었습니다.                   할수있다 생각해?')\n",
    "    # 그럼 나는 ZeroDivisionError 나눌수가 0일때 신호를줄게\n",
    "    except ZeroDivisionError:\n",
    "        print('0 으로는 나눌수가 없습니다.                     생각이짮다 휴먼?')\n",
    "\n",
    "division_calculator()"
   ]
  }
 ],
 "metadata": {
  "kernelspec": {
   "display_name": "Python 3",
   "language": "python",
   "name": "python3"
  },
  "language_info": {
   "codemirror_mode": {
    "name": "ipython",
    "version": 3
   },
   "file_extension": ".py",
   "mimetype": "text/x-python",
   "name": "python",
   "nbconvert_exporter": "python",
   "pygments_lexer": "ipython3",
   "version": "3.13.1"
  }
 },
 "nbformat": 4,
 "nbformat_minor": 2
}
