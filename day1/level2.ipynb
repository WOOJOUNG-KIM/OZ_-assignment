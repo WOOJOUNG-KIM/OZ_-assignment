{
  "cells": [
    {
      "cell_type": "markdown",
      "metadata": {
        "id": "view-in-github",
        "colab_type": "text"
      },
      "source": [
        "<a href=\"https://colab.research.google.com/github/WOOJOUNG-KIM/OZ_-assignment/blob/main/day1/level2.ipynb\" target=\"_parent\"><img src=\"https://colab.research.google.com/assets/colab-badge.svg\" alt=\"Open In Colab\"/></a>"
      ]
    },
    {
      "cell_type": "markdown",
      "metadata": {
        "id": "WXEwMsfUct7U"
      },
      "source": [
        "안녕하세요.<br><br>\n",
        "수강생 여러분~!\n",
        "\n",
        "\"Challenge : 사칙연산을 이용해 문제 풀기\"는 잘 풀어보셨나요?\n",
        "\n",
        "\n",
        "너~~무 어려웠어요! 하는 분들을 위해 만들어봤습니다!\n",
        "\n",
        "문제 도장깨기 !!!!!\n",
        "\n",
        "차근차근 풀어나가면 파이썬 정복 가능입니다!\n",
        "\n",
        "화이팅 !\n",
        "\n",
        "\n",
        "Chapter04의 수업 내용을 바탕으로 아래 문제를 풀어주시면 됩니다.\n",
        "\n",
        "<br>\n",
        "\n",
        "[**답변 입력 방법**]\n",
        "\n",
        "문제 아래에 있는 코드 입력창에 정답코드를 작성하신 후  __▷ 버튼을 클릭해 코드를 실행__ 해보세요<br>\n",
        "<br>"
      ]
    },
    {
      "cell_type": "markdown",
      "metadata": {
        "id": "qoyC9wF-3hvs"
      },
      "source": [
        "-----"
      ]
    },
    {
      "cell_type": "markdown",
      "metadata": {
        "id": "zEVrl46q5fEQ"
      },
      "source": [
        "<br>\n",
        "\n",
        "__[문제1]__\n",
        "\n",
        "한 주머니에 사탕이 5개씩 들어있습니다.\n",
        "\n",
        "바리바리스타인 나에게는 3개의 주머니가 있습니다!\n",
        "\n",
        "근데 길가다가 사탕을 주웠습니다. 그래서 사탕 3개가 주머니에 더 추가되었습니다.\n",
        "\n",
        "최종적으로 주머니에 들어있는 사탕의 총 개수는 얼마인가요?\n",
        "\n",
        "<br>"
      ]
    },
    {
      "cell_type": "code",
      "execution_count": 3,
      "metadata": {
        "colab": {
          "base_uri": "https://localhost:8080/"
        },
        "id": "ch7HLAfx5fEQ",
        "outputId": "6e25ba49-386c-4d36-e252-6bb021fb163b"
      },
      "outputs": [
        {
          "output_type": "stream",
          "name": "stdout",
          "text": [
            "정답:18개\n"
          ]
        }
      ],
      "source": [
        "# 한 주머니 에 사탕이(5) 개씩\n",
        "candy = 5\n",
        "\n",
        "# 나에게는 3개의 주머니(3*5)가 있다\n",
        "pocke = 3\n",
        "\n",
        "# 길가다가 사탕을 3개가 주머니에 3개가 더 추가됬어다.\n",
        "walk = 3\n",
        "\n",
        "#합개\n",
        "answer = candy * pocke + walk\n",
        "\n",
        "#출력\n",
        "print(\"정답:\",answer,\"개\", sep=\"\")"
      ]
    },
    {
      "cell_type": "markdown",
      "metadata": {
        "id": "-ozNn6zN5fER"
      },
      "source": [
        "<br>\n",
        "\n",
        "__[문제2]__\n",
        "\n",
        "10명이 각자 4개의 공을 가지고 있습니다.\n",
        "\n",
        "운이 좋은 3명이 2개의 공을 더 받았습니다.\n",
        "\n",
        "10명이 가진 모든 공의 총 개수를 구하세요.\n"
      ]
    },
    {
      "cell_type": "code",
      "execution_count": 4,
      "metadata": {
        "colab": {
          "base_uri": "https://localhost:8080/"
        },
        "id": "z9KnV3kn5fER",
        "outputId": "1119e894-c442-4440-8f4b-0796f9832f9d"
      },
      "outputs": [
        {
          "output_type": "stream",
          "name": "stdout",
          "text": [
            "정답:46개\n"
          ]
        }
      ],
      "source": [
        "# 10명이 각자 4개의 공을 가지고 있습니다 (10*4)\n",
        "people = 10\n",
        "ball = 4\n",
        "\n",
        "# 운이 좋은 3명이 2개의 공을 더 받았습니다 (3*2)\n",
        "people_2 = 3\n",
        "ball_2 = 2\n",
        "\n",
        "#합개\n",
        "answer = people * ball + people_2 * ball_2\n",
        "\n",
        "#출력\n",
        "print(\"정답:\",answer,\"개\", sep=\"\")"
      ]
    },
    {
      "cell_type": "markdown",
      "metadata": {
        "id": "Hka7QddJ5fER"
      },
      "source": [
        "<br>\n",
        "\n",
        "__[문제3]__\n",
        "\n",
        "5명의 학생이 3시간씩 공부했습니다.\n",
        "\n",
        "이상한 강박관념이 있는 나는 모든 시간을 분으로 계산하고 싶습니다.\n",
        "\n",
        "대신 계산해주세요 !\n"
      ]
    },
    {
      "cell_type": "code",
      "execution_count": 5,
      "metadata": {
        "id": "74wtVQFFc_h1",
        "colab": {
          "base_uri": "https://localhost:8080/"
        },
        "outputId": "99efe44e-58ec-4aa4-8b11-9d2abc821d92"
      },
      "outputs": [
        {
          "output_type": "stream",
          "name": "stdout",
          "text": [
            "180min\n"
          ]
        }
      ],
      "source": [
        "'''\n",
        "(\"60초 = 1분\")\n",
        "(\"60분 = 1시간\")\n",
        "'''\n",
        "#시간을 분 과 초로 바꾸기\n",
        "hours = 1\n",
        "minutes = 60 * hours\n",
        "seconds = 60 * minutes\n",
        "\n",
        "#학생이 공부한 시간\n",
        "study_hours = hours * 3\n",
        "\n",
        "#시 분 초 로 나눈 것으로 공부한 시간 을 분으로 계산하기\n",
        "answer = study_hours * minutes\n",
        "\n",
        "#출력\n",
        "print(answer, \"min\",sep=\"\")\n"
      ]
    },
    {
      "cell_type": "markdown",
      "metadata": {
        "id": "dyluZ0wN5fES"
      },
      "source": [
        "<br>\n",
        "\n",
        "__[문제4]__\n",
        "\n",
        "차가 9리터의 연료를 가지고 있습니다.\n",
        "\n",
        "연료가 3일 동안 계속 줄어들며, 하루에 2리터씩 소비됩니다.\n",
        "\n",
        "3일 뒤 차에 남은 연료는 몇 리터인가요?"
      ]
    },
    {
      "cell_type": "code",
      "execution_count": 6,
      "metadata": {
        "id": "9kvBxa6PdhgA",
        "colab": {
          "base_uri": "https://localhost:8080/"
        },
        "outputId": "95993109-2025-4827-b400-79083bdebc6b"
      },
      "outputs": [
        {
          "output_type": "stream",
          "name": "stdout",
          "text": [
            "정답:3리터\n"
          ]
        }
      ],
      "source": [
        "# 차가 9리터의 연료를 가지고 있다\n",
        "Fuel_L = 9\n",
        "\n",
        "# 연료가 3일동안 계속 줄어들며, 하루에 2리터씩 소비가 된다 (3 * 2)\n",
        "Day = 3\n",
        "Liter = 2\n",
        "\n",
        "#3일 간 소비한 리터\n",
        "Fuel = Day * Liter\n",
        "\n",
        "# 3일뒤 차에 남은 연료는 몇리터 인가 (9 - (3*2))\n",
        "answer = Fuel_L - Fuel\n",
        "\n",
        "#출력\n",
        "print(\"정답:\", answer ,\"리터\", sep=\"\")"
      ]
    },
    {
      "cell_type": "markdown",
      "metadata": {
        "id": "2Jte2VLKdiPm"
      },
      "source": [
        "__[문제5]__\n",
        "\n",
        "어떤 정사각형의 넓이가 144cm²입니다.\n",
        "\n",
        "정사각형의 한 변의 길이를 구하세요.\n"
      ]
    },
    {
      "cell_type": "code",
      "execution_count": null,
      "metadata": {
        "colab": {
          "base_uri": "https://localhost:8080/"
        },
        "id": "NoPnYObK5fES",
        "outputId": "a2d865a2-0d6d-4d20-d6b0-1b7d986f84fe"
      },
      "outputs": [
        {
          "output_type": "stream",
          "name": "stdout",
          "text": [
            "정답:12cm\n"
          ]
        }
      ],
      "source": [
        "#모듈을 불러온다\n",
        "import math\n",
        "\n",
        "#정사각형의 넓이\n",
        "square_area = 144\n",
        "\n",
        "#모듈을 이용하여 제곱근 을 적용한다\n",
        "answer = math.sqrt(square_area)\n",
        "\n",
        "#출력\n",
        "print(\"정답:\", round(answer), \"cm\", sep=\"\")"
      ]
    }
  ],
  "metadata": {
    "colab": {
      "provenance": [],
      "include_colab_link": true
    },
    "kernelspec": {
      "display_name": "Python 3",
      "name": "python3"
    },
    "language_info": {
      "codemirror_mode": {
        "name": "ipython",
        "version": 3
      },
      "file_extension": ".py",
      "mimetype": "text/x-python",
      "name": "python",
      "nbconvert_exporter": "python",
      "pygments_lexer": "ipython3",
      "version": "3.12.3"
    }
  },
  "nbformat": 4,
  "nbformat_minor": 0
}