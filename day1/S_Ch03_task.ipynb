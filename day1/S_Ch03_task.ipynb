{
  "cells": [
    {
      "cell_type": "markdown",
      "metadata": {
        "id": "view-in-github",
        "colab_type": "text"
      },
      "source": [
        "<a href=\"https://colab.research.google.com/github/WOOJOUNG-KIM/OZ_-assignment/blob/main/S_Ch03_task.ipynb\" target=\"_parent\"><img src=\"https://colab.research.google.com/assets/colab-badge.svg\" alt=\"Open In Colab\"/></a>"
      ]
    },
    {
      "cell_type": "markdown",
      "metadata": {
        "id": "KnRK81nJelY3"
      },
      "source": [
        "<span style=\"font-size:100%\">\n",
        "\n",
        "수업은 모두 열심히 들으셨나요?\n",
        "\n",
        "간혹 강의에서 언급되지 않은 내용이 문제로 나올 수 있습니다.<br>\n",
        "그럴땐 강의 내용 외 문제는 구글링을 통해 해결해주세요<br></span>\n",
        "<span style=\"font-size:80%\">\n",
        "(구글링 또한 개발자가 갖쳐야할 역량 중에 하나랍니다 😊)\n",
        "</span>\n",
        "\n",
        "---"
      ]
    },
    {
      "cell_type": "markdown",
      "metadata": {
        "id": "Rc0_dS6VelY4"
      },
      "source": [
        "<span style=\"font-size:80%\">[문제1]<br><br></span>\n",
        "```주로 작성 중인 코드의 끝을 알리는 기호로 사용되며 파이썬에서 한 줄에 작성된 서로 다른 코드를 구분 지을 때 사용할 수 있는 기호를 골라주세요```\n",
        "\n",
        "1. ' , ' (쉼표)\n",
        "2. ' + ' (더하기 기호)\n",
        "3. ' ; ' (세미콜론)\n",
        "4. ' / ' (슬래시)"
      ]
    },
    {
      "cell_type": "markdown",
      "metadata": {
        "id": "iHM5rD_nelY5"
      },
      "source": [
        "<span style=\"color:red\">답변</span> :"
      ]
    },
    {
      "cell_type": "markdown",
      "metadata": {
        "id": "B5gMSkOaelY5"
      },
      "source": [
        "' ; ' 세미콜론 입니다"
      ]
    },
    {
      "cell_type": "markdown",
      "metadata": {
        "id": "S2Lq79tAelY5"
      },
      "source": [
        "----"
      ]
    },
    {
      "cell_type": "markdown",
      "metadata": {
        "id": "xLEbuJDuelY5"
      },
      "source": [
        "<span style=\"font-size:80%\">[문제2]<br><br></span>\n",
        "```Python의 PEP 8은 무엇인지 설명하고 PEP 8의 핵심적인 규칙을 1개 이상을 설명해주세요```"
      ]
    },
    {
      "cell_type": "markdown",
      "source": [],
      "metadata": {
        "id": "uynWtbCjo1jF"
      }
    },
    {
      "cell_type": "markdown",
      "metadata": {
        "id": "wH2yzyZielY5"
      },
      "source": [
        "<span style=\"color:red\">답변</span>"
      ]
    },
    {
      "cell_type": "markdown",
      "metadata": {
        "id": "i5LYLw-qelY6"
      },
      "source": [
        "1. PEP 8이 무엇이고 왜 중요한가\n",
        "\n",
        "    PEP 8은 \"Python Enhancement Proposal 8\"의 약자입니다.\n",
        "    \n",
        "    이것은 파이썬 코드를 어떻게 작성해야 하는지에 대한 가드라인 입니다.\n",
        "\n",
        "    마치 우리가 글을 쓸 때 맞춤법과 문법을 지키는 것처럼, 코드에도 '올바른 작성법' 이 있습니다\n",
        "\n",
        "왜 이렇게 중요 할까요?\n",
        "\n",
        "    -일관성 : 모든 파이썬 개발자가 같은 스타일로 코드를 작성하면, 서로의 코드를 쉽게 이해할 수 있다.\n",
        "    -가독성 : 깔끔하고 일관된 코드는 읽기 쉽고 유지보수하기도 편하다.\n",
        "    -협업 : 팀 프로젝트 에서 모두가 같은 큐칙을 따르면 코드 리뷰도 쉽고,충돌도 줄일 수 있다.\n",
        "    -전문성 : PEP 8을 잘 지키는 코드를 보면 \"아! 이 사람 파이썬 진짜 잘하는구나!\"라고 생각하게 된다.\n",
        "\n",
        "재능넷에서 파이썬 관력 프로젝트를 의뢰하거나 수주할 때도,PEP 8을 잘 지키는 코드는 높은 평가를 받을수 있어 그만큼 중요 합니다\n",
        "\n",
        "2. 핵심적인 규칙을 설명 해줏겠습니다\n",
        "\n",
        "    2.1-들여쓰기(indentation)\n",
        "    \n",
        "    파이썬에서 들여쓰기는 단순히 코드를 예쁘게 하는게 아니라 코드의 구조를 결정 하는 아주 중요한 요소 입니다!!\n",
        "\n",
        "    -들여 쓰기는 4칸의 공백을 사용합니다.(탭 대신 공백을 권장)\n",
        "    -이는 코드의 가독성을 높이고 일관성을 유지합니다\n",
        "\n",
        "예시)\n",
        "# 좋은예\n",
        "    def good_function():\n",
        "        if True:\n",
        "            print(\"This is correct!\")\n",
        "\n",
        "# 나쁜 예\n",
        "    def bad_function():\n",
        "      if True:\n",
        "            print(\"this is wrong!\")\n",
        "        print(\"This will cause an error!\")\n",
        "    \n",
        "좋은 예시는 모든 들여쓰기가 4칸의 공백으로 되어 있어 보기 좋지만\n",
        "나쁜 예시는 들여쓰기가 일관 되지 않아 에러 코듣 방생 키셔 의도하지 않은 결과를 만들 수 있습니다.\n",
        "\n",
        "   2.2-최대 줄 길이\n",
        "\n",
        "   PEP 8은 한 줄의 최대 길이도 정해져 있습니다.\n",
        "\n",
        "   너무 긴줄은 읽기 어렵고, 여러 환경에서 코드를 볼 때 문제가 될수도 있기 때문입니다\n",
        "\n",
        "\n",
        "   -한 줄의 코드는 79자를 넘지 않도록 작성합니다\n",
        "\n",
        "   -긴 줄을 작성해야 할 경우, 여러 줄로 나누어 작성합니다\n",
        "\n",
        "예시)\n",
        "# 좋은 예\n",
        "    def long_function_name(\n",
        "            var_one, var_two, var_three,\n",
        "            var_four, var_five):\n",
        "        print(var_one)\n",
        "# 나쁜 예\n",
        "    def long_function_name(var_one, var_two, var_three,var_four, var_five):print(var_one)"
      ]
    },
    {
      "cell_type": "markdown",
      "metadata": {
        "id": "3ub6SLNnelY6"
      },
      "source": [
        "----"
      ]
    },
    {
      "cell_type": "markdown",
      "metadata": {
        "id": "-pD5QpcJelY6"
      },
      "source": [
        "<span style=\"font-size:80%\">[문제3]<br><br></span>\n",
        "```Python에서 \"#\"이 의마하는 것은 무엇인지 설명해주세요```"
      ]
    },
    {
      "cell_type": "markdown",
      "metadata": {
        "id": "f3jsptbZelY6"
      },
      "source": [
        "<span style=\"color:red\">답변</span>"
      ]
    },
    {
      "cell_type": "markdown",
      "metadata": {
        "id": "ai8dlO_aelY6"
      },
      "source": [
        "Python에서 \"#\"이 의마하는 것은\n",
        "주석을 나타내는 말입니다!\n",
        "\n",
        "주석의 사용 방식\n",
        "1. 한줄 주석\n",
        "- #뒤에 작성된 내용은 주석으로 처리 되며,Python 인터프리터가 무시합니다.\n",
        "- 주로 코드의 간단한 설명이나 메모를 추가할 때 사용합니다\n",
        "\n",
        "예시)\n",
        "    \n",
        "    #a 와 b를 더합니다\n",
        "    print(a+b)\n",
        "\n",
        "    결과 답 : ab\n",
        "\n",
        "이렇게 a 와 b 를 더합니다 글은 빼고 결과 답인 ab 만 나옵니다"
      ]
    },
    {
      "cell_type": "markdown",
      "metadata": {
        "id": "AZhosASRelY6"
      },
      "source": [
        "----"
      ]
    },
    {
      "cell_type": "markdown",
      "metadata": {
        "id": "OH5OkK3melY6"
      },
      "source": [
        "<span style=\"font-size:80%\">[문제4]<br><br></span>\n",
        "```Python의 들여쓰기 장점과 기능에 대해 설명해주세요```"
      ]
    },
    {
      "cell_type": "markdown",
      "metadata": {
        "id": "N7zhwPpnelY6"
      },
      "source": [
        "<span style=\"color:red\">답변</span>"
      ]
    },
    {
      "cell_type": "markdown",
      "metadata": {
        "id": "92BhpOSzelY7"
      },
      "source": [
        "Python에서 들여쓰기는 단순한 스타일 요소가 아니라 문법적으로 필수적인 요소입니다. 들여쓰기를 통해 코드의 구조와 계층을 명확히 표현합니다. 다른 프로그래밍 언어에서 사용하는 중괄호( { } )나 블록 구분 기호 없이 들여쓰기를 사용하여 블록을 구분하는 것이 Python의 독특한 특징입니다.\n",
        "\n",
        "#들여쓰기의 기능\n",
        "\n",
        "1. 코드 블록 구분\n",
        "\n",
        "- Python에서는 들여쓰기를 사용해 코드의 계층 구조를 정의합니다.\n",
        "- 조건문, 반복문, 함수, 클래스 등에서 들여쓰기의 깊이에 따라 코드 블록이 구분됩니다.\n",
        "\n",
        "    \n",
        "    if True:\n",
        "        print(\"Hello, World!\")  # 들여쓰기로 코드 블록 정의\n",
        "\n",
        "\n",
        "2. 명령문의 논리적 그룹화\n",
        "\n",
        "\n",
        "- 동일한 들여쓰기를 가진 코드는 논리적으로 하나의 그룹으로 간주됩니다.\n",
        "- 블록 안에 블록을 정의할 때는 추가적인 들여쓰기를 사용합니다.\n",
        "\n",
        "\n",
        "    for i in range(3):\n",
        "        print(f\"Outer loop: {i}\")\n",
        "        for j in range(2):\n",
        "            print(f\"  Inner loop: {j}\")\n",
        "\n",
        "\n",
        "3. Python 문법의 필수 요소\n",
        "\n",
        "- Python에서는 들여쓰기를 생략하거나 불일치하게 작성하면 IndentationError가 발생합니다.\n",
        "- 이는 들여쓰기를 강제하여 코드의 명확성과 일관성을 유지하려는 Python의 설계 철학을 반영합니다.\n",
        "\n",
        "\n",
        "    #잘못된 들여쓰기 예제\n",
        "    if True:\n",
        "    print(\"This will cause an IndentationError\")\n",
        "\n",
        "\n",
        "#들여쓰기의 장점\n",
        "\n",
        "1. 가독성 향상\n",
        "\n",
        "- Python은 들여쓰기를 강제하여 코드의 구조를 명확히 드러냅니다.\n",
        "- 다른 언어에서 중괄호를 사용하는 대신, Python은 들여쓰기를 통해 코드 블록을 표시하므로 코드가 더 읽기 쉽습니다.\n",
        "\n",
        "\n",
        "    #가독성 좋은 예제\n",
        "    def greet(name):\n",
        "        if name:\n",
        "            print(f\"Hello, {name}!\")\n",
        "        else:\n",
        "            print(\"Hello, Guest!\")\n",
        "\n",
        "\n",
        "2. 일관된 스타일 유지\n",
        "\n",
        "\n",
        "- 들여쓰기 강제는 모든 Python 코드가 일관된 스타일을 따르도록 합니다.\n",
        "- 이는 협업 시 가독성을 높이고, 코드 리뷰와 유지보수를 쉽게 만듭니다.\n",
        "\n",
        "\n",
        "3. 간결한 코드 작성\n",
        "\n",
        "\n",
        "- 중괄호나 추가적인 블록 구분 기호를 생략할 수 있어 코드가 간결해집니다.\n",
        "\n",
        "\n",
        "    # Python\n",
        "    if x > 0:\n",
        "        print(\"Positive\")\n",
        "\n",
        "비교:\n",
        "\n",
        "\n",
        "    // C 언어\n",
        "    if (x > 0) {\n",
        "        printf(\"Positive\");\n",
        "    }\n",
        "\n",
        "\n",
        "4. 오류 방지\n",
        "\n",
        "- 강제된 들여쓰기로 인해 중괄호를 누락하거나 블록 경계를 잘못 설정하는 오류를 줄일 수 있습니다.\n",
        "- 개발자가 작성한 코드의 계층 구조를 명확히 인식할 수 있도록 돕습니다.\n",
        "\n",
        "\n",
        "5. Pythonic 코드 철학\n",
        "\n",
        "\n",
        "- Python의 설계 원칙 중 하나인 \"명확한 것이 암묵적인 것보다 낫다\" (Explicit is better than implicit)를 실현합니다.\n"
      ]
    },
    {
      "cell_type": "markdown",
      "metadata": {
        "id": "DoFonDl8elY7"
      },
      "source": [
        "----"
      ]
    },
    {
      "cell_type": "markdown",
      "metadata": {
        "id": "4d7XB17SelY7"
      },
      "source": [
        "<span style=\"font-size:80%\">[문제5]<br><br></span>\n",
        "```print( )문의 기능 및 특징에 대해 설명해주세요```"
      ]
    },
    {
      "cell_type": "markdown",
      "metadata": {
        "id": "XxrcEm1selY7"
      },
      "source": [
        "<span style=\"color:red\">답변</span>"
      ]
    },
    {
      "cell_type": "markdown",
      "metadata": {
        "id": "xR3QUxlVelY7"
      },
      "source": [
        "#print()의 주요 기능\n",
        "\n",
        "\n",
        "1. 문자열 출력\n",
        "\n",
        "- 문자열을 출력할 수 있습니다.\n",
        "\n",
        "\n",
        "    print(\"Hello, OZ!\")  # Hello, OZ!\n",
        "\n",
        "\n",
        "2. 변수 출력\n",
        "\n",
        "\n",
        "- 변수의 값을 출력할 수 있습니다.\n",
        "\n",
        "\n",
        "    name = \"OZ\"\n",
        "    print(name)  # OZ\n",
        "\n",
        "\n",
        "3. 다중 데이터 출력\n",
        "\n",
        "\n",
        "- 쉼표(,로) 여러 데이터를 한 줄에 출력할 수 있습니다.\n",
        "\n",
        "\n",
        "    print(\"Name:\", name, \"Age:\", 25)  # Name: OZ Age: 25\n",
        "\n",
        "\n",
        "4. 포맷팅 출력\n",
        "\n",
        "- 데이터의 형식을 지정하여 출력할 수 있습니다.\n",
        "\n",
        "\n",
        "    # f-string 방식\n",
        "    name = \"OZ\"\n",
        "    age = 25\n",
        "    print(f\"My name is {OZ} and I am {25} years old.\")\n",
        "\n",
        "\n",
        "5. 파일 출력\n",
        "\n",
        "- 데이터를 파일로 출력할 수 있습니다.\n",
        "\n",
        "\n",
        "    with open(\"output.txt\", \"w\") as f:\n",
        "        print(\"Hello, File!\", file=f)\n",
        "\n",
        "\n",
        "#print()의 주요 특징\n",
        "\n",
        "1. 자동 개행\n",
        "\n",
        "- 기본적으로 출력 후 자동으로 줄 바꿈이 이루어집니다.\n",
        "\n",
        "\n",
        "    print(\"Hello\")\n",
        "    print(\"OZ\")\n",
        "    # 출력 결과:\n",
        "    # Hello\n",
        "    # OZ\n",
        "\n",
        "- 줄 바꿈을 방지하려면 end 매개변수를 설정합니다.\n",
        "\n",
        "\n",
        "    print(\"Hello\", end=\" \")\n",
        "    print(\"OZ\")\n",
        "    # 출력 결과: Hello OZ\n",
        "\n",
        "\n",
        "2. 다양한 데이터 유형 출력\n",
        "\n",
        "- 숫자, 문자열, 리스트, 딕셔너리 등 다양한 데이터 유형을 출력할 수 있습니다.\n",
        "\n",
        "\n",
        "    print(42)  # 42\n",
        "    print([1, 2, 3])  # [1, 2, 3]\n",
        "    print({\"name\": \"OZ\", \"age\": 25})  # {'name': 'OZ', 'age': 25}\n",
        "\n",
        "\n",
        "3. 쉼표로 데이터 구분\n",
        "\n",
        "- 여러 데이터를 쉼표로 나누어 출력하면 자동으로 공백으로 구분됩니다.\n",
        "\n",
        "\n",
        "    print(\"Hello\", \"World\", 123)  # Hello World 123\n",
        "\n",
        "\n",
        "4. 기본 출력 대상은 표준 출력(stdout)\n",
        "\n",
        "- 기본적으로 콘솔에 데이터를 출력하지만, file 매개변수를 통해 다른 출력 대상도 설정할 수 있습니다.\n"
      ]
    }
  ],
  "metadata": {
    "language_info": {
      "name": "python"
    },
    "colab": {
      "provenance": [],
      "include_colab_link": true
    }
  },
  "nbformat": 4,
  "nbformat_minor": 0
}