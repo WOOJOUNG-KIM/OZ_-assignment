{
  "cells": [
    {
      "cell_type": "markdown",
      "metadata": {
        "id": "view-in-github",
        "colab_type": "text"
      },
      "source": [
        "<a href=\"https://colab.research.google.com/github/WOOJOUNG-KIM/OZ_-assignment/blob/main/day1/S_Ch01_task.ipynb\" target=\"_parent\"><img src=\"https://colab.research.google.com/assets/colab-badge.svg\" alt=\"Open In Colab\"/></a>"
      ]
    },
    {
      "cell_type": "markdown",
      "metadata": {
        "id": "1ZB3rlbaN62M"
      },
      "source": [
        "<span style=\"font-size:100%\">\n",
        "\n",
        "수업은 모두 열심히 들으셨나요?\n",
        "\n",
        "간혹 강의에서 언급되지 않은 내용이 문제로 나올 수 있습니다.<br>\n",
        "그럴땐 강의 내용 외 문제는 구글링을 통해 해결해주세요<br></span>\n",
        "<span style=\"font-size:80%\">\n",
        "(구글링 또한 개발자가 갖쳐야할 역량 중에 하나랍니다 😊)\n",
        "</span>\n",
        "\n",
        "---"
      ]
    },
    {
      "cell_type": "markdown",
      "metadata": {
        "id": "IYMQ8MF3N62N"
      },
      "source": [
        "<span style=\"font-size:80%\">[문제1]<br><br></span>\n",
        "```인터프리트 방식에 대해 설명하고 2개 이상의 장점을 설명해주세요```"
      ]
    },
    {
      "cell_type": "markdown",
      "metadata": {
        "id": "K30U61JLN62O"
      },
      "source": [
        "<span style=\"color:red\">답변</span>"
      ]
    },
    {
      "cell_type": "markdown",
      "metadata": {
        "id": "WkTkwPm4N62O"
      },
      "source": [
        "###### 인터프리트 방식에 대해 설명\n",
        "인터프리터 방식은 고급언어로 작성된 프로그램을 한 문장씩 읽고, 번역후 실행하는 방식으로 프로그래머가\n",
        "수정한 사하이 바로 반영되고 오류가 있으면 실행 중 중단하므로 프로그래머가 빠브게 오류를 파악할수 있을\n",
        "뿐만 아니라 배우기 쉽다는 장점이 있습니다. 그래고 인터프리터가 설치된 곳이면 어느 곳에서도 실행이\n",
        "가능하므로 프로그램의 이익성이 높습니다\n",
        "\n",
        "##장점 1. 번역 과정에서 실행파일이 따로 생성되지 않아 메모리 사용이 적다.\n",
        "\n",
        "##장점 2. 시스템 간 이익성(portability)이 뛰어나다\n",
        "\n",
        "##장점 3. 코드 수정 및 디버깅이 간단하다."
      ]
    },
    {
      "cell_type": "markdown",
      "metadata": {
        "id": "RN1FjunkN62O"
      },
      "source": [
        "---"
      ]
    },
    {
      "cell_type": "markdown",
      "metadata": {
        "id": "gfy9mGtpN62O"
      },
      "source": [
        "<span style=\"font-size:80%\">[문제2]<br><br></span>\n",
        "```동적 타입 방식의 장점과 단점을 간략히 설명해주세요```"
      ]
    },
    {
      "cell_type": "markdown",
      "metadata": {
        "id": "uFtLZCaCN62P"
      },
      "source": [
        "<span style=\"color:red\">답변</span>"
      ]
    },
    {
      "cell_type": "markdown",
      "metadata": {
        "id": "5d2Sb-fuN62P"
      },
      "source": [
        "#장점\n",
        "\n",
        "1. 타입 선언이 간결하고 코드의 양을 줄일 수 있다\n",
        "\n",
        "2. 타입 변환과 관련된 유연성이 높아 다양한 타입의 데이터를 쉽게 처리할 수 있다\n",
        "\n",
        "#단점\n",
        "\n",
        "1. 타입 에러로 인한 문제점을 초기에 발견할 수 없다는 단점이 있다"
      ]
    },
    {
      "cell_type": "markdown",
      "metadata": {
        "id": "AHCQ_r3FN62Q"
      },
      "source": [
        "---"
      ]
    },
    {
      "cell_type": "markdown",
      "metadata": {
        "id": "2CZ_dxdZN62Q"
      },
      "source": [
        "<span style=\"font-size:80%\">[문제3]<br><br></span>\n",
        "```Python으로 정적타입 방식의 코드를 작성할 수 있는 방법을 구글링을 통해 검색 후 설명해주세요```"
      ]
    },
    {
      "cell_type": "markdown",
      "metadata": {
        "id": "eV7cpXNSN62Q"
      },
      "source": [
        "# 정적 타이핑\n",
        "\n",
        "자료형 검사가 컴파일타임 동안 진행되면 정적 타이핑으로 분류한다.\n",
        "\n",
        "대표적으로 C,C++, JAVA 등의 컴파일 언어가 이에 해당.\n",
        "\n",
        "검사가 컴파일 동안 진행된다는 것의 의미는, 변수의 자료형을 사전에 지정해야 한다는 것이다.\n",
        "\n",
        "(C, JAVA 를 생각해보면 int,str,float 등의 자료형을 미리 지정하고 변수를 선언 해야 한다)\n",
        "\n",
        "\n",
        "\n",
        "    #Java\n",
        "\n",
        "    int a;\n",
        "    String b;\n",
        "\n",
        "    a = 1;\n",
        "    b = \"hollo java\";\n",
        "\n",
        "\n",
        "자료형에 대한 판단을 사전에 하기 때문에 진행 속도가 빠르다.\n",
        "당연히 type error로 인환 문제점들을 초기에 발견하기 쉽다.\n",
        "\n",
        "- complile: 원해의 소스 코드(원시 코드)를 목적 코드(기계어, 프로그램이나 하드웨어가 처리하기 용이한 형태)로 옴기는것을 말한다\n",
        "- interpret: 프로그래밍 언어의 소스 코드(원시 코드)를 바로 실행하는 것"
      ]
    },
    {
      "cell_type": "markdown",
      "metadata": {
        "id": "8h5WlV4WN62Q"
      },
      "source": [
        "<span style=\"color:red\">답변</span>"
      ]
    },
    {
      "cell_type": "markdown",
      "metadata": {
        "id": "qLYunoc2N62Q"
      },
      "source": [
        "---"
      ]
    },
    {
      "cell_type": "markdown",
      "metadata": {
        "id": "0EujHohmN62Q"
      },
      "source": [
        "<span style=\"font-size:80%\">[문제4]<br><br></span>\n",
        "```프로세스와 스레드의 차이점을 설명해주세요```"
      ]
    },
    {
      "cell_type": "markdown",
      "source": [
        "<span style=\"color:red\">답변</span>"
      ],
      "metadata": {
        "id": "8bL9QiEvSQFq"
      }
    },
    {
      "cell_type": "markdown",
      "source": [
        "##1. 프로세스는 독립적인 집과 같음. 각 집은 서로 분리되어 있고, 데이터를 공유할려면 특별한 순단(우편 등)이 필료함.\n",
        "##2. 스레드는 한 집 안의 방과 같음. 같은 집 안에서는 물건(메모리)을 쉽게 공유하지만, 관리가 잘못되면 서로 부딪히거나 충돌할 수 있음.\n",
        "\n",
        "- 프로세스는 독립적이고 안정적: 오버헤드가 크지만, 한 프로세스의 문제는 다른 프로세스에 영향을 미치지 않음.\n",
        "- 스레드는 가볍고 효율적: 빠르게 생성되고 실행되지만, 안정성(공유 메모리 문제)에 신경 써야 함."
      ],
      "metadata": {
        "id": "_TSGLo-lSVXY"
      }
    },
    {
      "cell_type": "markdown",
      "metadata": {
        "id": "bdJod2DZN62R"
      },
      "source": [
        "---"
      ]
    },
    {
      "cell_type": "markdown",
      "metadata": {
        "id": "uYbU6yJ0N62R"
      },
      "source": [
        "<span style=\"font-size:80%\">[문제5]<br><br></span>\n",
        "```Python 2버전대와 3버전대의 차이를 성명해주세요```"
      ]
    },
    {
      "cell_type": "markdown",
      "metadata": {
        "id": "06IntBDTN62R"
      },
      "source": [
        "<span style=\"color:red\">답변</span>"
      ]
    },
    {
      "cell_type": "markdown",
      "metadata": {
        "id": "ZtDn0VhjN62R"
      },
      "source": [
        "#파이썬 2버전대와 3버전대의 차이 점!\n",
        "\n",
        "\n",
        "##1. 출력방식\n",
        "\n",
        "- Python 2: print \"Hello\"\n",
        "- Python 3: print(\"Hello\")\n",
        "\n",
        "##2. 문자열\n",
        "\n",
        "- Python 2: 기본적으로 ASCII 로고 Unicode시에는 \"u\"를 붙여야함\n",
        "- Python 3: 기본적으로 문자열은 Unicde\n",
        "\n",
        "- 예를들어\n",
        "    \n",
        "    \n",
        "##Python2:\n",
        "    \n",
        "    # Python2 의 ASCII 문자열은\n",
        "    s = \"안녕하세요\"     # Python3 버전 처럼 쓰기에는 에러가 뜨기 때문에\n",
        "\n",
        "    # Unicode 문자열로\n",
        "    s = u\"안녕하세요\"     # Unicode 사용이 필요합니다\n",
        "    print s\n",
        "\n",
        "##Pyhon3:\n",
        "    \n",
        "    \n",
        "    # Python3 의 기본 문자열은\n",
        "    s = \"안녕하세요\"      # 기본적으로 유니코드가 있어 사용하기 편해졌습니다\n",
        "    print(s)\n",
        "\n",
        "##3. 정수 나눗셈\n",
        "1. Python 2: /(나누기) 는 정수끼리 나눌때 항상 내림(floor division)을 수행\n",
        "- 소수점 이하를 버리고 경과를 정수로 반환.\n",
        "- 음수에서도 결과는 내림(floor) 적용.\n",
        "- 예를들면\n",
        "\n",
        "    \n",
        "    \n",
        "    print 7 / 2      #결과 : 3 (내림)\n",
        "    print -7 / 2.    #결과 : -4 (내림)\n",
        "    \n",
        "    내림이 뭐야 Python 2 서비스 정지 된다 해서 신경 안써도 되지만\n",
        "    Python 3 에도 내림이 있어 알고 가는게 좋습니다\n",
        "    +4.1~9 는 4.0 으로 내리고 -4.1~9 는 -5 로 내립니다\n",
        "\n",
        "\n",
        "\n",
        "2. Python 3: /(나누기) 는 항상 실수(float) 결과를 반환\n",
        "- 정수 결과를 원하면 // 사용해야 합니다.\n",
        "- //는 Python 2 와 동일 하게 내림(floor division)을 수행.\n",
        "- 예시\n",
        "\n",
        "\n",
        "    print(7 / 2)      #결과: 3.5 (항상 실수 반환)\n",
        "    print(7 // 2)     #결과: 3   (내림)\n",
        "    print(-7 // 2)    #결과: -4  (내림)"
      ]
    },
    {
      "cell_type": "markdown",
      "metadata": {
        "id": "P3LAx78tN62R"
      },
      "source": [
        "---"
      ]
    },
    {
      "cell_type": "markdown",
      "metadata": {
        "id": "VFy2LKfKN62R"
      },
      "source": [
        "<span style=\"font-size:80%\">[문제6]<br><br></span>\n",
        "```Python에서 메모리 관리는 어떻게 이루어지는지 설명해주세요```"
      ]
    },
    {
      "cell_type": "markdown",
      "metadata": {
        "id": "urACANoIN62R"
      },
      "source": [
        "<span style=\"color:red\">답변</span>"
      ]
    },
    {
      "cell_type": "markdown",
      "metadata": {
        "id": "y5je9AaWN62R"
      },
      "source": [
        "정리 로만 말하자면\n",
        "- 파이썬은 python memory menagement가 자동으로 메모르 관리를 해준다.\n",
        "- 파이썬은 모든 것이 객체이고, 이 객체는 힙영역에 저장된다. 힙영역의 동적 할당을 파이썬에서 자동으로 해주는것이다.\n",
        "- 할당을 관리하는 방법은 객체의 reference count가 0이 되면 해당 객체에 대한 메모리를 해제한다."
      ]
    }
  ],
  "metadata": {
    "language_info": {
      "name": "python"
    },
    "colab": {
      "provenance": [],
      "include_colab_link": true
    },
    "kernelspec": {
      "name": "python3",
      "display_name": "Python 3"
    }
  },
  "nbformat": 4,
  "nbformat_minor": 0
}