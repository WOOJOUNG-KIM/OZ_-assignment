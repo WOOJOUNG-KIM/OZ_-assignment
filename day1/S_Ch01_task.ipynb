{
  "cells": [
    {
      "cell_type": "markdown",
      "metadata": {
        "id": "view-in-github",
        "colab_type": "text"
      },
      "source": [
        "<a href=\"https://colab.research.google.com/github/WOOJOUNG-KIM/OZ_-assignment/blob/main/S_Ch01_task.ipynb\" target=\"_parent\"><img src=\"https://colab.research.google.com/assets/colab-badge.svg\" alt=\"Open In Colab\"/></a>"
      ]
    },
    {
      "cell_type": "markdown",
      "metadata": {
        "id": "1ZB3rlbaN62M"
      },
      "source": [
        "<span style=\"font-size:100%\">\n",
        "\n",
        "수업은 모두 열심히 들으셨나요?\n",
        "\n",
        "간혹 강의에서 언급되지 않은 내용이 문제로 나올 수 있습니다.<br>\n",
        "그럴땐 강의 내용 외 문제는 구글링을 통해 해결해주세요<br></span>\n",
        "<span style=\"font-size:80%\">\n",
        "(구글링 또한 개발자가 갖쳐야할 역량 중에 하나랍니다 😊)\n",
        "</span>\n",
        "\n",
        "---"
      ]
    },
    {
      "cell_type": "markdown",
      "metadata": {
        "id": "IYMQ8MF3N62N"
      },
      "source": [
        "<span style=\"font-size:80%\">[문제1]<br><br></span>\n",
        "```인터프리트 방식에 대해 설명하고 2개 이상의 장점을 설명해주세요```"
      ]
    },
    {
      "cell_type": "markdown",
      "metadata": {
        "id": "K30U61JLN62O"
      },
      "source": [
        "<span style=\"color:red\">답변</span>"
      ]
    },
    {
      "cell_type": "code",
      "source": [],
      "metadata": {
        "id": "ZnJzuMoe4b71"
      },
      "execution_count": null,
      "outputs": []
    },
    {
      "cell_type": "markdown",
      "source": [],
      "metadata": {
        "id": "X2p2u22NedgP"
      }
    },
    {
      "cell_type": "markdown",
      "metadata": {
        "id": "WkTkwPm4N62O"
      },
      "source": [
        "인터프리트 방식에 대해 설명\n",
        "인터프리터 방식은 고급언어로 작성된 프로그램을 한 문장씩 읽고, 번역후 실행하는 방식으로 프로그래머가\n",
        "수정한 사하이 바로 반영되고 오류가 있으면 실행 중 중단하므로 프로그래머가 빠브게 오류를 파악할수 있을\n",
        "뿐만 아니라 배우기 쉽다는 장점이 있습니다. 그래고 인터프리터가 설치된 곳이면 어느 곳에서도 실행이\n",
        "가능하므로 프로그램의 이익성이 높습니다\n",
        "\n",
        "장점 1. 번역 과정에서 실행파일이 따로 생성되지 않아 메모리 사용이 적다.\n",
        "\n",
        "장점 2. 시스템 간 이익성(portability)이 뛰어나다\n",
        "\n",
        "장점 3. 코드 수정 및 디버깅이 간단하다."
      ]
    },
    {
      "cell_type": "markdown",
      "metadata": {
        "id": "RN1FjunkN62O"
      },
      "source": [
        "---"
      ]
    },
    {
      "cell_type": "markdown",
      "metadata": {
        "id": "gfy9mGtpN62O"
      },
      "source": [
        "<span style=\"font-size:80%\">[문제2]<br><br></span>\n",
        "```동적 타입 방식의 장점과 단점을 간략히 설명해주세요```"
      ]
    },
    {
      "cell_type": "markdown",
      "metadata": {
        "id": "uFtLZCaCN62P"
      },
      "source": [
        "<span style=\"color:red\">답변</span>"
      ]
    },
    {
      "cell_type": "markdown",
      "metadata": {
        "id": "5d2Sb-fuN62P"
      },
      "source": [
        "##장점\n",
        "\n",
        "1. 타입 선언이 간결하고 코드의 양을 줄일 수 있다\n",
        "\n",
        "2. 타입 변환과 관련된 유연성이 높아 다양한 타입의 데이터를 쉽게 처리할 수 있다\n",
        "\n",
        "##단점\n",
        "\n",
        "1. 타입 에러로 인한 문제점을 초기에 발견할 수 없다는 단점이 있다"
      ]
    },
    {
      "cell_type": "markdown",
      "metadata": {
        "id": "AHCQ_r3FN62Q"
      },
      "source": [
        "---"
      ]
    },
    {
      "cell_type": "markdown",
      "metadata": {
        "id": "2CZ_dxdZN62Q"
      },
      "source": [
        "<span style=\"font-size:80%\">[문제3]<br><br></span>\n",
        "```Python으로 정적타입 방식의 코드를 작성할 수 있는 방법을 구글링을 통해 검색 후 설명해주세요```"
      ]
    },
    {
      "cell_type": "markdown",
      "metadata": {
        "id": "8h5WlV4WN62Q"
      },
      "source": [
        "<span style=\"color:red\">답변</span>"
      ]
    },
    {
      "cell_type": "markdown",
      "metadata": {
        "id": "eV7cpXNSN62Q"
      },
      "source": [
        "Python 은 동적 타입 언어입니다. 동적 타입 언어는 코드를 빠르게 작성하고 다양한 표현을 가능하게 하지만 강한 타입 시스템이 지원하는 타입 에러와 같은 안전망이 존재하지 않기 때문에 크고 복잡한 코드베이스에서 디버깅을 어렵게 하기도 합니다.\n",
        "\n",
        "Python 에서는 이런 문제를 해결하기 위해서 PEP 484가 제안되었고 그 명세를 만족시키는 정적 분석 도구로 mypy가 만들어졌습니다. mypy는 정적 타입 검사를 통해서 잘못된 타입으로 인해서 발생할 수 있는 오류를 빠르게 잡아낼 수 있도록 돕습니다.\n",
        "\n",
        "이 블로그 글에서는 mypy 도입 과정을 설명하고 Python 프로그램의 구성요소들을 타입으로 표현하기 위해서 어떤 기능들을 사용할 수 있는지 소개합니다. 더해서 mypy 도입을 통해서 어떤 오류들을 잡아낼 수 있는지도 알아보겠습니다.\n",
        "\n",
        "도입하기\n",
        "\n",
        "\n",
        "mypy의 도입은 아주 간단합니다. 선호하는 패키지 매니저를 이용해서 mypy를 설치 후 아래와 같이 파일을 검사할 수 있습니다. 필자가 현업에서 큰 코드베이스에 mypy 도입하는 과정에서 코드나 프로젝트 구조를 바꾸지 않고 mypy를 도입할 수 있었기 때문에 비교적 쉽게 팀원들을 설득할 수 있었다고 생각합니다.\n",
        "\n",
        "\n",
        "\n",
        "<strong>$ mypy [target file]</strong>\n",
        "\n",
        "\n",
        "\n",
        "여기서부터는 아래 피보나치 수열의 열번째 위치의 값을 출력하는 코드를 예시로 들어 보겠습니다.\n",
        "\n",
        "\n",
        "\n",
        "    def fibonacci(n):\n",
        "     if n <= 1:\n",
        "       return 1\n",
        "     elif n == 2:\n",
        "       return 1\n",
        "     else:\n",
        "       return fibonacci(n-1) + fibonacci(n-2)\n",
        "\n",
        "    print(fibonacci(10))\n",
        "\n",
        "\n",
        "mypy를 이용해서 파일을 검사하면 <i><strong>Success: no issues found in 1 source file</strong></i> 라는 결과를 반환합니다. 코드에 타입 정보가 하나도 존재하지 않는데도 검사가 성공한 이유는 mypy가 점진적 타이핑을 지원하기 위해서 타입 정보가 없는 코드의 경우 검사 시점에 건너뛰기 때문입니다. 점진적 타이핑은 mypy가 가진 가장 큰 장점 중 하나입니다.\n",
        "\n",
        "Dropbox에서 400만줄의 파이썬 코드에 타입 검사를 도입한 과정을 설명한 블로그 글을 보면 점진적 타이핑이 어떻게 처음 만들어졌는지가 나와있습니다. 점진적 타이핑의 핵심은 개발자가 초기에는 동적 타입을 이용해 빠른 속도로 프로토타입을 만들어내고 점차 프로덕션에 더 적합한 정적 타입의 코드로 프로토타입을 개선해나가는데 있습니다.\n",
        "\n",
        "함수에 타입 추가\n",
        "위의 코드에 아래와 같이 fibonacci  함수에 타입 정보를 추가해보겠습니다. 타입 정보에 관한 명세가 궁금하신 경우 PEP 484 또는 typing module 문서를 참고하면 됩니다.\n",
        "\n",
        "\n",
        "\n",
        "    def fibonacci(n: int) -> None:\n",
        "     if n <= 1:\n",
        "       return 1\n",
        "     elif n == 2:\n",
        "       return 1\n",
        "\n",
        "    else:\n",
        "      return fibonacci(n-1) + fibonacci(n-2)\n",
        "\n",
        "    print(fibonacci(10))\n",
        "\n",
        "\n",
        "위와 같이 타입 정보를 추가해보았습니다. 반환값의 타입이 None 으로 지정되어 있지만 실제로는 int 를 반환하기 때문에 mypy가 아래와 같이 타입 정보와 다른 return 명령이 존재하는 오류를 찾아냅니다.\n",
        "\n",
        "\n",
        "\n",
        "    fibonacci.py:3: error: No return value expected  [return-value]\n",
        "    fibonacci.py:5: error: No return value expected  [return-value]\n",
        "    fibonacci.py:7: error: \"fibonacci\" does not return a value (it only ever\n",
        "    returns None)  [func-returns-value]\n",
        "    fibonacci.py:9: error: \"fibonacci\" does not return a value (it only ever\n",
        "    returns None)  [func-returns-value]\n",
        "    Found 4 errors in 1 file (checked 1 source file)\n",
        "\n",
        "\n",
        "\n",
        "\n",
        "타입 추론\n",
        "그렇다면, 코드에 존재하는 모든 변수와 매개변수에 대해서 타입 정보를 기입해줘야 mypy를 사용할수 있는 걸까요? 그렇지는 않습니다.\n",
        "\n",
        "\n",
        "\n",
        "mypy는 타입 추론을 통해서 작성자가 타입 정보를 기입하지 않은 변수에 대해서도 타입 정보를 확보할 수 있습니다. 예를 들어서 아래 코드를 mypy로 검사하면 <strong>Argument 1 to \"fibonacci\" has incompatible type \"str\"; expected \"int\"</strong> 와 같은 에러 메시지를 확인할 수 있습니다.\n",
        "\n",
        "\n",
        "\n",
        "    def fibonacci(n: int) -> None:\n",
        "     if n <= 1:\n",
        "       return 1\n",
        "     elif n == 2:\n",
        "       return 1\n",
        "\n",
        "    else:\n",
        "      return fibonacci(n-1) + fibonacci(n-2)\n",
        "\n",
        "    print(fibonacci('foo'))\n",
        "\n",
        "타입 추론은 개발자가 코드 전체에 걸쳐서 타입 정보를 기입하는 일을 피할 수 있도록 해 줄 뿐만 아니라 사람이 타입 정보를 기입하면서 생길 수 있는 실수를 줄이는데도 도움을 줍니다.\n",
        "\n",
        "typing 모듈\n",
        "위의 예시 코드들에서는 Python 인터프리터가 제공하는 타입들을 이용해서 타입 정보를 기술했습니다. 보다 풍부한 표현을 위해서 Python 에서는 typing 이라는 모듈을 통해서 추가적인 타입들을 제공합니다.\n",
        "\n",
        "\n",
        "\n",
        "대표적으로 ‘Any’ 는 어떤 타입이든 가질 수 있는 변수나 매개변수를 의미합니다. ‘Callable’ 은 함수나 익명함수의 타입 정보를 정의하는데 사용될 수 있습니다. ‘Union’ 은 변수나 매개변수가 하나 이상의 타입을 가질 수 있는 경우를 표현하기 위해서 사용됩니다. ‘Optional’ 은 변수나 매개변수가 None이거나 주어진 타입이라는 것을 의미하며, 실제로는 Union 타입의 특정한 사용 사례에 대한 syntax sugar 입니다. ‘Iterator’ 와 ‘Generator’ 는 각각 이터레이터와 제네레이터의 타입 정보를 정의하기 위해 사용될 수 있습니다. 각각의 구체적인 명세는 typing module 문서를 참고할 수 있습니다.\n",
        "\n",
        "\n",
        "\n",
        "    any_variable: Any = 1\n",
        "    any_variable = 'a'\n",
        "\n",
        "    callable_variable: Callable[[int], int] = lambda x: x+1\n",
        "    \n",
        "    union_variable__int_or_bool: Union[int, bool] = 1\n",
        "    union_variable__int_or_bool = False\n",
        "\n",
        "\n",
        "    optional_variable: Optional[int] = 1\n",
        "    optional_variable = None\n",
        "\n",
        "\n",
        "\n",
        "\n",
        "클래스에 타입 도입\n",
        "Python 함수의 타입 정보는 ‘Callable’ 을 이용해서 표현 가능한 것을 위 문단에서 배웠습니다. 그렇다면 Python 클래스는 어떻게 표현할 수 있을까요?\n",
        "\n",
        "\n",
        "\n",
        "Python 클래스는 그 자체로서 타입 정보를 표현하는데 사용될 수 있습니다. 하지만 클래스의 구성 요소들에 대해서는 타입 정보를 제공할 필요가 있습니다. 대표적으로 클래스의 메소드들에 대해서 타입 정보가 존재하지 않으면 mypy는 해당 메소드에 대해서 타입 검사를 수행하지 않습니다. 자식 클래스에서 메소드를 오버라이드 하는 경우에는 부모 클래스에서 정의된 타입 정보에 의한 제약이 존재합니다. 가령 자식 클래스에서 오버라이드 된 메소드에서 같은 이름의 매개변수는 같은 타입, 또는 기존에 정의된 타입의 서브타입으로만 존재할 수 있습니다. 메소드의 매개변수의 개수를 줄이는 것은 불가능하고 매개변수를 추가하는 경우 매개변수의 기본 값이 존재해야만 합니다.\n",
        "\n",
        "\n",
        "\n",
        "또한, 클래스의 정의에 포함된 변수의 값이 인스턴스를 통해서 수정되는 것을 막고 싶다면 ‘ClassVar’ 타입을 이용할 수 있습니다. 만약 클래스에서 사전에 정의되지 않은 타입을 매개 변수나 반환값으로 가져야 할 필요가 있다면 ‘Generic’ 타입을 이용할 수 있습니다.\n",
        "\n",
        "\n",
        "\n",
        "    class ClassA:\n",
        "     a: ClassVar[int] = 0\n",
        "     b: float = 0.0\n",
        "\n",
        "    def isLargerThan(self, other: float) -> bool:\n",
        "      return self.b > other\n",
        "\n",
        "    instanceA = ClassA()\n",
        "    # instanceA.a = 2  # mypy 가 에러 메시지를 반환한다\n",
        "\n",
        "    class ClassB(ClassA):\n",
        "     # int 는 float 의 서브타입이 아니기 때문에 mypy 가 에러 메시지를 반환한다\n",
        "     # def isLargerThan(self, other: int) -> bool:\n",
        "     #   return self.b > other\n",
        "     def isLargerThan(self, other: float, forceTrue: bool = True):\n",
        "       return forceTrue or self.b > other\n",
        "   \n",
        "    # int 의 서브타입인 타입 인자 T를 선언한다\n",
        "    T = TypeVar('T', bound=int)\n",
        "\n",
        "    # T 는 int 의 서브타입이기 때문에 target + 1 은 항상 실행될 수 있다\n",
        "    class GenericClass(Generic[T]):\n",
        "     def plusOne(self, target: T):\n",
        "       return target + 1\n",
        "\n",
        "\n",
        "또 한가지 흥미로운 점은 mypy가 추상 클래스와 일반 클래스를 구분하고 추상 클래스, 또는 추상 메소드를 가지는 클래스를 이용해 인스턴스 생성을 시도하는 코드에 대해서 오류를 찾아내는 기능을 가지고 있다는 점입니다.\n",
        "\n",
        "\n",
        "\n",
        "\n",
        "\n",
        "기대 효과\n",
        "이와 같이 mypy는 풍부한 표현을 가능하게 하는 다양한 도구들을 제공합니다. 이러한 풍부한 표현은 Python 프로그램이 높은 수준의 안정성을 달성할 수 있도록 해 줍니다.\n",
        "\n",
        "\n",
        "\n",
        "mypy를 이용하면 아래와 같은 실수들을 런타임을 거치지 않고 찾아낼 수 있습니다.\n",
        "\n",
        "\n",
        "\n",
        "매개변수에 잘못된 타입의 값을 전달하는 실수\n",
        "잘못된 타입의 값을 반환하는 실수\n",
        "변수에 다른 타입의 값을 대입하는 실수\n",
        "존재하지 않는 빌트인 함수나 메소드를 사용하는 실수\n",
        "Optional 인 변수에 대해서 None인지 검사를 하지 않는 실수\n",
        "추상 클래스를 인스턴스화하는 실수\n",
        "\n",
        "\n",
        "이러한 실수들은 프로젝트의 크기가 커지고 복잡도가 증가하면서 자연스럽게 나타나는 종류의 것들입니다. 필자는 현업에서 여러 크고 작은 Python 프로젝트를 다루면서 이러한 실수들이 빈번하게 발생하는 것을 보았고 어떤 경우에는 제품과 회사에 큰 손실로 이어지는 사례도 보았습니다. 이러한 실수들이 이어지면 코드를 읽고 쓰는데 더 많은 노력이 들어가게 되고 팀 사기를 떨어뜨릴 수도 있기 때문에 사람의 노력을 적게 들이면서 실수를 줄일 수 있는 방법이 필요합니다. 필자는 mypy가 제공하는 다양한 도구들을 이용해서 Python 코드에 타입 검사를 도입하는 것이 위에서 언급한 실수를 줄일 수 있는 가장 좋은 방법 중 하나라고 생각합니다.\n",
        "\n",
        "\n",
        "\n",
        "블로그 글의 가장 앞에서 언급했듯이 mypy는 도입 비용이 적기 때문에 프로젝트가 이미 커진 상황에서도 도입이 비교적 쉽고 점진적 타이핑을 통해서 프로젝트 코드를 순차적으로 개선해나갈 수 있다는 장점이 있습니다. 만약 독자들 중 Python 코드에서 위와 같은 실수를 빈번하게 발견하는 분이 있다면 mypy를 도입해보시기를 추천합니다.\n",
        "\n",
        "\n",
        "\n",
        "\n",
        "\n",
        "    Jacob\n",
        "\n",
        "    * F-Lab 멘토링, 'Python Backend' 과정 멘토\n",
        "    * '센드버드' 출신, 엔지니어링 조직 문화와 생산성에 관심이 많은 개발자"
      ]
    },
    {
      "cell_type": "markdown",
      "metadata": {
        "id": "qLYunoc2N62Q"
      },
      "source": [
        "---"
      ]
    },
    {
      "cell_type": "markdown",
      "metadata": {
        "id": "0EujHohmN62Q"
      },
      "source": [
        "<span style=\"font-size:80%\">[문제4]<br><br></span>\n",
        "```프로세스와 스레드의 차이점을 설명해주세요```"
      ]
    },
    {
      "cell_type": "markdown",
      "metadata": {
        "id": "D8nBFc8uN62Q"
      },
      "source": [
        "<span style=\"color:red\">답변</span>"
      ]
    },
    {
      "cell_type": "markdown",
      "metadata": {
        "id": "SVnR1Bw1N62Q"
      },
      "source": [
        "##- 프로세스는 독립적인 집과 같음. 각 집은 서로 분리되어 있고, 데이터를 공유할려면 특별한 순단(우편 등)이 필료함.\n",
        "##- 스레드는 한 집 안의 방과 같음. 같은 집 안에서는 물건(메모리)을 쉽게 공유하지만, 관리가 잘못되면 서로 부딪히거나 충돌할 수 있음.\n",
        "\n",
        "- 프로세스는 독립적이고 안정적: 오버헤드가 크지만, 한 프로세스의 문제는 다른 프로세스에 영향을 미치지 않음.\n",
        "- 스레드는 가볍고 효율적: 빠르게 생성되고 실행되지만, 안정성(공유 메모리 문제)에 신경 써야 함."
      ]
    },
    {
      "cell_type": "markdown",
      "metadata": {
        "id": "bdJod2DZN62R"
      },
      "source": [
        "---"
      ]
    },
    {
      "cell_type": "markdown",
      "metadata": {
        "id": "uYbU6yJ0N62R"
      },
      "source": [
        "<span style=\"font-size:80%\">[문제5]<br><br></span>\n",
        "```Python 2버전대와 3버전대의 차이를 성명해주세요```"
      ]
    },
    {
      "cell_type": "markdown",
      "metadata": {
        "id": "06IntBDTN62R"
      },
      "source": [
        "<span style=\"color:red\">답변</span>"
      ]
    },
    {
      "cell_type": "markdown",
      "metadata": {
        "id": "ZtDn0VhjN62R"
      },
      "source": [
        "#Python 2 와 3의 핵심 차이점\n",
        "\n",
        "1. 지원 여부:\n",
        "\n",
        "- Python 2는 2020년에 지원 종료. Python 3는 현재 공식 지원 중.\n",
        "\n",
        "2. 문자열 처리:\n",
        "\n",
        "- Python 2: 기본값이 ASCII.\n",
        "- Python 3: 기본값이 UTF-8(유니코드).\n",
        "\n",
        "3. print 사용:\n",
        "\n",
        "- Python 2: print는 문장(statement).\n",
        "- Python 3: print는 함수(function).\n",
        "\n",
        "4. 나눗셈 연산:\n",
        "\n",
        "- Python 2: /는 정수 또는 실수 나눗셈(상황에 따라 다름).\n",
        "- Python 3: /는 항상 실수 나눗셈, 정수 나눗셈은 //.\n",
        "\n",
        "5. 입력 함수:\n",
        "\n",
        "- Python 2: raw_input()와 input() 존재.\n",
        "- Python 3: input()만 존재.\n",
        "\n",
        "6. 모듈과 기능:\n",
        "\n",
        "- Python 3는 최신 모듈과 기능을 지속적으로 지원.\n"
      ]
    },
    {
      "cell_type": "markdown",
      "metadata": {
        "id": "P3LAx78tN62R"
      },
      "source": [
        "---"
      ]
    },
    {
      "cell_type": "markdown",
      "metadata": {
        "id": "VFy2LKfKN62R"
      },
      "source": [
        "<span style=\"font-size:80%\">[문제6]<br><br></span>\n",
        "```Python에서 메모리 관리는 어떻게 이루어지는지 설명해주세요```"
      ]
    },
    {
      "cell_type": "markdown",
      "metadata": {
        "id": "urACANoIN62R"
      },
      "source": [
        "<span style=\"color:red\">답변</span>"
      ]
    },
    {
      "cell_type": "markdown",
      "metadata": {
        "id": "y5je9AaWN62R"
      },
      "source": [
        "Python의 메모리 관리 방식\n",
        "\n",
        "1. 참조 카운팅(Reference Counting)\n",
        "\n",
        "Python의 객체를 모두 참조 카운트를 유지합니다. 참조 카운트는 객체를 참조하는 변수나 참조의 수를 나타냅니다.\n",
        "\n",
        "-객체가 생성되면 참조 카운트가 1로 초기화됩니다\n",
        "\n",
        "-객체를 참조하는 변수가 추가되면 참조 카운트가 증가합니다\n",
        "\n",
        "-객체를 참조하는 변수가 삭제되거나, 참조가 소멸되면 참조 카운트가 감소합니다.\n",
        "\n",
        "-참조 카운트가 0이 되면 해당 객체는 더 이상 사용되지 않으므로 메모리에서 해제됩니다.\n",
        "\n",
        "예시)\n",
        "\n",
        "    x = [1, 2, 3] # 리스트 객체 생성, 참조 카운트 1\n",
        "\n",
        "    y = x         # y가 x를 참조, 참조 카운트 2\n",
        "\n",
        "    del x         # x 삭제, 참조 카운트 1\n",
        "\n",
        "    del y         # y 삭제, 참조 카운트 0 -> 메모리 해제\n",
        "\n",
        "2. 가비지 컬렉션(Garbage Collection)\n",
        "\n",
        "python의 가지비 컬렉터는 **순환 참조(Circular References)**를 해결하기 위해 사용됩나다.\n",
        "순환 참조란 객체들이 서로를 참조하여 참조 카운트가 0이 되지 않는 상태를 의미 합니다.\n",
        "\n",
        "예시)순환 참조\n",
        "\n",
        "    class Node:\n",
        "\n",
        "        def __init__(self):\n",
        "\n",
        "            self.ref = None\n",
        "\n",
        "    a = Node()\n",
        "\n",
        "    b = Node()\n",
        "\n",
        "    a.ref = b # a가 b를 참조\n",
        "\n",
        "    b.ref = a # b가 a를 참조\n",
        "\n",
        "\n",
        "# 참조 카운트가 0이 되지 않아 가비지 컬렉터가 이를 처리\n",
        "\n",
        "Python은 gc 모튤을 통해 순환 참조를 탐지하고 이를 정리합니다. 가비지 컬렉션은 주기적으로 실행되거나\n",
        "강제로 호출할수 있습니다\n",
        "\n",
        "가비지 컬렉션 강제 실행\n",
        "\n",
        "import gc\n",
        "\n",
        "gc.collect()\n",
        "\n",
        "3. 메모리 풀 관리\n",
        "\n",
        "Python은 고정된 크기의 메모리 블록을 관리하기 위해 PyMalloc이라는 메모리 할당기를 사용합니다. 이는 소규모 메모리 요청에 최적화되어 있으며, Python 객체의 메모리 할당 및 해제를 효율적으로 처리합니다.\n",
        "\n",
        "-작은 객체: 미리 할당된 메모리 풀에서 관리됩니다.\n",
        "\n",
        "-큰 객체: OS의 메모리 관리 시스템에서 직접 관리됩니다.\n",
        "\n",
        "4. 파이썬의 주요 메모리 관리 규칙\n",
        "\n",
        "불변 객체(Immutable Objects):\n",
        "\n",
        "-정수, 문자열, 튜플 같은 불변 객체는 메모리 재사용(인터닝) 최적화가 가능합니다.\n",
        "\n",
        "-동일한 값을 가진 객체가 메모리에 중복 생성되지 않도록 관리됩니다.\n",
        "\n",
        "예시)\n",
        "\n",
        "    a = 100\n",
        "\n",
        "    b = 100\n",
        "\n",
        "    print(a is b) # True\n",
        "\n",
        "-견경 가능 객체(Mutavle Objects)\n",
        "\n",
        "    리스트, 디셔너리와 같은 객체는 새로운 메모리 주소가 할당될 수 있습니다\n",
        "\n",
        "5. 메모리 누수 방지\n",
        "\n",
        "python은 자동 메모리 관리를 통해 대부분의 경우 메모리 누수를 방지 합니다. 하지만 순환 참조나 외부\n",
        "리소르(파일,소켓 등)의 경우 적절히 닫아야 합니다.\n",
        "\n",
        "파일예시\n",
        "\n",
        "    with open('file.txt', 'r') as file:\n",
        "        data = fil.read() #자동으로 파일을 닫아 메모리 누수를 방지\n",
        "\n",
        "요약\n",
        "\n",
        "Python의 메모리 관리는 다음을 통해 자동으로 이루어집니다:\n",
        "\n",
        "1. 잠조 카운팅: 객체의 참조를 추적하여 메모리 해제.\n",
        "2. 가비지 컬렉션: 순환 참조를 탐지하고 처리.\n",
        "3. PyMalloc: 효율적인 메모리 풀 관리.\n",
        "4. 최적화 및 규칙: 불변 객체의 메모리 재사용, 컨텍스트 매니저로 리소스 관리.\n"
      ]
    },
    {
      "cell_type": "code",
      "source": [],
      "metadata": {
        "id": "lQxz5vkGb2TO"
      },
      "execution_count": null,
      "outputs": []
    }
  ],
  "metadata": {
    "language_info": {
      "name": "python"
    },
    "colab": {
      "provenance": [],
      "include_colab_link": true
    }
  },
  "nbformat": 4,
  "nbformat_minor": 0
}