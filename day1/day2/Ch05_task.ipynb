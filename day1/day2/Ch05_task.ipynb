{
  "cells": [
    {
      "cell_type": "markdown",
      "metadata": {
        "id": "view-in-github",
        "colab_type": "text"
      },
      "source": [
        "<a href=\"https://colab.research.google.com/github/WOOJOUNG-KIM/OZ_-assignment/blob/main/Ch05_task.ipynb\" target=\"_parent\"><img src=\"https://colab.research.google.com/assets/colab-badge.svg\" alt=\"Open In Colab\"/></a>"
      ]
    },
    {
      "cell_type": "markdown",
      "metadata": {
        "id": "iC4QXkBg4sGC"
      },
      "source": [
        "<span style=\"font-size:100%\">\n",
        "\n",
        "수업은 모두 열심히 들으셨나요?\n",
        "\n",
        "간혹 강의에서 언급되지 않은 내용이 문제로 나올 수 있습니다.<br>\n",
        "그럴땐 강의 내용 외 문제는 구글링을 통해 해결해주세요<br></span>\n",
        "<span style=\"font-size:80%\">\n",
        "(구글링 또한 개발자가 갖쳐야할 역량 중에 하나랍니다 😊)\n",
        "</span>\n",
        "\n",
        "---"
      ]
    },
    {
      "cell_type": "markdown",
      "metadata": {
        "id": "pHJ8ddiq4sGE"
      },
      "source": [
        "<span style=\"font-size:80%\">[문제1]<br><br></span>\n",
        "```Python으로 변수를 생성하는 방법으로 올바른 것을 고르세요```\n",
        "\n",
        "1. number == 20\n",
        "2. 100 == number\n",
        "3. number(7)\n",
        "4. number = 7"
      ]
    },
    {
      "cell_type": "markdown",
      "metadata": {
        "id": "oBss2Ho64sGF"
      },
      "source": [
        "<span style=\"color:red\">답변</span>"
      ]
    },
    {
      "cell_type": "markdown",
      "metadata": {
        "id": "HBdEL8GT4sGF"
      },
      "source": [
        "4번"
      ]
    },
    {
      "cell_type": "markdown",
      "metadata": {
        "id": "pRKydMpp4sGF"
      },
      "source": [
        "----"
      ]
    },
    {
      "cell_type": "markdown",
      "metadata": {
        "id": "TT_FgEjt4sGG"
      },
      "source": [
        "<span style=\"font-size:80%\">[문제2]<br><br></span>\n",
        "```다음 중 올바르지 않은 것을 골라주세요```\n",
        "\n",
        "이름 = \"김오즈\"<br>\n",
        "나이 = 14<br>\n",
        "소속 = \"마법중\"<br>\n",
        "등급 = 3<br>\n",
        "\n",
        "1. 이름 + 소속\n",
        "2. 나이 + 등급\n",
        "3. 소속 + 등급"
      ]
    },
    {
      "cell_type": "markdown",
      "metadata": {
        "id": "H3rIXYXb4sGG"
      },
      "source": [
        "<span style=\"color:red\">답변</span>"
      ]
    },
    {
      "cell_type": "markdown",
      "metadata": {
        "id": "PO6Ktw9O4sGG"
      },
      "source": [
        "3번"
      ]
    },
    {
      "cell_type": "markdown",
      "metadata": {
        "id": "eb-_BmwW4sGG"
      },
      "source": [
        "----"
      ]
    },
    {
      "cell_type": "markdown",
      "metadata": {
        "id": "xhEwfIpQ4sGH"
      },
      "source": [
        "<span style=\"font-size:80%\">[문제3]<br><br></span>\n",
        "```아래 변수의 type으로 올바른것을 골라주세요```\n",
        "\n",
        "퀴즈 = \"스페인에서 카리나를 보고 하는 말은?\"<br>\n",
        "type(퀴즈)"
      ]
    },
    {
      "cell_type": "markdown",
      "metadata": {
        "id": "A1hebuHD4sGH"
      },
      "source": [
        "<span style=\"color:red\">답변</span>"
      ]
    },
    {
      "cell_type": "code",
      "source": [
        "퀴즈 = \"스페인에서 카리나를 보고 하는 말은?\"\n",
        "type(퀴즈)"
      ],
      "metadata": {
        "colab": {
          "base_uri": "https://localhost:8080/"
        },
        "id": "4Kckuz9rGgDa",
        "outputId": "0d79a598-df75-4aeb-b6ab-bbcb07e3415f"
      },
      "execution_count": 25,
      "outputs": [
        {
          "output_type": "execute_result",
          "data": {
            "text/plain": [
              "str"
            ]
          },
          "metadata": {},
          "execution_count": 25
        }
      ]
    },
    {
      "cell_type": "markdown",
      "metadata": {
        "id": "tSSGqhZX4sGH"
      },
      "source": [
        "str"
      ]
    },
    {
      "cell_type": "markdown",
      "metadata": {
        "id": "-rFgKZus4sGH"
      },
      "source": [
        "----"
      ]
    },
    {
      "cell_type": "markdown",
      "metadata": {
        "id": "uRFPMkUZ4sGH"
      },
      "source": [
        "<span style=\"font-size:80%\">[문제4]<br><br></span>\n",
        "```다음 중 변수 이름으로 사용할 수 없는 것을 모두 골라주세요```\n",
        "\n",
        "1. 78abc\n",
        "2. ABC\n",
        "3. _ABC\n",
        "4. _hello%2\n",
        "5. for"
      ]
    },
    {
      "cell_type": "markdown",
      "metadata": {
        "id": "ALrilO-s4sGH"
      },
      "source": [
        "<span style=\"color:red\">답변</span>"
      ]
    },
    {
      "cell_type": "markdown",
      "metadata": {
        "id": "yliobz9D4sGH"
      },
      "source": [
        "1\n",
        "4\n",
        "5"
      ]
    },
    {
      "cell_type": "markdown",
      "metadata": {
        "id": "kbk-sgRq4sGH"
      },
      "source": [
        "----"
      ]
    },
    {
      "cell_type": "markdown",
      "metadata": {
        "id": "MLu7zdpE4sGI"
      },
      "source": [
        "<span style=\"font-size:80%\">[문제5]<br><br></span>\n",
        "```다음 중 변수와 연산자의 사용 방법으로 올바르지 않은 것을 모두 골라주세요```\n",
        "\n",
        "x = 3\n",
        "y = 7\n",
        "\n",
        "1. x = x + y\n",
        "2. x // 2\n",
        "3. z >< x\n",
        "4. y += x\n",
        "5. ++x"
      ]
    },
    {
      "cell_type": "markdown",
      "metadata": {
        "id": "8933yDOA4sGI"
      },
      "source": [
        "<span style=\"color:red\">답변</span>"
      ]
    },
    {
      "cell_type": "code",
      "source": [],
      "metadata": {
        "colab": {
          "base_uri": "https://localhost:8080/"
        },
        "id": "kqNWabXMEMXr",
        "outputId": "8073be49-905b-48be-eef9-f79d2dd97b2c"
      },
      "execution_count": 24,
      "outputs": [
        {
          "output_type": "stream",
          "name": "stdout",
          "text": [
            "10\n"
          ]
        }
      ]
    },
    {
      "cell_type": "markdown",
      "metadata": {
        "id": "HQbrkUVZ4sGI"
      },
      "source": [
        "3 , 5"
      ]
    }
  ],
  "metadata": {
    "language_info": {
      "name": "python"
    },
    "colab": {
      "provenance": [],
      "include_colab_link": true
    },
    "kernelspec": {
      "name": "python3",
      "display_name": "Python 3"
    }
  },
  "nbformat": 4,
  "nbformat_minor": 0
}