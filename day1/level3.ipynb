{
  "cells": [
    {
      "cell_type": "markdown",
      "metadata": {
        "colab_type": "text",
        "id": "view-in-github"
      },
      "source": [
        "<a href=\"https://colab.research.google.com/github/WOOJOUNG-KIM/OZ_-assignment/blob/main/level3.ipynb\" target=\"_parent\"><img src=\"https://colab.research.google.com/assets/colab-badge.svg\" alt=\"Open In Colab\"/></a>"
      ]
    },
    {
      "cell_type": "markdown",
      "metadata": {
        "id": "WXEwMsfUct7U"
      },
      "source": [
        "안녕하세요.<br><br>\n",
        "수강생 여러분~!\n",
        "\n",
        "\"Challenge : 사칙연산을 이용해 문제 풀기\"는 잘 풀어보셨나요?\n",
        "\n",
        "\n",
        "너~~무 어려웠어요! 하는 분들을 위해 만들어봤습니다!\n",
        "\n",
        "문제 도장깨기 !!!!!\n",
        "\n",
        "수학적 사고도 한번 길러보세용 :)\n",
        "\n",
        "차근차근 풀어나가면 파이썬 정복 가능입니다!\n",
        "\n",
        "화이팅 !\n",
        "\n",
        "\n",
        "Chapter04의 수업 내용을 바탕으로 아래 문제를 풀어주시면 됩니다.\n",
        "\n",
        "<br>\n",
        "\n",
        "[**답변 입력 방법**]\n",
        "\n",
        "문제 아래에 있는 코드 입력창에 정답코드를 작성하신 후  __▷ 버튼을 클릭해 코드를 실행__ 해보세요<br>\n",
        "<br>"
      ]
    },
    {
      "cell_type": "markdown",
      "metadata": {
        "id": "qoyC9wF-3hvs"
      },
      "source": [
        "-----"
      ]
    },
    {
      "cell_type": "markdown",
      "metadata": {
        "id": "p0ghSrQ_15Pf"
      },
      "source": [
        "<br>\n",
        "\n",
        "__[문제1]__\n",
        "\n",
        "어떤 공원의 크기는 가로 50m, 세로 30m입니다.\n",
        "\n",
        "공원 내부에 5개의 조형물이 있으며, 각 조형물의 면적은 10m²입니다.\n",
        "\n",
        "이 공원의 실제 사용 면적을 구하세요. (cm로 구해주세요)\n",
        "\n",
        "\n"
      ]
    },
    {
      "cell_type": "code",
      "execution_count": 9,
      "metadata": {
        "colab": {
          "base_uri": "https://localhost:8080/"
        },
        "id": "xOiHfCPJ15Pf",
        "outputId": "dcf49f57-1a2a-4646-aa49-9822eeacbbcd"
      },
      "outputs": [
        {
          "name": "stdout",
          "output_type": "stream",
          "text": [
            "14500000\n"
          ]
        }
      ],
      "source": [
        "from os import scandir\n",
        "# 공원의 크기\n",
        "park_width = 50 #가로 (m)\n",
        "park_length = 30 #세로 (m)\n",
        "park_area = park_width * park_length # 총 면적 (m2)\n",
        "\n",
        "# 조형물의 면적\n",
        "sculpture_number = 5 # 조형물 개수\n",
        "each_sculpture_area = 10 # 각 조형물 면적 (m2)\n",
        "total_sculpture_area = sculpture_number * each_sculpture_area # 총 조형물 면적 (m2)\n",
        "\n",
        "# 실제 사용 면적\n",
        "actual_use_area_m2 = park_area - total_sculpture_area # 실제 사용 면적\n",
        "actual_use_area_cm2 = actual_use_area_m2 * (100 * 100) # 단위 변환 가로세로 100 곱하기 100 (cm2)\n",
        "\n",
        "#결과출력\n",
        "print(actual_use_area_cm2)"
      ]
    },
    {
      "cell_type": "markdown",
      "metadata": {
        "id": "-hpFzQ0L15Pg"
      },
      "source": [
        "<br>\n",
        "\n",
        "__[문제2]__\n",
        "\n",
        "2권씩 묶여서 팔리는 책의 가격은 12,000원입니다.\n",
        "\n",
        "나는 3묶음을 살 겁니다.\n",
        "\n",
        "근데 최종 가격을 보니 10%의 세금이 붙어있습니다.\n",
        "\n",
        "최종 가격을 구해주세요."
      ]
    },
    {
      "cell_type": "code",
      "execution_count": 10,
      "metadata": {
        "colab": {
          "base_uri": "https://localhost:8080/"
        },
        "id": "6Naxvp1Q15Pg",
        "outputId": "199747ab-5010-4903-bd9a-af4ce77553dd"
      },
      "outputs": [
        {
          "name": "stdout",
          "output_type": "stream",
          "text": [
            "39600원입니다.\n"
          ]
        }
      ],
      "source": [
        "#책 가격 및 묶음수\n",
        "book_bundle_price = 12000\n",
        "bundle_count = 3\n",
        "\n",
        "#세금 비율\n",
        "tax = 0.1\n",
        "\n",
        "#총 금액\n",
        "total_money = book_bundle_price * bundle_count\n",
        "\n",
        "#세금 적용 금액\n",
        "tax_Application_money = total_money * tax\n",
        "\n",
        "#최종 금액\n",
        "final_money = total_money + tax_Application_money\n",
        "\n",
        "#결과출력\n",
        "print(round(final_money), \"원입니다.\" , sep=\"\")"
      ]
    },
    {
      "cell_type": "markdown",
      "metadata": {
        "id": "UXqZZcUx15Pg"
      },
      "source": [
        "<br>\n",
        "\n",
        "__[문제3]__\n",
        "\n",
        "가로 20m, 세로 15m인 직사각형 정원의 면적을 구하세요.\n"
      ]
    },
    {
      "cell_type": "code",
      "execution_count": 19,
      "metadata": {
        "colab": {
          "base_uri": "https://localhost:8080/"
        },
        "id": "74wtVQFFc_h1",
        "outputId": "e38b9864-b8c5-4dc3-d0a8-96c2cf0a3922"
      },
      "outputs": [
        {
          "name": "stdout",
          "output_type": "stream",
          "text": [
            "정원의면적은 300m2 입니다.\n"
          ]
        }
      ],
      "source": [
        "#가로 세로 길이\n",
        "width = 20\n",
        "length = 15\n",
        "\n",
        "#면적\n",
        "area = width * length\n",
        "\n",
        "#결과출력\n",
        "print(\"정원의면적은 \", area, \"m2 입니다.\", sep=\"\")"
      ]
    },
    {
      "cell_type": "markdown",
      "metadata": {
        "id": "IekoCEj615Pg"
      },
      "source": [
        "<br>\n",
        "\n",
        "__[문제3-1]__\n",
        "\n",
        "문제 1에서 구한 정원의 면적에서, 정원의 5%를 차지하는 풀밭 면적을 구하세요.\n",
        "\n",
        "\n"
      ]
    },
    {
      "cell_type": "code",
      "execution_count": 23,
      "metadata": {
        "colab": {
          "base_uri": "https://localhost:8080/"
        },
        "id": "9kvBxa6PdhgA",
        "outputId": "ff435956-28f7-46d1-8c62-e88e274e11c4"
      },
      "outputs": [
        {
          "name": "stdout",
          "output_type": "stream",
          "text": [
            "풀밭의 면적은 15m2 입니다.\n"
          ]
        }
      ],
      "source": [
        "#문제3 의 정원 면적\n",
        "gaeden_area = area\n",
        "\n",
        "#풀밭 면적\n",
        "pool_area = gaeden_area * 0.05\n",
        "\n",
        "#결과출력\n",
        "print(\"풀밭의 면적은 \", round(pool_area), \"m2 입니다.\", sep=\"\")"
      ]
    },
    {
      "cell_type": "markdown",
      "metadata": {
        "id": "2Jte2VLKdiPm"
      },
      "source": [
        "__[문제3-2]__\n",
        "\n",
        "풀밭 면적을 제외한 나머지 정원의 면적에 나무를 심고 싶습니다.\n",
        "\n",
        "나무 1그루가 차지하는 면적이 2m²일 때, 심을 수 있는 나무의 최대 개수를 구하세요."
      ]
    },
    {
      "cell_type": "code",
      "execution_count": 30,
      "metadata": {
        "colab": {
          "base_uri": "https://localhost:8080/"
        },
        "id": "7vpo6mc515Ph",
        "outputId": "d8fba060-b388-442f-dcab-f0ba7be90f23"
      },
      "outputs": [
        {
          "name": "stdout",
          "output_type": "stream",
          "text": [
            "최대 개수는 142개 입니다.\n"
          ]
        }
      ],
      "source": [
        "#불밭 면적\n",
        "pool_area = pool_area\n",
        "\n",
        "#제외한 면적\n",
        "remain_area = gaeden_area - pool_area\n",
        "\n",
        "#나무 면적\n",
        "tree = 2\n",
        "\n",
        "#나무 심을수 있는 최대 개수\n",
        "tree_seed = remain_area // tree\n",
        "\n",
        "#결과출력\n",
        "print(\"최대 개수는 \", round(tree_seed), \"개 입니다.\", sep=\"\")"
      ]
    }
  ],
  "metadata": {
    "colab": {
      "include_colab_link": true,
      "provenance": []
    },
    "kernelspec": {
      "display_name": "Python 3",
      "name": "python3"
    },
    "language_info": {
      "codemirror_mode": {
        "name": "ipython",
        "version": 3
      },
      "file_extension": ".py",
      "mimetype": "text/x-python",
      "name": "python",
      "nbconvert_exporter": "python",
      "pygments_lexer": "ipython3",
      "version": "3.12.3"
    }
  },
  "nbformat": 4,
  "nbformat_minor": 0
}
