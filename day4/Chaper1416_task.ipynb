{
  "cells": [
    {
      "cell_type": "markdown",
      "metadata": {
        "id": "BX7SgOeWu86I"
      },
      "source": [
        "안녕하세요. 수강생 여러분~! Chapter14 ~ 16 수업은 잘 들으셨나요?\n",
        "\n",
        "Chapter14 ~ 16의 수업 내용을 바탕으로 아래 문제를 풀어주시면 됩니다.\n",
        "\n",
        "<br>\n",
        "\n",
        "\n",
        "[**답변 입력 방법**]\n",
        "\n",
        "문제 아래에 있는 코드 입력창에 정답코드를 작성하신 후  __▷ 버튼을 클릭해 코드를 실행__ 해보세요<br>"
      ]
    },
    {
      "cell_type": "markdown",
      "metadata": {
        "id": "sT1YLiL_c7X4"
      },
      "source": [
        "---"
      ]
    },
    {
      "cell_type": "markdown",
      "metadata": {
        "id": "7kQJMRuFu-6s"
      },
      "source": [
        "__[문제1]__\n",
        "\n",
        "주어진 정수 x와 자연수 n을 이용해, x부터 시작해 x씩 증가하는 숫자를 n개 지니는 리스트를 출력해주세요   \n",
        "<br>\n",
        "\n",
        "x = 2, n =5"
      ]
    },
    {
      "cell_type": "code",
      "execution_count": null,
      "metadata": {
        "id": "juUF2KYbu0DX",
        "outputId": "b52ce975-99ba-40ac-dfba-8cc3375e6ad4",
        "colab": {
          "base_uri": "https://localhost:8080/"
        }
      },
      "outputs": [
        {
          "output_type": "stream",
          "name": "stdout",
          "text": [
            "[2]\n",
            "[2, 4]\n",
            "[2, 4, 6]\n",
            "[2, 4, 6, 8]\n",
            "[2, 4, 6, 8, 10]\n"
          ]
        }
      ],
      "source": [
        "# 일단 변수 와 대입 하는 수를 가져온다\n",
        "x = 2\n",
        "n = 5\n",
        "\n",
        "# 결과를 담은 빈 리스트를 만든다\n",
        "result = []\n",
        "\n",
        "#for 문은 아용 하여\n",
        "#i 에 range() 숫자의 범위를 만들어주는 함수를 이용하여\n",
        "#range(1, n +1) 1첫재 범위 부터 n(5) 번째 범위 까지 +1 을 하여 범위를 나타내워\n",
        "for i in range(1, n +1):\n",
        "    #result 리스트에 .append 를 사용해 데이터를 저장시켜줘\n",
        "    #rasult.append 리스트에 업데이트 할것은\n",
        "    #(i * x) i 에 있는 데이터 와 x 에 2인 갑을 가저와서 곱해줘\n",
        "    result.append(i * x)\n",
        "#결과\n",
        "print(result)"
      ]
    },
    {
      "cell_type": "markdown",
      "metadata": {
        "id": "lU7kHXPlc7X5"
      },
      "source": [
        "---"
      ]
    },
    {
      "cell_type": "markdown",
      "metadata": {
        "id": "4BPXMLXUvBVL"
      },
      "source": [
        "__[문제2]__\n",
        "\n",
        "전화번호가 문자열 phone_number로 주어졌을 때, 전화번호의 뒷 4자리를 *으로 가린 문자열이 출력되도록 코드를 작성해주세요\n",
        "\n",
        "phone_number = \"01012347890\"  \n",
        "<br>\n",
        "\n",
        "출력 예) \"0101234****\""
      ]
    },
    {
      "cell_type": "code",
      "execution_count": 9,
      "metadata": {
        "id": "P0fY7CYUvC_j",
        "outputId": "87c4721b-8a81-462d-8640-e09de3695c59",
        "colab": {
          "base_uri": "https://localhost:8080/"
        }
      },
      "outputs": [
        {
          "output_type": "stream",
          "name": "stdout",
          "text": [
            "0101234****\n"
          ]
        }
      ],
      "source": [
        "# 일단 예시를 가저온다\n",
        "phone_number = \"01012347890\"\n",
        "\n",
        "# result 결과에 phone_number전화번로 를슬라이싱을 적용 해서\n",
        "# 끝 4자리 수를 빼고 ****를 더해서 대입 해줘\n",
        "result = phone_number[:-4] + \"****\"\n",
        "\n",
        "# 결과\n",
        "print(result)"
      ]
    },
    {
      "cell_type": "markdown",
      "metadata": {
        "id": "WkWELtUZc7X5"
      },
      "source": [
        "---"
      ]
    },
    {
      "cell_type": "markdown",
      "metadata": {
        "id": "uUdOU9cFvDsq"
      },
      "source": [
        "__[문제3]__\n",
        "\n",
        "숫자를 건넬 때 일부 자릿수를 영단어로 바꾼 카드를 건네주면 프로도는 원래 숫자를 찾는 게임입니다.\n",
        "\n",
        "다음은 숫자의 일부 자릿수를 영단어로 바꾸는 예시입니다.\n",
        "\n",
        "1478 → \"one4seveneight\"  \n",
        "234567 → \"23four5six7\"  \n",
        "10203 → \"1zerotwozero3\"    \n",
        "\n",
        "이렇게 숫자의 일부 자릿수가 영단어로 바뀌어졌거나,   \n",
        "혹은 바뀌지 않고 그대로인 문자열 s가 주어졌을때\n",
        "s가 의미하는 원래 숫자를 출력하도록 코드를 작성해주세요\n",
        "\n",
        "s = \"77three4one\n",
        "\n",
        "---\n",
        "참고로 각 숫자에 대응되는 영단어는 다음 표와 같습니다.\n",
        "\n",
        "숫자\t영단어  \n",
        "0\tzero  \n",
        "1\tone  \n",
        "2\ttwo  \n",
        "3\tthree  \n",
        "4\tfour  \n",
        "5\tfive  \n",
        "6\tsix  \n",
        "7\tseven  \n",
        "8\teight  \n",
        "9\tnine  "
      ]
    },
    {
      "cell_type": "code",
      "execution_count": 8,
      "metadata": {
        "id": "2NmqRFgDvFtz",
        "outputId": "de240fe3-ebfc-4f73-bfce-bc3084e452f8",
        "colab": {
          "base_uri": "https://localhost:8080/"
        }
      },
      "outputs": [
        {
          "output_type": "stream",
          "name": "stdout",
          "text": [
            "77341\n"
          ]
        }
      ],
      "source": [
        "#def 함수를 만드는 명령어 를 사용하여 함수이름을 정해준다\n",
        "#주어진 원래 숫자를 출력할것을 () 안에 s 를 넣는다\n",
        "def word_digit(s):\n",
        "    wd = {\"zero\" : '0', \"one\" : '1', 'two' : '2', 'three' : '3', 'four' : '4',\n",
        "    'five' : '5', 'six' : '6', 'seven' : '7', 'eight' : '8', 'nine' : '9'}\n",
        "    #result 와 temp 변수 에 \"\" 저장할 빈공간을 만든다\n",
        "    result = \"\"\n",
        "    temp = \"\"\n",
        "#for 여러번 반복하는 문을 사용해 char 안에 s안에 글자들을 나눠 담는다\n",
        "    for char in s:\n",
        "        #if 만약에 char 가 .isdigit 숫자인지 아닌지 확인해줘\n",
        "        #.isdgit 는 숫자인지 안니지 알려주는 함수레요\n",
        "        if char.isdigit():\n",
        "            result += char\n",
        "        #else 만약 숫자가 아닐시에 tmep 임시에 += char을 더하고 대입 해줘\n",
        "        else:\n",
        "            temp += char\n",
        "            #만약에 temp 임시 안에 wd 영단어 를 적용하고\n",
        "            if temp in wd:\n",
        "                #result 리절트 결과 에 += 더하고 대입해줘\n",
        "                #wd[temp] wd 영단어 에서[temp 임시에 해당하는] 갑을 가저와줘\n",
        "                result += wd[temp]\n",
        "                # 실행을 했는데 오류나 나서 보니 temp = \"\" 추가를 하여 지금까지의 단어 를\n",
        "                # 새 단어들을 넣기 위해 추가 하여 다시 초기화를 해야한대요\n",
        "                temp = \"\"\n",
        "    #return 리던 돌아가서 함수의 결과를 돌려주는 명령어 를 사용하여\n",
        "    #result 결과\n",
        "    return result\n",
        "\n",
        "#이제 요구하는 s = \"77three4one\" 값을 s 에 적용시킨다\n",
        "s = \"77three4one\"\n",
        "\n",
        "# word_digit(s) 한수의 반환값을 result 결과 변수에 대입해줘\n",
        "result = word_digit(s)\n",
        "print(result)"
      ]
    },
    {
      "cell_type": "markdown",
      "metadata": {
        "id": "Ev1Vbn5nc7X5"
      },
      "source": [
        "---"
      ]
    },
    {
      "cell_type": "markdown",
      "metadata": {
        "id": "J0Tha6AdvGL3"
      },
      "source": [
        "__[문제4]__\n",
        "\n",
        "행렬의 덧셈은 행과 열의 크기가 같은 두 행렬의 같은 행, 같은 열의 값을 서로 더한 결과가 됩니다.\n",
        "\n",
        " 행렬 arr1과 arr2가 주어졌을 때, 행렬 덧셈의 결과를 출력하는 코드를 작성해주세요(result와 같은 결과가 출력되도록 작성)\n",
        "\n",
        "arr1 = [[1,2],[2,3]]\n",
        "\n",
        "arr2 = [[3,4],[5,6]]\n",
        "\n",
        "result = [[4,6],[7,9]]"
      ]
    },
    {
      "cell_type": "code",
      "execution_count": 17,
      "metadata": {
        "id": "ujiXrEhJvIV0",
        "colab": {
          "base_uri": "https://localhost:8080/"
        },
        "outputId": "bea82655-f0f2-4c18-f2fc-2ebf57bbe5c1"
      },
      "outputs": [
        {
          "output_type": "stream",
          "name": "stdout",
          "text": [
            "[[4, 6], [7, 9]]\n"
          ]
        }
      ],
      "source": [
        "# 먼저 두 변수 행렬을 가져온다\n",
        "arr1 = [[1,2],[2,3]]\n",
        "arr2 = [[3,4],[5,6]]\n",
        "\n",
        "# 결과를 담을 빈 리트스를 준비 한다\n",
        "result = []\n",
        "\n",
        "# for 반목문을 통해 range(len(arr1))\n",
        "# len 에게 arr1 몇 줄(행)인지 알려달라 부탁하고\n",
        "# range() 로 다시 감싸 그 길이만큼 반복한 숫자 번위를 만들어\n",
        "# a 변수에 넣어 달라고 부탁한다\n",
        "for a in range(len(arr1)):   # 결과 1이 나옴\n",
        "    # 처음에 arr3 = [] 를 for s in 밑에 작성후 실행을 했는데\n",
        "    # 원하는 답이 안나와 답답 했었고 지인 한테 물어봐\n",
        "    # s 밑에 하면 for a 반복문이 끝나서 들어가지 않는다 할꺼면 for a 밑에 적어야 a 것도 작동 한다 하여 적용\n",
        "    arr3 = []\n",
        "    # len 에게 arr1[a]의 한 줄의 칸(열)이 몇개인지 알려달라고 부탁하고\n",
        "    # range() 로 감싸 그 길이 만큰 반복할 숫자 범위를 만들어서\n",
        "    # s 변수에 넣어 달라고 부탁한다\n",
        "    for s in range(len(arr1[a])):\n",
        "        # arr1[a][s]와 arr2[a][s]는\n",
        "        # 두 행렬에서 a 줄 s 번재 칸의 앖의 데이터를\n",
        "        # arr3.append 를 통해 넣는다\n",
        "        arr3.append(arr1[a][s] + arr2[a][s])\n",
        "\n",
        "\n",
        "    #리스트또한 .append(arr3) arr3의 데이터를 받아\n",
        "    result.append(arr3)\n",
        "\n",
        "\n",
        "#결과 를 출력한다\n",
        "print(result)"
      ]
    },
    {
      "cell_type": "markdown",
      "metadata": {
        "id": "7kLZyEk4c7X6"
      },
      "source": [
        "---"
      ]
    },
    {
      "cell_type": "markdown",
      "metadata": {
        "id": "eLdrWVkavJEN"
      },
      "source": [
        "__[문제5]__\n",
        "\n",
        "양의 정수 x가 하샤드 수이려면 x의 자릿수의 합으로 x가 나누어져야 합니다.   \n",
        "예를 들어 18의 자릿수 합은 1+8=9이고, 18은 9로 나누어 떨어지므로 18은 하샤드 수입니다.   \n",
        "주어진 x를 이용해 x가 하샤드 수인지 아닌지 검사하는 코드를 작성해주세요\n",
        "\n",
        "x = 17\n",
        "\n",
        "----\n",
        "\n",
        "입출력 예시\n",
        "x\t결과값  \n",
        "10\ttrue  \n",
        "12\ttrue  \n",
        "11\tfalse  \n",
        "13\tfalse  "
      ]
    },
    {
      "cell_type": "code",
      "execution_count": 26,
      "metadata": {
        "id": "EULD-IOrvKmG",
        "colab": {
          "base_uri": "https://localhost:8080/"
        },
        "outputId": "0afbd911-ecd2-40e6-d295-8e9414e2b463"
      },
      "outputs": [
        {
          "output_type": "stream",
          "name": "stdout",
          "text": [
            "10: True\n",
            "12: True\n",
            "11: False\n",
            "13: False\n"
          ]
        }
      ],
      "source": [
        "# def 함수를 만드는 명령어 를 사용하여 harshad이름을 정해준다\n",
        "# x 는 하샤드의 수인지 확인을 위해 harshad() 안에 x 를 넣는다\n",
        "def harshad(x):\n",
        "    # return 은 결과를 돌려주는 문을 사용하여\n",
        "    # x 는 결과를 반환 받은 값\n",
        "    # % 나누기를 해서 sum() 을 이용해 x 값을 구한다\n",
        "    # sum() 은 [int(c)문자열 c 을 숫자로 바꿔주고\n",
        "    # for c 안에 str(x)] str() 안에 x 를 넣어 리스트를 만든다\n",
        "    return x % sum([int(c) for c in str(x)]) == 0\n",
        "\n",
        "#입출력 예시 x 결과값\n",
        "ex_x = [10, 12, 11, 13]\n",
        "\n",
        "#for 반복문 을 통해 x 안에 ex_x 데이터를 넣고\n",
        "for x in ex_x:\n",
        "    #결과 ex_x : x % sum([int(c) for c in str(x)]) == 0\n",
        "    print(f\"{x}: {harshad(x)}\")"
      ]
    },
    {
      "cell_type": "markdown",
      "metadata": {
        "id": "PXX0PocYc7X6"
      },
      "source": [
        "---"
      ]
    },
    {
      "cell_type": "markdown",
      "metadata": {
        "id": "GeS6hZhivLMZ"
      },
      "source": [
        "__[문제6]__\n",
        "\n",
        "String형 배열 seoul의 element중 \"Kim\"의 인덱스 x를 찾아, \"김서방은 x에 있다\"는 String을 출력하는 코드를 작성해주세요.   \n",
        "\n",
        "seoul에 \"Kim\"은 오직 한 번만 나타나며 잘못된 값이 입력되는 경우는 없습니다.\n",
        "\n",
        "seoul = [\"Jane\", \"Kim\"]\n",
        "\n",
        "<br>\n",
        "출력 예) \"김서방은 1에 있다\""
      ]
    },
    {
      "cell_type": "code",
      "source": [
        "# 함수문 에 solution(seoul) 이름을 정한다\n",
        "def solution(seoul):\n",
        "    #결과 변수 에 식을 저장\n",
        "    #\"김서방은\" + str()문자열로 바꾸는 함수 안에\n",
        "    #.index() 사용하여 (kim)의 숫자를 반환 받는다\n",
        "    result = \"김서방은 \" + str(seoul.index(\"Kim\")) + \"에 있다\"\n",
        "    # return 을 사용하여 solution(seoul) 에 대입한다\n",
        "    return result\n",
        "\n",
        "#요구하는 변수명으로 요구하는 출력 김서방은 1에 있다\n",
        "seoul = [\"Jane\", \"Kim\"]\n",
        "\n",
        "#결과 출력\n",
        "print(solution(seoul))"
      ],
      "metadata": {
        "colab": {
          "base_uri": "https://localhost:8080/"
        },
        "id": "pG3e5-u3Xj59",
        "outputId": "04a5fc97-14ea-421f-eca5-e00a344f89bf"
      },
      "execution_count": 31,
      "outputs": [
        {
          "output_type": "stream",
          "name": "stdout",
          "text": [
            "김서방은 1에 있다\n"
          ]
        }
      ]
    },
    {
      "cell_type": "markdown",
      "metadata": {
        "id": "Jj53aRRic7X6"
      },
      "source": [
        "---"
      ]
    },
    {
      "cell_type": "markdown",
      "metadata": {
        "id": "iZjKl-ZqvOkm"
      },
      "source": [
        "__[문제7]__\n",
        "\n",
        "0부터 9까지의 숫자 중 일부가 들어있는 정수 배열 numbers가 주어집니다.   \n",
        "numbers에서 찾을 수 없는 0부터 9까지의 숫자를 모두 찾아 더한 수를 출력해주세요\n",
        "\n",
        "numbers = [5,8,1,0,6,9]"
      ]
    },
    {
      "cell_type": "code",
      "execution_count": 35,
      "metadata": {
        "id": "598DAkIHvQav",
        "colab": {
          "base_uri": "https://localhost:8080/"
        },
        "outputId": "9b5287ce-f0a8-4db6-89ab-99ef99f547af"
      },
      "outputs": [
        {
          "output_type": "stream",
          "name": "stdout",
          "text": [
            "[0, 1, 2, 3, 4, 5, 6, 7, 8, 9]\n",
            "{2, 3, 4, 7}\n",
            "16\n"
          ]
        }
      ],
      "source": [
        "numbers = [5,8,1,0,6,9]\n",
        "\n",
        "#0 부터 9 까지 숫자를 준비\n",
        "all_numbers = list(range(10))\n",
        "\n",
        "print(all_numbers)\n",
        "\n",
        "#numbers 리스트에 없는 숫자 찾기\n",
        "missing_numbers = set(all_numbers) - set(numbers)\n",
        "\n",
        "print(missing_numbers)\n",
        "\n",
        "#없는 숫자 더하기\n",
        "result = sum(missing_numbers)\n",
        "\n",
        "print(result)"
      ]
    }
  ],
  "metadata": {
    "colab": {
      "provenance": []
    },
    "kernelspec": {
      "display_name": "Python 3",
      "name": "python3"
    },
    "language_info": {
      "codemirror_mode": {
        "name": "ipython",
        "version": 3
      },
      "file_extension": ".py",
      "mimetype": "text/x-python",
      "name": "python",
      "nbconvert_exporter": "python",
      "pygments_lexer": "ipython3",
      "version": "3.11.7"
    }
  },
  "nbformat": 4,
  "nbformat_minor": 0
}