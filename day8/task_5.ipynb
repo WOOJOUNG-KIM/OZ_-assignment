{
 "cells": [
  {
   "cell_type": "markdown",
   "metadata": {},
   "source": [
    "[문제]\n",
    "\n",
    "'Account' 클래스를 작성하세요. \n",
    "\n",
    "이 클래스는 소유자(owner)와 잔액(balance)을 속성으로 가지며, 잔액은 프라이빗 변수로 선언합니다. \n",
    "\n",
    "'deposit'와 'withdraw' 두 개의 메소드를 통해 잔액을 조작할 수 있도록 하세요. \n",
    "\n",
    "이 때, 잔액은 음수가 될 수 없도록 체크해야 합니다. 'Account' 객체를 생성하고,<br>\n",
    "입금 및 출금 작업을 시뮬레이션한 후, 최종 잔액을 출력하세요."
   ]
  },
  {
   "cell_type": "code",
   "execution_count": 4,
   "metadata": {},
   "outputs": [
    {
     "name": "stdout",
     "output_type": "stream",
     "text": [
      "50000원 입금 \t 잔액: 150000원\n",
      "30000원 출금 \t 잔액: 120000원\n",
      "120000원\n"
     ]
    }
   ],
   "source": [
    "# 'Account' 클래스를 작성하세요\n",
    "class Account:\n",
    "# 이클래스는 소유자(owner)와 잔액(balance)을 속성으로 가지며, 잔액은 프라이빗 변수로 선언합니다\n",
    "    #자고로 프라이빗은 변수 앞에 '_' 2개를 추가하여 선언 가능하다\n",
    "    def __init__(self, owner, balance):\n",
    "        self.owner = owner\n",
    "        self.__balance = balance\n",
    "\n",
    "# 'deposit'입금 과 'withdraw'출금 두 개의 메소드를 통해 잔액을 조작할수 있도록 하세요.\n",
    "\n",
    "# 입금 메소드를 만든다\n",
    "# 추가적으로 거래금액 을 amount 로 지정 \n",
    "    def deposit(self, amount):\n",
    "        # 만약 거래금액이 0 보다 많으면 입금\n",
    "        # 그리고 이때 입금은 음수가 될 수 없도록 체크\n",
    "        if amount > 0:\n",
    "            # 잔액을 프라이빗 변수로 지정한 잔액에 저장\n",
    "            self.__balance += amount   \n",
    "            # 결과에 입금한 금액와 잔액을 표시\n",
    "            print(f'{amount}원 입금 \\t 잔액: {self.__balance}원')\n",
    "        # 만약 0보다 적거나 양수가 아닐시\n",
    "        else:\n",
    "            # 결과에 숫자로 표기 하거나 0보다 커야한다는 답을 표기\n",
    "            print('숫자로 표기 하시거나 0보다 커야 합니다.')\n",
    "# 출금 메소드를 만든다\n",
    "# 여기도 추가적으로 거래금액 을 amount 로 지정\n",
    "    def withdraw(self, amount):\n",
    "        # 여기도 만약 거래금액이 0보다 많으면 출금\n",
    "        # 그리고 이때 출금도 음수가 될수 없도록 체크\n",
    "        if amount > 0:\n",
    "            # 거래금액 이 잔고 보다 많을시 출금을 못하게 만들고\n",
    "            # 작액을 프라이빗 변수로 지정한 잔액에 저장\n",
    "            if amount <= self.__balance:\n",
    "                self.__balance -= amount\n",
    "            # 결과에 출금한 금액과 잔액을 표기\n",
    "                print(f'{amount}원 출금 \\t 잔액: {self.__balance}원')\n",
    "            # 또는 거래금액 이 잔고 보다 많을시 출금을 못하게 만든다\n",
    "            else:\n",
    "                # 결과에 잔액이 부족합니다 표기\n",
    "                print('잔액이 부족합니다')\n",
    "        # 만약 숫자나 0보다 작으면 '숫자를 입력 0보다 크게' 라는 표기\n",
    "        else:\n",
    "            print('숫자를 표기하거나 출금액이 0보다 커야합니다')\n",
    "    # 최종 잔액을 출력하기 위해 다시 올라와\n",
    "    # 잔핵 조회 메소드를 만든다 ㅠㅠ\n",
    "    def bring_balance(self):\n",
    "        # return 을 가용 하여 저장된 잔액을 반환 받는다\n",
    "        return self.__balance\n",
    "\n",
    "# 클라스에 있는 'Account'의 객체를 생성하고\n",
    "# 파파고 번역에서 계좌 라고 나오는데..... task_4 를 참고해서\n",
    "# Account() 안에 소유자(owner) 잔액(balance) 를 넣는다\n",
    "a = Account('익명',100000)\n",
    "# 입금 및 출금 작업을 시뮬레이션한 후\n",
    "a.deposit(50000)       # 입금 시뮬레이션\n",
    "a.withdraw(30000)      # 출금 시뮬레이션\n",
    "# 최종 잔액을 출력하세요\n",
    "print(f'{a.bring_balance()}원')"
   ]
  }
 ],
 "metadata": {
  "kernelspec": {
   "display_name": "Python 3",
   "language": "python",
   "name": "python3"
  },
  "language_info": {
   "codemirror_mode": {
    "name": "ipython",
    "version": 3
   },
   "file_extension": ".py",
   "mimetype": "text/x-python",
   "name": "python",
   "nbconvert_exporter": "python",
   "pygments_lexer": "ipython3",
   "version": "3.13.1"
  }
 },
 "nbformat": 4,
 "nbformat_minor": 2
}
