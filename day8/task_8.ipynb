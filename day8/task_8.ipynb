{
 "cells": [
  {
   "cell_type": "markdown",
   "metadata": {},
   "source": [
    "여러분이 자주 사용하는 수학적 연산<br>\n",
    "(예: 삼각형 넓이, 원의 넓이, 직육면체의 넓이)을 수행하는 함수들을 포함하는 mymath.py라는 이름의 모듈을 만드세요. \n",
    "\n",
    "이 모듈을 사용하여 작성된 함수들을 실제로 임포트하고 사용하는 간단한 프로그램을 작성하세요."
   ]
  },
  {
   "cell_type": "code",
   "execution_count": 4,
   "metadata": {},
   "outputs": [
    {
     "name": "stdout",
     "output_type": "stream",
     "text": [
      "넓이를 구하는 문제\n",
      "밑변20, 높이12 상각형의 넓이: 120.0\n",
      "반지금 16 원의 넓이: 804.247719318987\n",
      "밑변 가로 8, 밑변 세로 6, 높이 7 직육면체의 넓이292\n"
     ]
    }
   ],
   "source": [
    "# mymath 모듈 임포트 하기\n",
    "import mymath\n",
    "# def 를 이용해 result() 를 함수로 지정\n",
    "def main():\n",
    "    print('넓이를 구하는 문제')\n",
    "\n",
    "    # 삼각형의 넚이\n",
    "    bottom = 20   # 밑변\n",
    "    height = 12   # 높이\n",
    "    print(f'밑변{bottom}, 높이{height} 상각형의 넓이: {mymath.triangle_area(bottom, height)}')\n",
    "\n",
    "    # 원의 넚이\n",
    "    radius = 16   #반지름\n",
    "    print(f'반지금 {radius} 원의 넓이: {mymath.circle_area(radius)}')\n",
    "\n",
    "    # 직육면체의 넓이\n",
    "    width, length, height = 8, 6, 7  # 밑변 가로 , 밑변 세로, 높이\n",
    "    print(f'밑변 가로 {width}, 밑변 세로 {length}, 높이 {height} 직육면체의 넓이{mymath.rectangular_area(width , length , height)}')\n",
    "\n",
    "if __name__ == \"__main__\":\n",
    "    main()\n",
    "\n",
    "\n",
    "\n",
    "    #드이어....... 됐다........"
   ]
  },
  {
   "cell_type": "markdown",
   "metadata": {},
   "source": []
  }
 ],
 "metadata": {
  "kernelspec": {
   "display_name": "Python 3",
   "language": "python",
   "name": "python3"
  },
  "language_info": {
   "codemirror_mode": {
    "name": "ipython",
    "version": 3
   },
   "file_extension": ".py",
   "mimetype": "text/x-python",
   "name": "python",
   "nbconvert_exporter": "python",
   "pygments_lexer": "ipython3",
   "version": "3.13.1"
  }
 },
 "nbformat": 4,
 "nbformat_minor": 2
}
